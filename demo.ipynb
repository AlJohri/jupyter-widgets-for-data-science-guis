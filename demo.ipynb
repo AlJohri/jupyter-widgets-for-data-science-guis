{
 "cells": [
  {
   "cell_type": "code",
   "execution_count": 1,
   "metadata": {
    "collapsed": true
   },
   "outputs": [],
   "source": [
    "from transclass import Labeller, read_input"
   ]
  },
  {
   "cell_type": "code",
   "execution_count": 3,
   "metadata": {
    "collapsed": true
   },
   "outputs": [],
   "source": [
    "transactions = read_input()\n",
    "CATEGORIES = ['mobile', 'travel', 'food']"
   ]
  },
  {
   "cell_type": "code",
   "execution_count": 4,
   "metadata": {},
   "outputs": [
    {
     "data": {
      "application/vnd.jupyter.widget-view+json": {
       "model_id": "fca23ddbd5c24935b1fbfafd08d37e6c",
       "version_major": 2,
       "version_minor": 0
      },
      "text/html": [
       "<p>Failed to display Jupyter Widget of type <code>VBox</code>.</p>\n",
       "<p>\n",
       "  If you're reading this message in Jupyter Notebook or JupyterLab, it may mean\n",
       "  that the widgets JavaScript is still loading. If this message persists, it\n",
       "  likely means that the widgets JavaScript library is either not installed or\n",
       "  not enabled. See the <a href=\"https://ipywidgets.readthedocs.io/en/stable/user_install.html\">Jupyter\n",
       "  Widgets Documentation</a> for setup instructions.\n",
       "</p>\n",
       "<p>\n",
       "  If you're reading this message in another notebook frontend (for example, a static\n",
       "  rendering on GitHub or <a href=\"https://nbviewer.jupyter.org/\">NBViewer</a>),\n",
       "  it may mean that your frontend doesn't currently support widgets.\n",
       "</p>\n"
      ],
      "text/plain": [
       "VBox(children=(HBox(children=(HTML(value='<b>Memo</b>', layout=Layout(width='300px')), HTML(value='<b>Correct</b>', layout=Layout(width='200px')), HTML(value='<b>Predicted</b>', layout=Layout(width='200px')), HTML(value='<b>Probability</b>', layout=Layout(width='100px')))), VBox(children=(HBox(children=(Label(value='BT GROUP PLC ', layout=Layout(width='300px')), Dropdown(layout=Layout(width='200px'), options=('', 'mobile', 'travel', 'food'), value=''), Label(value='travel', layout=Layout(width='100px')), FloatProgress(value=0.3335399260858368, description='0.334', layout=Layout(width='400px'), max=1.0, min=0.3333333333333333)), layout=Layout(flex='1 0 auto')), HBox(children=(Label(value='Non-Sterling Transaction Fee', layout=Layout(width='300px')), Dropdown(layout=Layout(width='200px'), options=('', 'mobile', 'travel', 'food'), value=''), Label(value='travel', layout=Layout(width='100px')), FloatProgress(value=0.3335399260858368, description='0.334', layout=Layout(width='400px'), max=1.0, min=0.3333333333333333)), layout=Layout(flex='1 0 auto')), HBox(children=(Label(value=\"INT'L 0069152917 Amazon web service aws.amazon.co USD 57.13 @ 1.2293 Visa Rate\", layout=Layout(width='300px')), Dropdown(layout=Layout(width='200px'), options=('', 'mobile', 'travel', 'food'), value=''), Label(value='travel', layout=Layout(width='100px')), FloatProgress(value=0.3335399260858368, description='0.334', layout=Layout(width='400px'), max=1.0, min=0.3333333333333333)), layout=Layout(flex='1 0 auto')), HBox(children=(Label(value='EASYJET     000ERC LUTON, BEDS', layout=Layout(width='300px')), Dropdown(layout=Layout(width='200px'), options=('', 'mobile', 'travel', 'food'), value=''), Label(value='travel', layout=Layout(width='100px')), FloatProgress(value=0.3335399260858368, description='0.334', layout=Layout(width='400px'), max=1.0, min=0.3333333333333333)), layout=Layout(flex='1 0 auto')), HBox(children=(Label(value='TESCO STORES 6109 GREENFORD', layout=Layout(width='300px')), Dropdown(layout=Layout(width='200px'), options=('', 'mobile', 'travel', 'food'), value=''), Label(value='travel', layout=Layout(width='100px')), FloatProgress(value=0.3335399260858368, description='0.334', layout=Layout(width='400px'), max=1.0, min=0.3333333333333333)), layout=Layout(flex='1 0 auto')), HBox(children=(Label(value='TESCO STORES 5244 KILBURN', layout=Layout(width='300px')), Dropdown(layout=Layout(width='200px'), options=('', 'mobile', 'travel', 'food'), value=''), Label(value='travel', layout=Layout(width='100px')), FloatProgress(value=0.3335399260858368, description='0.334', layout=Layout(width='400px'), max=1.0, min=0.3333333333333333)), layout=Layout(flex='1 0 auto')), HBox(children=(Label(value='MOMENT LONDON', layout=Layout(width='300px')), Dropdown(layout=Layout(width='200px'), options=('', 'mobile', 'travel', 'food'), value=''), Label(value='travel', layout=Layout(width='100px')), FloatProgress(value=0.3335399260858368, description='0.334', layout=Layout(width='400px'), max=1.0, min=0.3333333333333333)), layout=Layout(flex='1 0 auto')), HBox(children=(Label(value='LONDIS LONDON  NW8', layout=Layout(width='300px')), Dropdown(layout=Layout(width='200px'), options=('', 'mobile', 'travel', 'food'), value=''), Label(value='travel', layout=Layout(width='100px')), FloatProgress(value=0.3335399260858368, description='0.334', layout=Layout(width='400px'), max=1.0, min=0.3333333333333333)), layout=Layout(flex='1 0 auto')), HBox(children=(Label(value='LYTTLETON ARMS LONDON  NW1 4', layout=Layout(width='300px')), Dropdown(layout=Layout(width='200px'), options=('', 'mobile', 'travel', 'food'), value=''), Label(value='travel', layout=Layout(width='100px')), FloatProgress(value=0.3335399260858368, description='0.334', layout=Layout(width='400px'), max=1.0, min=0.3333333333333333)), layout=Layout(flex='1 0 auto')), HBox(children=(Label(value='PRET A MANGER LONDON', layout=Layout(width='300px')), Dropdown(layout=Layout(width='200px'), options=('', 'mobile', 'travel', 'food'), value=''), Label(value='travel', layout=Layout(width='100px')), FloatProgress(value=0.3335399260858368, description='0.334', layout=Layout(width='400px'), max=1.0, min=0.3333333333333333)), layout=Layout(flex='1 0 auto')), HBox(children=(Label(value='TESCO STORES 6109 GREENFORD', layout=Layout(width='300px')), Dropdown(layout=Layout(width='200px'), options=('', 'mobile', 'travel', 'food'), value=''), Label(value='travel', layout=Layout(width='100px')), FloatProgress(value=0.3335399260858368, description='0.334', layout=Layout(width='400px'), max=1.0, min=0.3333333333333333)), layout=Layout(flex='1 0 auto')), HBox(children=(Label(value='CASH RB SCOT OCT26 TESCO MORE L@08:19', layout=Layout(width='300px')), Dropdown(layout=Layout(width='200px'), options=('', 'mobile', 'travel', 'food'), value=''), Label(value='travel', layout=Layout(width='100px')), FloatProgress(value=0.3335399260858368, description='0.334', layout=Layout(width='400px'), max=1.0, min=0.3333333333333333)), layout=Layout(flex='1 0 auto')), HBox(children=(Label(value='WH SMITH LONDON', layout=Layout(width='300px')), Dropdown(layout=Layout(width='200px'), options=('', 'mobile', 'travel', 'food'), value=''), Label(value='travel', layout=Layout(width='100px')), FloatProgress(value=0.3335399260858368, description='0.334', layout=Layout(width='400px'), max=1.0, min=0.3333333333333333)), layout=Layout(flex='1 0 auto')), HBox(children=(Label(value='NEW SOUTHERN RAILW HORLEY 9132', layout=Layout(width='300px')), Dropdown(layout=Layout(width='200px'), options=('', 'mobile', 'travel', 'food'), value=''), Label(value='travel', layout=Layout(width='100px')), FloatProgress(value=0.3335399260858368, description='0.334', layout=Layout(width='400px'), max=1.0, min=0.3333333333333333)), layout=Layout(flex='1 0 auto')), HBox(children=(Label(value='AIRBNB 14158005959', layout=Layout(width='300px')), Dropdown(layout=Layout(width='200px'), options=('', 'mobile', 'travel', 'food'), value=''), Label(value='travel', layout=Layout(width='100px')), FloatProgress(value=0.3335399260858368, description='0.334', layout=Layout(width='400px'), max=1.0, min=0.3333333333333333)), layout=Layout(flex='1 0 auto')), HBox(children=(Label(value='JAMIES ITALIAN GATWICK', layout=Layout(width='300px')), Dropdown(layout=Layout(width='200px'), options=('', 'mobile', 'travel', 'food'), value=''), Label(value='travel', layout=Layout(width='100px')), FloatProgress(value=0.3335399260858368, description='0.334', layout=Layout(width='400px'), max=1.0, min=0.3333333333333333)), layout=Layout(flex='1 0 auto')), HBox(children=(Label(value='COMEDY LONDON', layout=Layout(width='300px')), Dropdown(layout=Layout(width='200px'), options=('', 'mobile', 'travel', 'food'), value=''), Label(value='travel', layout=Layout(width='100px')), FloatProgress(value=0.3335399260858368, description='0.334', layout=Layout(width='400px'), max=1.0, min=0.3333333333333333)), layout=Layout(flex='1 0 auto')), HBox(children=(Label(value='BUSABA LEICESTER S LONDON', layout=Layout(width='300px')), Dropdown(layout=Layout(width='200px'), options=('', 'mobile', 'travel', 'food'), value=''), Label(value='travel', layout=Layout(width='100px')), FloatProgress(value=0.3335399260858368, description='0.334', layout=Layout(width='400px'), max=1.0, min=0.3333333333333333)), layout=Layout(flex='1 0 auto')), HBox(children=(Label(value='NEW SOUTHERN RAILW LND SW1V 5973', layout=Layout(width='300px')), Dropdown(layout=Layout(width='200px'), options=('', 'mobile', 'travel', 'food'), value=''), Label(value='travel', layout=Layout(width='100px')), FloatProgress(value=0.3335399260858368, description='0.334', layout=Layout(width='400px'), max=1.0, min=0.3333333333333333)), layout=Layout(flex='1 0 auto')), HBox(children=(Label(value='SARDO COFFEE SHOP LONDON  W1T', layout=Layout(width='300px')), Dropdown(layout=Layout(width='200px'), options=('', 'mobile', 'travel', 'food'), value=''), Label(value='travel', layout=Layout(width='100px')), FloatProgress(value=0.3335399260858368, description='0.334', layout=Layout(width='400px'), max=1.0, min=0.3333333333333333)), layout=Layout(flex='1 0 auto')), HBox(children=(Label(value='TESCO STORES 3479 ST JOHNS WOOD', layout=Layout(width='300px')), Dropdown(layout=Layout(width='200px'), options=('', 'mobile', 'travel', 'food'), value=''), Label(value='travel', layout=Layout(width='100px')), FloatProgress(value=0.3335399260858368, description='0.334', layout=Layout(width='400px'), max=1.0, min=0.3333333333333333)), layout=Layout(flex='1 0 auto')), HBox(children=(Label(value='SICILIANA LONDON', layout=Layout(width='300px')), Dropdown(layout=Layout(width='200px'), options=('', 'mobile', 'travel', 'food'), value=''), Label(value='travel', layout=Layout(width='100px')), FloatProgress(value=0.3335399260858368, description='0.334', layout=Layout(width='400px'), max=1.0, min=0.3333333333333333)), layout=Layout(flex='1 0 auto')), HBox(children=(Label(value='TESCO STORES 2722 EUSTON', layout=Layout(width='300px')), Dropdown(layout=Layout(width='200px'), options=('', 'mobile', 'travel', 'food'), value=''), Label(value='travel', layout=Layout(width='100px')), FloatProgress(value=0.3335399260858368, description='0.334', layout=Layout(width='400px'), max=1.0, min=0.3333333333333333)), layout=Layout(flex='1 0 auto')), HBox(children=(Label(value='TASKRABBIT 2PHQ8 T 02086109298', layout=Layout(width='300px')), Dropdown(layout=Layout(width='200px'), options=('', 'mobile', 'travel', 'food'), value=''), Label(value='travel', layout=Layout(width='100px')), FloatProgress(value=0.3335399260858368, description='0.334', layout=Layout(width='400px'), max=1.0, min=0.3333333333333333)), layout=Layout(flex='1 0 auto')), HBox(children=(Label(value='RELISH ', layout=Layout(width='300px')), Dropdown(layout=Layout(width='200px'), options=('', 'mobile', 'travel', 'food'), value=''), Label(value='travel', layout=Layout(width='100px')), FloatProgress(value=0.3335399260858368, description='0.334', layout=Layout(width='400px'), max=1.0, min=0.3333333333333333)), layout=Layout(flex='1 0 auto')), HBox(children=(Label(value=\"INT'L 0092766987 Amazon UK Retail AMAZON.CO.UK\", layout=Layout(width='300px')), Dropdown(layout=Layout(width='200px'), options=('', 'mobile', 'travel', 'food'), value=''), Label(value='travel', layout=Layout(width='100px')), FloatProgress(value=0.7477581384963264, description='0.748', layout=Layout(width='400px'), max=1.0, min=0.3333333333333333)), layout=Layout(flex='1 0 auto')), HBox(children=(Label(value='SAINSBURYS S/MKTS WARREN STREET', layout=Layout(width='300px')), Dropdown(index=3, layout=Layout(width='200px'), options=('', 'mobile', 'travel', 'food'), value='food'), Label(value='food', layout=Layout(width='100px')), FloatProgress(value=0.989287304062486, description='0.989', layout=Layout(width='400px'), max=1.0, min=0.3333333333333333)), layout=Layout(flex='1 0 auto')), HBox(children=(Label(value='TFL.GOV.UK/CP TFL TRAVEL CH', layout=Layout(width='300px')), Dropdown(layout=Layout(width='200px'), options=('', 'mobile', 'travel', 'food'), value=''), Label(value='travel', layout=Layout(width='100px')), FloatProgress(value=0.9897992814777781, description='0.990', layout=Layout(width='400px'), max=1.0, min=0.3333333333333333)), layout=Layout(flex='1 0 auto')), HBox(children=(Label(value='TFL.GOV.UK/CP TFL TRAVEL CH', layout=Layout(width='300px')), Dropdown(index=2, layout=Layout(width='200px'), options=('', 'mobile', 'travel', 'food'), value='travel'), Label(value='travel', layout=Layout(width='100px')), FloatProgress(value=0.9897992814777781, description='0.990', layout=Layout(width='400px'), max=1.0, min=0.3333333333333333)), layout=Layout(flex='1 0 auto')), HBox(children=(Label(value='TFL.GOV.UK/CP TFL TRAVEL CH', layout=Layout(width='300px')), Dropdown(layout=Layout(width='200px'), options=('', 'mobile', 'travel', 'food'), value=''), Label(value='travel', layout=Layout(width='100px')), FloatProgress(value=0.9897992814777781, description='0.990', layout=Layout(width='400px'), max=1.0, min=0.3333333333333333)), layout=Layout(flex='1 0 auto')), HBox(children=(Label(value='TFL.GOV.UK/CP TFL TRAVEL CH', layout=Layout(width='300px')), Dropdown(layout=Layout(width='200px'), options=('', 'mobile', 'travel', 'food'), value=''), Label(value='travel', layout=Layout(width='100px')), FloatProgress(value=0.9897992814777781, description='0.990', layout=Layout(width='400px'), max=1.0, min=0.3333333333333333)), layout=Layout(flex='1 0 auto')), HBox(children=(Label(value='TFL.GOV.UK/CP TFL TRAVEL CH', layout=Layout(width='300px')), Dropdown(layout=Layout(width='200px'), options=('', 'mobile', 'travel', 'food'), value=''), Label(value='travel', layout=Layout(width='100px')), FloatProgress(value=0.9897992814777781, description='0.990', layout=Layout(width='400px'), max=1.0, min=0.3333333333333333)), layout=Layout(flex='1 0 auto')), HBox(children=(Label(value='TFL.GOV.UK/CP TFL TRAVEL CH', layout=Layout(width='300px')), Dropdown(layout=Layout(width='200px'), options=('', 'mobile', 'travel', 'food'), value=''), Label(value='travel', layout=Layout(width='100px')), FloatProgress(value=0.9897992814777781, description='0.990', layout=Layout(width='400px'), max=1.0, min=0.3333333333333333)), layout=Layout(flex='1 0 auto')), HBox(children=(Label(value='TFL.GOV.UK/CP TFL TRAVEL CH', layout=Layout(width='300px')), Dropdown(layout=Layout(width='200px'), options=('', 'mobile', 'travel', 'food'), value=''), Label(value='travel', layout=Layout(width='100px')), FloatProgress(value=0.9897992814777781, description='0.990', layout=Layout(width='400px'), max=1.0, min=0.3333333333333333)), layout=Layout(flex='1 0 auto')), HBox(children=(Label(value='TFL.GOV.UK/CP TFL TRAVEL CH', layout=Layout(width='300px')), Dropdown(layout=Layout(width='200px'), options=('', 'mobile', 'travel', 'food'), value=''), Label(value='travel', layout=Layout(width='100px')), FloatProgress(value=0.9897992814777781, description='0.990', layout=Layout(width='400px'), max=1.0, min=0.3333333333333333)), layout=Layout(flex='1 0 auto')), HBox(children=(Label(value='TFL.GOV.UK/CP TFL TRAVEL CH', layout=Layout(width='300px')), Dropdown(layout=Layout(width='200px'), options=('', 'mobile', 'travel', 'food'), value=''), Label(value='travel', layout=Layout(width='100px')), FloatProgress(value=0.9897992814777781, description='0.990', layout=Layout(width='400px'), max=1.0, min=0.3333333333333333)), layout=Layout(flex='1 0 auto')), HBox(children=(Label(value='TFL.GOV.UK/CP TFL TRAVEL CH', layout=Layout(width='300px')), Dropdown(layout=Layout(width='200px'), options=('', 'mobile', 'travel', 'food'), value=''), Label(value='travel', layout=Layout(width='100px')), FloatProgress(value=0.9897992814777781, description='0.990', layout=Layout(width='400px'), max=1.0, min=0.3333333333333333)), layout=Layout(flex='1 0 auto')), HBox(children=(Label(value='TFL.GOV.UK/CP TFL TRAVEL CH', layout=Layout(width='300px')), Dropdown(layout=Layout(width='200px'), options=('', 'mobile', 'travel', 'food'), value=''), Label(value='travel', layout=Layout(width='100px')), FloatProgress(value=0.9897992814777781, description='0.990', layout=Layout(width='400px'), max=1.0, min=0.3333333333333333)), layout=Layout(flex='1 0 auto')), HBox(children=(Label(value='TFL.GOV.UK/CP TFL TRAVEL CH', layout=Layout(width='300px')), Dropdown(layout=Layout(width='200px'), options=('', 'mobile', 'travel', 'food'), value=''), Label(value='travel', layout=Layout(width='100px')), FloatProgress(value=0.9897992814777781, description='0.990', layout=Layout(width='400px'), max=1.0, min=0.3333333333333333)), layout=Layout(flex='1 0 auto')), HBox(children=(Label(value='TFL.GOV.UK/CP TFL TRAVEL CH', layout=Layout(width='300px')), Dropdown(layout=Layout(width='200px'), options=('', 'mobile', 'travel', 'food'), value=''), Label(value='travel', layout=Layout(width='100px')), FloatProgress(value=0.9897992814777781, description='0.990', layout=Layout(width='400px'), max=1.0, min=0.3333333333333333)), layout=Layout(flex='1 0 auto')), HBox(children=(Label(value='TFL.GOV.UK/CP TFL TRAVEL CH', layout=Layout(width='300px')), Dropdown(layout=Layout(width='200px'), options=('', 'mobile', 'travel', 'food'), value=''), Label(value='travel', layout=Layout(width='100px')), FloatProgress(value=0.9897992814777781, description='0.990', layout=Layout(width='400px'), max=1.0, min=0.3333333333333333)), layout=Layout(flex='1 0 auto')), HBox(children=(Label(value='EE  &  T-MOBILE ', layout=Layout(width='300px')), Dropdown(index=1, layout=Layout(width='200px'), options=('', 'mobile', 'travel', 'food'), value='mobile'), Label(value='mobile', layout=Layout(width='100px')), FloatProgress(value=0.98981613221876, description='0.990', layout=Layout(width='400px'), max=1.0, min=0.3333333333333333)), layout=Layout(flex='1 0 auto'))), layout=Layout(height='20em', overflow_y='scroll')), HBox(children=(Button(description='retrain', style=ButtonStyle()),))))"
      ]
     },
     "metadata": {},
     "output_type": "display_data"
    }
   ],
   "source": [
    "labeller = Labeller(transactions, CATEGORIES)\n",
    "labeller.render()"
   ]
  },
  {
   "cell_type": "code",
   "execution_count": null,
   "metadata": {
    "collapsed": true
   },
   "outputs": [],
   "source": []
  }
 ],
 "metadata": {
  "kernelspec": {
   "display_name": "Python [conda env:Python3]",
   "language": "python",
   "name": "conda-env-Python3-py"
  },
  "language_info": {
   "codemirror_mode": {
    "name": "ipython",
    "version": 3
   },
   "file_extension": ".py",
   "mimetype": "text/x-python",
   "name": "python",
   "nbconvert_exporter": "python",
   "pygments_lexer": "ipython3",
   "version": "3.6.1"
  },
  "widgets": {
   "application/vnd.jupyter.widget-state+json": {
    "state": {
     "0093da9d41fb475a97b1d27aff35ec9a": {
      "model_module": "@jupyter-widgets/base",
      "model_module_version": "1.0.0",
      "model_name": "LayoutModel",
      "state": {
       "width": "200px"
      }
     },
     "016ff5bbb72f4df4b97917d920b5df59": {
      "model_module": "@jupyter-widgets/controls",
      "model_module_version": "1.0.0",
      "model_name": "DescriptionStyleModel",
      "state": {
       "description_width": ""
      }
     },
     "01dd63680e354ef3b4b6987ff5166be4": {
      "model_module": "@jupyter-widgets/controls",
      "model_module_version": "1.0.0",
      "model_name": "DescriptionStyleModel",
      "state": {
       "description_width": ""
      }
     },
     "01ef33eecbf1468fa2e111db3a61a235": {
      "model_module": "@jupyter-widgets/controls",
      "model_module_version": "1.0.0",
      "model_name": "DescriptionStyleModel",
      "state": {
       "description_width": ""
      }
     },
     "039e24469ead4c8e85f5a47e30ddd719": {
      "model_module": "@jupyter-widgets/base",
      "model_module_version": "1.0.0",
      "model_name": "LayoutModel",
      "state": {
       "flex": "1 0 auto"
      }
     },
     "0493d3668a3045378a4873266dec1ada": {
      "model_module": "@jupyter-widgets/controls",
      "model_module_version": "1.0.0",
      "model_name": "LabelModel",
      "state": {
       "layout": "IPY_MODEL_4871f64e6b254ce898830fba33fb3b9a",
       "style": "IPY_MODEL_39fd8d20f7a84b4aa0f4abc6b16704a8",
       "value": "travel"
      }
     },
     "04a76f1a2abe4f09b4bf193981c8dcb3": {
      "model_module": "@jupyter-widgets/base",
      "model_module_version": "1.0.0",
      "model_name": "LayoutModel",
      "state": {
       "flex": "1 0 auto"
      }
     },
     "04cd0ab470a344468d527c80522da674": {
      "model_module": "@jupyter-widgets/controls",
      "model_module_version": "1.0.0",
      "model_name": "LabelModel",
      "state": {
       "layout": "IPY_MODEL_8a05ed60e33a43c480b0c08ddbbe9ac5",
       "style": "IPY_MODEL_ee55e637c8ec447b8a1fae5f03e3bf25",
       "value": "travel"
      }
     },
     "04feefbedce34e01bad6f95573e3ba1c": {
      "model_module": "@jupyter-widgets/controls",
      "model_module_version": "1.0.0",
      "model_name": "DescriptionStyleModel",
      "state": {
       "description_width": ""
      }
     },
     "0551a2a1bf7e450a8f3e15d1770bc043": {
      "model_module": "@jupyter-widgets/controls",
      "model_module_version": "1.0.0",
      "model_name": "DescriptionStyleModel",
      "state": {
       "description_width": ""
      }
     },
     "06da48c466bc4b5fb2f32ba4b41f4f63": {
      "model_module": "@jupyter-widgets/controls",
      "model_module_version": "1.0.0",
      "model_name": "DescriptionStyleModel",
      "state": {
       "description_width": ""
      }
     },
     "081c146d21c64e0fa0465d7d21ab0cf9": {
      "model_module": "@jupyter-widgets/controls",
      "model_module_version": "1.0.0",
      "model_name": "DescriptionStyleModel",
      "state": {
       "description_width": ""
      }
     },
     "089909ec416148e9b88ab48257d1d9a7": {
      "model_module": "@jupyter-widgets/controls",
      "model_module_version": "1.0.0",
      "model_name": "DropdownModel",
      "state": {
       "_options_labels": [
        "",
        "mobile",
        "travel",
        "food"
       ],
       "index": 0,
       "layout": "IPY_MODEL_40c00443b22e43639ccb267f34d0a233",
       "style": "IPY_MODEL_7d6ed51186bb478fb4942d68e7b61ed4"
      }
     },
     "09a3d189b1964dfaa4b8c66ebd87e14e": {
      "model_module": "@jupyter-widgets/controls",
      "model_module_version": "1.0.0",
      "model_name": "DescriptionStyleModel",
      "state": {
       "description_width": ""
      }
     },
     "09a589a1ab9c4f7397a6b75d70ddf6be": {
      "model_module": "@jupyter-widgets/controls",
      "model_module_version": "1.0.0",
      "model_name": "ProgressStyleModel",
      "state": {
       "description_width": ""
      }
     },
     "0a01660ee7864d9fb913b09f2b6d118e": {
      "model_module": "@jupyter-widgets/controls",
      "model_module_version": "1.0.0",
      "model_name": "ProgressStyleModel",
      "state": {
       "description_width": ""
      }
     },
     "0a1d726bec554e5893f7788900dd8c22": {
      "model_module": "@jupyter-widgets/controls",
      "model_module_version": "1.0.0",
      "model_name": "VBoxModel",
      "state": {
       "children": [
        "IPY_MODEL_85b8160d8a594d76825895d8697b6eb2",
        "IPY_MODEL_c974ca3ebfc840fba8eefcce889faf83",
        "IPY_MODEL_99d50d8ad9d2426e81449be2f61399e5",
        "IPY_MODEL_8799d118882f461d89e5984ce8f90cc4",
        "IPY_MODEL_8604bda1939c44f58f4a6babe0ed569b",
        "IPY_MODEL_1ac32649bd7b433baab12d2ba2b3c978",
        "IPY_MODEL_ed8ef193cc7149bc89b871e2009a7fa1",
        "IPY_MODEL_ad40a8ab52624ae28ec51d307dae6ddd",
        "IPY_MODEL_e42941df4da4452a9a8ab37d76d26335",
        "IPY_MODEL_ccddc9fe48fa45c58e5ee6ea3b2b6d0c",
        "IPY_MODEL_b1d3243bbbfb4182968fb53caeb6ffce",
        "IPY_MODEL_2368738865714af88117bdd6a388988a",
        "IPY_MODEL_5a1e04e5c41d408bbf3a88b70f973524",
        "IPY_MODEL_b2db949ded16479caac03b282fd27441",
        "IPY_MODEL_4a8271a9acc64e6b9ed6970125d02833",
        "IPY_MODEL_298a84bbd6e34f0faf296f7e6f3a7987",
        "IPY_MODEL_be8a0aba65094f108f7f6a1035395ab5",
        "IPY_MODEL_31b9a5b0a04e47179692f1df58ed2dc7",
        "IPY_MODEL_54658fd4857e4c0dbcd9c551a18062ab",
        "IPY_MODEL_c51464083da34191a8dc5106d85e66a6",
        "IPY_MODEL_fca5bd0122024180a02326af6752830f",
        "IPY_MODEL_cc9ca5c7521b40b69396493cd7e3289b",
        "IPY_MODEL_d0ed03e19c124ac3bb8936ecb918fd78",
        "IPY_MODEL_acff7d59ff994d08a38b023c8e9025fc",
        "IPY_MODEL_dc74a9ab104b498e8b2330b946cecc08",
        "IPY_MODEL_ac2318c58af9406787444c3b3713e429",
        "IPY_MODEL_5e0e02531aa84faabe7d7032930affed",
        "IPY_MODEL_41bc26cdb9024c10aff393ed17c321ba",
        "IPY_MODEL_bd7b6f4558af491fbccc8f63966ae29a",
        "IPY_MODEL_e1c1dae509104f15a9d9be3d8dfe3209",
        "IPY_MODEL_0f6df4a9d4f442be8a2225569369fa52",
        "IPY_MODEL_d4f647f99a044d0185cfc83a4d3049e5",
        "IPY_MODEL_effa623b0006496cbbc0ef5225462abf",
        "IPY_MODEL_279ce1b78a74428e8ce35b891f44117d",
        "IPY_MODEL_226eff4198b641958cdda5f6aa830f18",
        "IPY_MODEL_65c3b1e536b0497db48d62e4ae897592",
        "IPY_MODEL_487bfdd1ce6440b897f33e24f654fb29",
        "IPY_MODEL_825632b853b54fadb6b8404aacb75177",
        "IPY_MODEL_8558fa243af4478a84c79bfb1059ddc5",
        "IPY_MODEL_f6d7fb9dcc9f4e28b0252dc1f9734cf2",
        "IPY_MODEL_8898231a34c343a099b1d5b5686b669b",
        "IPY_MODEL_203ece24f41f427994acdaf27113a5b7"
       ],
       "layout": "IPY_MODEL_3491fa5c58d0453c9f53af5a3b22b493"
      }
     },
     "0a4a5442a57246ffa1847d5e3b66c874": {
      "model_module": "@jupyter-widgets/controls",
      "model_module_version": "1.0.0",
      "model_name": "LabelModel",
      "state": {
       "layout": "IPY_MODEL_c5ceb411674341e2a4f81d417646d755",
       "style": "IPY_MODEL_924b3944374a4410b30f23feff6d6a0a",
       "value": "TESCO STORES 3479 ST JOHNS WOOD"
      }
     },
     "0afb435563304313912d8a80ab0494d8": {
      "model_module": "@jupyter-widgets/base",
      "model_module_version": "1.0.0",
      "model_name": "LayoutModel",
      "state": {
       "flex": "1 0 auto"
      }
     },
     "0b96ae1ab4414c64a8f85963bad78da7": {
      "model_module": "@jupyter-widgets/base",
      "model_module_version": "1.0.0",
      "model_name": "LayoutModel",
      "state": {
       "width": "300px"
      }
     },
     "0be889730a0846499f52ba520d5358ea": {
      "model_module": "@jupyter-widgets/controls",
      "model_module_version": "1.0.0",
      "model_name": "LabelModel",
      "state": {
       "layout": "IPY_MODEL_18cb2f97c3854a7ab0b8833881398fd2",
       "style": "IPY_MODEL_94d995e66db449d7a989ac18c777c24e",
       "value": "travel"
      }
     },
     "0bf3d482f3644545866f14d41243890c": {
      "model_module": "@jupyter-widgets/base",
      "model_module_version": "1.0.0",
      "model_name": "LayoutModel",
      "state": {
       "width": "200px"
      }
     },
     "0bff07ed7c104c25a23273f7ca0d706e": {
      "model_module": "@jupyter-widgets/controls",
      "model_module_version": "1.0.0",
      "model_name": "LabelModel",
      "state": {
       "layout": "IPY_MODEL_0b96ae1ab4414c64a8f85963bad78da7",
       "style": "IPY_MODEL_71e75682293c4256b42ee36cfc8718ff",
       "value": "RELISH "
      }
     },
     "0da9831b33384e0ea503f476ef2142bc": {
      "model_module": "@jupyter-widgets/controls",
      "model_module_version": "1.0.0",
      "model_name": "DescriptionStyleModel",
      "state": {
       "description_width": ""
      }
     },
     "0f6df4a9d4f442be8a2225569369fa52": {
      "model_module": "@jupyter-widgets/controls",
      "model_module_version": "1.0.0",
      "model_name": "HBoxModel",
      "state": {
       "children": [
        "IPY_MODEL_82cad98989b44922bbbc61d46f540b30",
        "IPY_MODEL_571ba0a288a94b21abdeacf9f2f8106a",
        "IPY_MODEL_a3a0e51c45ff4951b25b5fd036bed3d8",
        "IPY_MODEL_b5b2ec1cee4345b2bdb3f453279c9b21"
       ],
       "layout": "IPY_MODEL_a7b6518e815242c8a05f8d71e635c13e"
      }
     },
     "0fcbe29cb870438db2b936a09c1397d1": {
      "model_module": "@jupyter-widgets/controls",
      "model_module_version": "1.0.0",
      "model_name": "DescriptionStyleModel",
      "state": {
       "description_width": ""
      }
     },
     "1048a4adcf4d49049d57ead8e305a574": {
      "model_module": "@jupyter-widgets/controls",
      "model_module_version": "1.0.0",
      "model_name": "DescriptionStyleModel",
      "state": {
       "description_width": ""
      }
     },
     "10875aca2a694260a47431c2776a853b": {
      "model_module": "@jupyter-widgets/base",
      "model_module_version": "1.0.0",
      "model_name": "LayoutModel",
      "state": {
       "width": "300px"
      }
     },
     "10a3a986d0524327bb550d0617831e44": {
      "model_module": "@jupyter-widgets/base",
      "model_module_version": "1.0.0",
      "model_name": "LayoutModel",
      "state": {
       "width": "300px"
      }
     },
     "11169902884a401f957276ee7f0c618c": {
      "model_module": "@jupyter-widgets/controls",
      "model_module_version": "1.0.0",
      "model_name": "FloatProgressModel",
      "state": {
       "description": "0.334",
       "layout": "IPY_MODEL_80aeff24097b4d6fad5b9a284a7c1f6c",
       "max": 1,
       "min": 0.3333333333333333,
       "style": "IPY_MODEL_b65b3f0355a24aaeb72fbea3b8df7050",
       "value": 0.3335399260858368
      }
     },
     "1116c0d10a1540faa88608d14ba7fb77": {
      "model_module": "@jupyter-widgets/base",
      "model_module_version": "1.0.0",
      "model_name": "LayoutModel",
      "state": {
       "width": "300px"
      }
     },
     "11ff802c849d4442adc581343d291e37": {
      "model_module": "@jupyter-widgets/base",
      "model_module_version": "1.0.0",
      "model_name": "LayoutModel",
      "state": {
       "flex": "1 0 auto"
      }
     },
     "129d62cb9f6040ea891d37dd57e10d04": {
      "model_module": "@jupyter-widgets/controls",
      "model_module_version": "1.0.0",
      "model_name": "DescriptionStyleModel",
      "state": {
       "description_width": ""
      }
     },
     "12e7eec5720b4a8ea767cee4c0e60169": {
      "model_module": "@jupyter-widgets/controls",
      "model_module_version": "1.0.0",
      "model_name": "DropdownModel",
      "state": {
       "_options_labels": [
        "",
        "mobile",
        "travel",
        "food"
       ],
       "index": 0,
       "layout": "IPY_MODEL_745a701c1b414022a2271357da77a9ef",
       "style": "IPY_MODEL_fe6280c4af8b4f9693bc83502d4ba291"
      }
     },
     "133e968c744248a08225708733c4bdbe": {
      "model_module": "@jupyter-widgets/controls",
      "model_module_version": "1.0.0",
      "model_name": "DropdownModel",
      "state": {
       "_options_labels": [
        "",
        "mobile",
        "travel",
        "food"
       ],
       "index": 0,
       "layout": "IPY_MODEL_b466095d2abe4036a5be4287cf96d25b",
       "style": "IPY_MODEL_25df2c030e8c459a907c3cbe27a8a275"
      }
     },
     "1391c6ecebf84b2f9a09590f746cde95": {
      "model_module": "@jupyter-widgets/controls",
      "model_module_version": "1.0.0",
      "model_name": "FloatProgressModel",
      "state": {
       "description": "0.990",
       "layout": "IPY_MODEL_bb6ed2a466fc4c1681995ea556a5b0ce",
       "max": 1,
       "min": 0.3333333333333333,
       "style": "IPY_MODEL_82b5d7b5114046888b12ec4320a9c4de",
       "value": 0.9897992814777781
      }
     },
     "13e38460efbd43cba933016f1e190072": {
      "model_module": "@jupyter-widgets/controls",
      "model_module_version": "1.0.0",
      "model_name": "ProgressStyleModel",
      "state": {
       "description_width": ""
      }
     },
     "142c6532c93f43159eccf149745c526c": {
      "model_module": "@jupyter-widgets/base",
      "model_module_version": "1.0.0",
      "model_name": "LayoutModel",
      "state": {
       "width": "100px"
      }
     },
     "145b1198aa3c45f4b1acec238017f5bd": {
      "model_module": "@jupyter-widgets/controls",
      "model_module_version": "1.0.0",
      "model_name": "FloatProgressModel",
      "state": {
       "description": "0.334",
       "layout": "IPY_MODEL_d7876ca8690647288c6e9246d3da1945",
       "max": 1,
       "min": 0.3333333333333333,
       "style": "IPY_MODEL_39a6a8a440c04f7c8a6c8a8c63e67457",
       "value": 0.3335399260858368
      }
     },
     "147953cf2c4d496eafec2da6cea088a9": {
      "model_module": "@jupyter-widgets/controls",
      "model_module_version": "1.0.0",
      "model_name": "ProgressStyleModel",
      "state": {
       "description_width": ""
      }
     },
     "14b39922664c41caa2c7fb53a3cc3fa5": {
      "model_module": "@jupyter-widgets/controls",
      "model_module_version": "1.0.0",
      "model_name": "DescriptionStyleModel",
      "state": {
       "description_width": ""
      }
     },
     "14c7773be61e4ea69132a04734504d73": {
      "model_module": "@jupyter-widgets/controls",
      "model_module_version": "1.0.0",
      "model_name": "FloatProgressModel",
      "state": {
       "description": "0.334",
       "layout": "IPY_MODEL_c95dbfe742c24bd9bb5ea34c9da87b58",
       "max": 1,
       "min": 0.3333333333333333,
       "style": "IPY_MODEL_4f547fbae24146c28097452917045534",
       "value": 0.3335399260858368
      }
     },
     "14d478a6bbf2494eaf38e6bef91dbd31": {
      "model_module": "@jupyter-widgets/controls",
      "model_module_version": "1.0.0",
      "model_name": "DropdownModel",
      "state": {
       "_options_labels": [
        "",
        "mobile",
        "travel",
        "food"
       ],
       "index": 0,
       "layout": "IPY_MODEL_0bf3d482f3644545866f14d41243890c",
       "style": "IPY_MODEL_3d41885ab567458091f26a8d0c1c500d"
      }
     },
     "14fc939d0cc84d589cb86c5937ea4230": {
      "model_module": "@jupyter-widgets/controls",
      "model_module_version": "1.0.0",
      "model_name": "ProgressStyleModel",
      "state": {
       "description_width": ""
      }
     },
     "1505ff6a2c564cc2af081daae6383608": {
      "model_module": "@jupyter-widgets/controls",
      "model_module_version": "1.0.0",
      "model_name": "DescriptionStyleModel",
      "state": {
       "description_width": ""
      }
     },
     "153b7add675c4d1da7757241f9f59dd7": {
      "model_module": "@jupyter-widgets/controls",
      "model_module_version": "1.0.0",
      "model_name": "LabelModel",
      "state": {
       "layout": "IPY_MODEL_92f1f1319a564e23a52e5df79e11edfe",
       "style": "IPY_MODEL_8ceb44792f4a41a0ba3a59b69de55f3a",
       "value": "travel"
      }
     },
     "1562728652624ce8a61da7916cd1d6ae": {
      "model_module": "@jupyter-widgets/base",
      "model_module_version": "1.0.0",
      "model_name": "LayoutModel",
      "state": {
       "width": "400px"
      }
     },
     "15635383ee1540d79a3b8453519cb57c": {
      "model_module": "@jupyter-widgets/controls",
      "model_module_version": "1.0.0",
      "model_name": "DescriptionStyleModel",
      "state": {
       "description_width": ""
      }
     },
     "167ff8f9e4904ad7af9d4ff97c67ebbe": {
      "model_module": "@jupyter-widgets/base",
      "model_module_version": "1.0.0",
      "model_name": "LayoutModel",
      "state": {
       "width": "100px"
      }
     },
     "16cae06ef3f64342a170227fe4c08f30": {
      "model_module": "@jupyter-widgets/controls",
      "model_module_version": "1.0.0",
      "model_name": "DescriptionStyleModel",
      "state": {
       "description_width": ""
      }
     },
     "17c9f40cef8b41b3ae1796663be6b8f0": {
      "model_module": "@jupyter-widgets/base",
      "model_module_version": "1.0.0",
      "model_name": "LayoutModel",
      "state": {
       "flex": "1 0 auto"
      }
     },
     "17d4995abed04337bc66a442fc2ecf98": {
      "model_module": "@jupyter-widgets/controls",
      "model_module_version": "1.0.0",
      "model_name": "ProgressStyleModel",
      "state": {
       "description_width": ""
      }
     },
     "17f75b612a2b429ea4b6817fb3fd1934": {
      "model_module": "@jupyter-widgets/controls",
      "model_module_version": "1.0.0",
      "model_name": "LabelModel",
      "state": {
       "layout": "IPY_MODEL_6e1e2d187a094073bd15c2b6f22ad416",
       "style": "IPY_MODEL_35c683bf38364bdabf3d1f15ed71ab02",
       "value": "INT'L 0069152917 Amazon web service aws.amazon.co USD 57.13 @ 1.2293 Visa Rate"
      }
     },
     "182435a477df4cc58ff7e282f6a6470d": {
      "model_module": "@jupyter-widgets/base",
      "model_module_version": "1.0.0",
      "model_name": "LayoutModel",
      "state": {
       "width": "400px"
      }
     },
     "1855845435954a7785ce57e07ca11b57": {
      "model_module": "@jupyter-widgets/controls",
      "model_module_version": "1.0.0",
      "model_name": "ProgressStyleModel",
      "state": {
       "description_width": ""
      }
     },
     "18719f5b856444dda4659a1f3cdd2ef5": {
      "model_module": "@jupyter-widgets/base",
      "model_module_version": "1.0.0",
      "model_name": "LayoutModel",
      "state": {
       "flex": "1 0 auto"
      }
     },
     "18a867043115457bb9cff7228a64d390": {
      "model_module": "@jupyter-widgets/controls",
      "model_module_version": "1.0.0",
      "model_name": "DropdownModel",
      "state": {
       "_options_labels": [
        "",
        "mobile",
        "travel",
        "food"
       ],
       "index": 0,
       "layout": "IPY_MODEL_d182cbde62e24da3b57d4daf9763abfe",
       "style": "IPY_MODEL_4dca4d0612ac49fc92d8954615aa1c3f"
      }
     },
     "18cb2f97c3854a7ab0b8833881398fd2": {
      "model_module": "@jupyter-widgets/base",
      "model_module_version": "1.0.0",
      "model_name": "LayoutModel",
      "state": {
       "width": "100px"
      }
     },
     "1ac32649bd7b433baab12d2ba2b3c978": {
      "model_module": "@jupyter-widgets/controls",
      "model_module_version": "1.0.0",
      "model_name": "HBoxModel",
      "state": {
       "children": [
        "IPY_MODEL_1ec10ef4fc954e328c36086c665bb183",
        "IPY_MODEL_34113e83febf400db1c610985845f2f1",
        "IPY_MODEL_7dc845f7b41e4635bcdd312013623b93",
        "IPY_MODEL_c7bc461117454ee8b8dbbc75ded8fcc1"
       ],
       "layout": "IPY_MODEL_b08ee4da68f647b9bc9be7b78d08769b"
      }
     },
     "1c7133f13cac43d894571eb59f03e2e4": {
      "model_module": "@jupyter-widgets/controls",
      "model_module_version": "1.0.0",
      "model_name": "FloatProgressModel",
      "state": {
       "description": "0.334",
       "layout": "IPY_MODEL_6400f9dbdc2f4ed4b48de55b90ffbfd9",
       "max": 1,
       "min": 0.3333333333333333,
       "style": "IPY_MODEL_e46527b3d0694d5dbf68921ff9e27d76",
       "value": 0.3335399260858368
      }
     },
     "1d310cb98b9147b5a540f056f2f51f2a": {
      "model_module": "@jupyter-widgets/base",
      "model_module_version": "1.0.0",
      "model_name": "LayoutModel",
      "state": {
       "flex": "1 0 auto"
      }
     },
     "1d68e9338d3a48faab07d2ff9d85e36b": {
      "model_module": "@jupyter-widgets/controls",
      "model_module_version": "1.0.0",
      "model_name": "DescriptionStyleModel",
      "state": {
       "description_width": ""
      }
     },
     "1da4291425604766bf7702b43cdc46ca": {
      "model_module": "@jupyter-widgets/base",
      "model_module_version": "1.0.0",
      "model_name": "LayoutModel",
      "state": {
       "width": "300px"
      }
     },
     "1dd999d96a3e4091b59bf2923dc2ebfa": {
      "model_module": "@jupyter-widgets/base",
      "model_module_version": "1.0.0",
      "model_name": "LayoutModel",
      "state": {
       "flex": "1 0 auto"
      }
     },
     "1e1b01fd8da54ed8a6cb08d274573bfd": {
      "model_module": "@jupyter-widgets/controls",
      "model_module_version": "1.0.0",
      "model_name": "DescriptionStyleModel",
      "state": {
       "description_width": ""
      }
     },
     "1ec10ef4fc954e328c36086c665bb183": {
      "model_module": "@jupyter-widgets/controls",
      "model_module_version": "1.0.0",
      "model_name": "LabelModel",
      "state": {
       "layout": "IPY_MODEL_e206f8f9ae6c4d8397600f1c9fe3790b",
       "style": "IPY_MODEL_1048a4adcf4d49049d57ead8e305a574",
       "value": "TESCO STORES 5244 KILBURN"
      }
     },
     "1fbc92466e3045ef8b8b7b5bdb22051d": {
      "model_module": "@jupyter-widgets/base",
      "model_module_version": "1.0.0",
      "model_name": "LayoutModel",
      "state": {
       "width": "300px"
      }
     },
     "203ece24f41f427994acdaf27113a5b7": {
      "model_module": "@jupyter-widgets/controls",
      "model_module_version": "1.0.0",
      "model_name": "HBoxModel",
      "state": {
       "children": [
        "IPY_MODEL_91ea114bb7664893a01d9add379cd87f",
        "IPY_MODEL_82e20b3658454819b0d7136f2268bc17",
        "IPY_MODEL_62c1c905a25a4c89ac87f59f0117f60d",
        "IPY_MODEL_de669800ed3b410bb831a57134b1fe80"
       ],
       "layout": "IPY_MODEL_35c4d3384e094385a6f874f19c0b2b9c"
      }
     },
     "2104f1d7d33b4ed7830fd6da42c06107": {
      "model_module": "@jupyter-widgets/controls",
      "model_module_version": "1.0.0",
      "model_name": "HTMLModel",
      "state": {
       "layout": "IPY_MODEL_a0a456717b83409f9f9caa37c702afbb",
       "style": "IPY_MODEL_d11fd218ebc741aea6f78337907d0f09",
       "value": "<b>Correct</b>"
      }
     },
     "21f7357d039a4d5c9337f7040e2f9f0b": {
      "model_module": "@jupyter-widgets/base",
      "model_module_version": "1.0.0",
      "model_name": "LayoutModel",
      "state": {
       "flex": "1 0 auto"
      }
     },
     "221594b00c2945988efc27dbc655d2a4": {
      "model_module": "@jupyter-widgets/controls",
      "model_module_version": "1.0.0",
      "model_name": "FloatProgressModel",
      "state": {
       "description": "0.334",
       "layout": "IPY_MODEL_c99088b08cb94915b7e6be811bc090c4",
       "max": 1,
       "min": 0.3333333333333333,
       "style": "IPY_MODEL_9c4540a09b45451a91209279afb2e1ae",
       "value": 0.3335399260858368
      }
     },
     "226eff4198b641958cdda5f6aa830f18": {
      "model_module": "@jupyter-widgets/controls",
      "model_module_version": "1.0.0",
      "model_name": "HBoxModel",
      "state": {
       "children": [
        "IPY_MODEL_943976b15c274a8eb2dbd561bac5f1a8",
        "IPY_MODEL_f357b5ff19284994ae51e10d72a9563a",
        "IPY_MODEL_4a9b7c7494a84ecabb06c9c2b6fefb23",
        "IPY_MODEL_37dd01d3a7a1475f851edeb950f1c5d3"
       ],
       "layout": "IPY_MODEL_18719f5b856444dda4659a1f3cdd2ef5"
      }
     },
     "2368738865714af88117bdd6a388988a": {
      "model_module": "@jupyter-widgets/controls",
      "model_module_version": "1.0.0",
      "model_name": "HBoxModel",
      "state": {
       "children": [
        "IPY_MODEL_f37e363fe1cf4a6e853a4089c7961aa1",
        "IPY_MODEL_a4ff70af87134bdb87be6095efc769a0",
        "IPY_MODEL_eeacc493d18f44f0b30a2488c26dcc41",
        "IPY_MODEL_e12346efb3f24a6fb7aad71c44145a8f"
       ],
       "layout": "IPY_MODEL_c2b8785e8d0b45719d2fd3a47e02e6e5"
      }
     },
     "2487ee6e9a4f47a08c23c7f6e7c216fe": {
      "model_module": "@jupyter-widgets/base",
      "model_module_version": "1.0.0",
      "model_name": "LayoutModel",
      "state": {
       "width": "100px"
      }
     },
     "25df2c030e8c459a907c3cbe27a8a275": {
      "model_module": "@jupyter-widgets/controls",
      "model_module_version": "1.0.0",
      "model_name": "DescriptionStyleModel",
      "state": {
       "description_width": ""
      }
     },
     "25e2b896a3f44d26846d99b27b807f7c": {
      "model_module": "@jupyter-widgets/controls",
      "model_module_version": "1.0.0",
      "model_name": "FloatProgressModel",
      "state": {
       "description": "0.990",
       "layout": "IPY_MODEL_9b9f0ed117eb40058ea75e046ec94d97",
       "max": 1,
       "min": 0.3333333333333333,
       "style": "IPY_MODEL_a3125874a2b845979f08f07967907d4b",
       "value": 0.9897992814777781
      }
     },
     "267b6ad420b84dadb4887ce76b61c5f8": {
      "model_module": "@jupyter-widgets/controls",
      "model_module_version": "1.0.0",
      "model_name": "LabelModel",
      "state": {
       "layout": "IPY_MODEL_1fbc92466e3045ef8b8b7b5bdb22051d",
       "style": "IPY_MODEL_510f4f00fbdb49fb8e6b9a9995e05094",
       "value": "NEW SOUTHERN RAILW HORLEY 9132"
      }
     },
     "272125eb8b3540a29060d7fbddba4da8": {
      "model_module": "@jupyter-widgets/controls",
      "model_module_version": "1.0.0",
      "model_name": "DropdownModel",
      "state": {
       "_options_labels": [
        "",
        "mobile",
        "travel",
        "food"
       ],
       "index": 0,
       "layout": "IPY_MODEL_8b4888d1cae14ee392054dba69649850",
       "style": "IPY_MODEL_9de0486c0722435f9c9f43f226795141"
      }
     },
     "279ce1b78a74428e8ce35b891f44117d": {
      "model_module": "@jupyter-widgets/controls",
      "model_module_version": "1.0.0",
      "model_name": "HBoxModel",
      "state": {
       "children": [
        "IPY_MODEL_b9d5fe2841c1446eba33792ba3d3c8af",
        "IPY_MODEL_133e968c744248a08225708733c4bdbe",
        "IPY_MODEL_e1e02560a1f84077842f4919046f41e2",
        "IPY_MODEL_8956d90eefe6431ab0df757aeeb89e69"
       ],
       "layout": "IPY_MODEL_f0bab59cea85408f81dc5f4fdbdfb053"
      }
     },
     "27c57a883ab64f2a9711c7cd48ff0ed5": {
      "model_module": "@jupyter-widgets/controls",
      "model_module_version": "1.0.0",
      "model_name": "DescriptionStyleModel",
      "state": {
       "description_width": ""
      }
     },
     "27fadb604c2e4c3087e58a1f7b59f8cb": {
      "model_module": "@jupyter-widgets/base",
      "model_module_version": "1.0.0",
      "model_name": "LayoutModel",
      "state": {
       "width": "400px"
      }
     },
     "28235f2e05f2402c8d6e9ee2b4af92ad": {
      "model_module": "@jupyter-widgets/controls",
      "model_module_version": "1.0.0",
      "model_name": "ProgressStyleModel",
      "state": {
       "description_width": ""
      }
     },
     "282535969aa745f1b5656e7b635f33e2": {
      "model_module": "@jupyter-widgets/base",
      "model_module_version": "1.0.0",
      "model_name": "LayoutModel",
      "state": {
       "width": "400px"
      }
     },
     "28e6d62a142243bd9d5d62dce3bfc669": {
      "model_module": "@jupyter-widgets/base",
      "model_module_version": "1.0.0",
      "model_name": "LayoutModel",
      "state": {
       "width": "100px"
      }
     },
     "29259e04f33649c98bbe44ca6ffb74d5": {
      "model_module": "@jupyter-widgets/controls",
      "model_module_version": "1.0.0",
      "model_name": "FloatProgressModel",
      "state": {
       "description": "0.334",
       "layout": "IPY_MODEL_78eb5db1e99f4d70b1f54af3ac3fd93b",
       "max": 1,
       "min": 0.3333333333333333,
       "style": "IPY_MODEL_09a589a1ab9c4f7397a6b75d70ddf6be",
       "value": 0.3335399260858368
      }
     },
     "29261d96ec98421aaf7d63460c0af3c3": {
      "model_module": "@jupyter-widgets/controls",
      "model_module_version": "1.0.0",
      "model_name": "DropdownModel",
      "state": {
       "_options_labels": [
        "",
        "mobile",
        "travel",
        "food"
       ],
       "index": 0,
       "layout": "IPY_MODEL_774837875a7a4c4a923d2a6183a8e302",
       "style": "IPY_MODEL_946659fb93b94a0a8d1bb62b6af494f3"
      }
     },
     "29578bed16cb4c18a07db37eab07d343": {
      "model_module": "@jupyter-widgets/controls",
      "model_module_version": "1.0.0",
      "model_name": "DescriptionStyleModel",
      "state": {
       "description_width": ""
      }
     },
     "298a84bbd6e34f0faf296f7e6f3a7987": {
      "model_module": "@jupyter-widgets/controls",
      "model_module_version": "1.0.0",
      "model_name": "HBoxModel",
      "state": {
       "children": [
        "IPY_MODEL_92905a5aeebe42f9872d45bc04bc7bf1",
        "IPY_MODEL_4d97081877cd499abd4eb520745428c2",
        "IPY_MODEL_5c58d0562b384eaa9df2ce73ac70a224",
        "IPY_MODEL_745e03001d4148d483559cd77a43a256"
       ],
       "layout": "IPY_MODEL_96b27c4220dc4e5e8e7e7393c12f3c90"
      }
     },
     "29aa92b2424d4e71a81fc253c3a582c2": {
      "model_module": "@jupyter-widgets/controls",
      "model_module_version": "1.0.0",
      "model_name": "LabelModel",
      "state": {
       "layout": "IPY_MODEL_f0e1acde43224b40acc2aa3e03a6bd08",
       "style": "IPY_MODEL_887b6413d9e74314ad0dd3831742d659",
       "value": "EASYJET     000ERC LUTON, BEDS"
      }
     },
     "29c9314c5ae5423aba979173e5f90860": {
      "model_module": "@jupyter-widgets/controls",
      "model_module_version": "1.0.0",
      "model_name": "DescriptionStyleModel",
      "state": {
       "description_width": ""
      }
     },
     "2b14043d0a6c4e2e967779ad3815eed1": {
      "model_module": "@jupyter-widgets/base",
      "model_module_version": "1.0.0",
      "model_name": "LayoutModel",
      "state": {
       "width": "100px"
      }
     },
     "2b30edc6fde045748970e5b28e87e66a": {
      "model_module": "@jupyter-widgets/controls",
      "model_module_version": "1.0.0",
      "model_name": "LabelModel",
      "state": {
       "layout": "IPY_MODEL_383c9f2d30684214804b610bf01d7929",
       "style": "IPY_MODEL_bc4797cd97414ace965c8e3525cdac13",
       "value": "PRET A MANGER LONDON"
      }
     },
     "2bb4c3c6e31f4f058fbb2f81e9f011cb": {
      "model_module": "@jupyter-widgets/controls",
      "model_module_version": "1.0.0",
      "model_name": "FloatProgressModel",
      "state": {
       "description": "0.334",
       "layout": "IPY_MODEL_9e0a116ffc7a4b39a6c431808ab255f9",
       "max": 1,
       "min": 0.3333333333333333,
       "style": "IPY_MODEL_3e8f04656492414885baf312a29d0254",
       "value": 0.3335399260858368
      }
     },
     "2d8287873c70400f9b0ad9969cbe686c": {
      "model_module": "@jupyter-widgets/controls",
      "model_module_version": "1.0.0",
      "model_name": "DescriptionStyleModel",
      "state": {
       "description_width": ""
      }
     },
     "2e378423dc2f4f95b95904b846eacaa9": {
      "model_module": "@jupyter-widgets/controls",
      "model_module_version": "1.0.0",
      "model_name": "DescriptionStyleModel",
      "state": {
       "description_width": ""
      }
     },
     "307ad33e7d2d4c1fb6853a532382a655": {
      "model_module": "@jupyter-widgets/controls",
      "model_module_version": "1.0.0",
      "model_name": "DescriptionStyleModel",
      "state": {
       "description_width": ""
      }
     },
     "3136ac9acdb24f19a2c500700cdc2637": {
      "model_module": "@jupyter-widgets/controls",
      "model_module_version": "1.0.0",
      "model_name": "DescriptionStyleModel",
      "state": {
       "description_width": ""
      }
     },
     "31727c31b67b4c699c3345ed5f20797a": {
      "model_module": "@jupyter-widgets/base",
      "model_module_version": "1.0.0",
      "model_name": "LayoutModel",
      "state": {
       "width": "300px"
      }
     },
     "31b9a5b0a04e47179692f1df58ed2dc7": {
      "model_module": "@jupyter-widgets/controls",
      "model_module_version": "1.0.0",
      "model_name": "HBoxModel",
      "state": {
       "children": [
        "IPY_MODEL_81dd1a686f3649559d36a9c791e0243d",
        "IPY_MODEL_d04f356e79944c64b488288e01afdb17",
        "IPY_MODEL_4fe61ca018574068bb0697566da22258",
        "IPY_MODEL_145b1198aa3c45f4b1acec238017f5bd"
       ],
       "layout": "IPY_MODEL_1d310cb98b9147b5a540f056f2f51f2a"
      }
     },
     "32105173517f4f3ca4fbefda06f3a908": {
      "model_module": "@jupyter-widgets/controls",
      "model_module_version": "1.0.0",
      "model_name": "LabelModel",
      "state": {
       "layout": "IPY_MODEL_6922a5f470ac4cb48e0bcf662a12b3c8",
       "style": "IPY_MODEL_27c57a883ab64f2a9711c7cd48ff0ed5",
       "value": "TESCO STORES 2722 EUSTON"
      }
     },
     "32c84b5a06b9479f9a4194a21fa36cd0": {
      "model_module": "@jupyter-widgets/base",
      "model_module_version": "1.0.0",
      "model_name": "LayoutModel",
      "state": {
       "width": "300px"
      }
     },
     "332c96a8ad6d4510b13a542e01ea563a": {
      "model_module": "@jupyter-widgets/controls",
      "model_module_version": "1.0.0",
      "model_name": "DescriptionStyleModel",
      "state": {
       "description_width": ""
      }
     },
     "3360629ccf89488588d95fa894d0a01c": {
      "model_module": "@jupyter-widgets/controls",
      "model_module_version": "1.0.0",
      "model_name": "DescriptionStyleModel",
      "state": {
       "description_width": ""
      }
     },
     "33bdc30294294d4c84d8535493a1ae2d": {
      "model_module": "@jupyter-widgets/base",
      "model_module_version": "1.0.0",
      "model_name": "LayoutModel",
      "state": {
       "width": "400px"
      }
     },
     "33e738a8f53a47d996a44bd09b802ecb": {
      "model_module": "@jupyter-widgets/base",
      "model_module_version": "1.0.0",
      "model_name": "LayoutModel",
      "state": {
       "flex": "1 0 auto"
      }
     },
     "34113e83febf400db1c610985845f2f1": {
      "model_module": "@jupyter-widgets/controls",
      "model_module_version": "1.0.0",
      "model_name": "DropdownModel",
      "state": {
       "_options_labels": [
        "",
        "mobile",
        "travel",
        "food"
       ],
       "index": 0,
       "layout": "IPY_MODEL_9629679f4a8e4600b9cea5989190329c",
       "style": "IPY_MODEL_d48f88cc58db47219378af52d2e9c7e4"
      }
     },
     "342e3832be344218901bb7c40aa6323f": {
      "model_module": "@jupyter-widgets/controls",
      "model_module_version": "1.0.0",
      "model_name": "FloatProgressModel",
      "state": {
       "description": "0.990",
       "layout": "IPY_MODEL_f9ad4759a8174a21bff573e8e303d614",
       "max": 1,
       "min": 0.3333333333333333,
       "style": "IPY_MODEL_a4dfdd882626480f81e958f81800bcd6",
       "value": 0.9897992814777781
      }
     },
     "345a2d0e2a384e559a0ec115f04aedec": {
      "model_module": "@jupyter-widgets/controls",
      "model_module_version": "1.0.0",
      "model_name": "LabelModel",
      "state": {
       "layout": "IPY_MODEL_167ff8f9e4904ad7af9d4ff97c67ebbe",
       "style": "IPY_MODEL_0da9831b33384e0ea503f476ef2142bc",
       "value": "travel"
      }
     },
     "3491fa5c58d0453c9f53af5a3b22b493": {
      "model_module": "@jupyter-widgets/base",
      "model_module_version": "1.0.0",
      "model_name": "LayoutModel",
      "state": {
       "height": "20em",
       "overflow_y": "scroll"
      }
     },
     "3504ac38b7d945a09b91d370f2aa32cc": {
      "model_module": "@jupyter-widgets/base",
      "model_module_version": "1.0.0",
      "model_name": "LayoutModel",
      "state": {
       "width": "400px"
      }
     },
     "35c4d3384e094385a6f874f19c0b2b9c": {
      "model_module": "@jupyter-widgets/base",
      "model_module_version": "1.0.0",
      "model_name": "LayoutModel",
      "state": {
       "flex": "1 0 auto"
      }
     },
     "35c683bf38364bdabf3d1f15ed71ab02": {
      "model_module": "@jupyter-widgets/controls",
      "model_module_version": "1.0.0",
      "model_name": "DescriptionStyleModel",
      "state": {
       "description_width": ""
      }
     },
     "36c7312e801743b69098eeb93c8088a5": {
      "model_module": "@jupyter-widgets/base",
      "model_module_version": "1.0.0",
      "model_name": "LayoutModel",
      "state": {
       "width": "200px"
      }
     },
     "373526acd3b549e19172f8c61bb86c2f": {
      "model_module": "@jupyter-widgets/base",
      "model_module_version": "1.0.0",
      "model_name": "LayoutModel",
      "state": {
       "width": "200px"
      }
     },
     "376f4dca691a493983eef01b00a3d4db": {
      "model_module": "@jupyter-widgets/controls",
      "model_module_version": "1.0.0",
      "model_name": "LabelModel",
      "state": {
       "layout": "IPY_MODEL_6a624475d7174a5282fbd99fc8e31c60",
       "style": "IPY_MODEL_b28bbedf3cfa4ba785843fbb04e14a01",
       "value": "travel"
      }
     },
     "3789b78382b2465f905c73404566b787": {
      "model_module": "@jupyter-widgets/base",
      "model_module_version": "1.0.0",
      "model_name": "LayoutModel",
      "state": {
       "width": "100px"
      }
     },
     "37b6007981564a8d9e840c9d3c221fbe": {
      "model_module": "@jupyter-widgets/controls",
      "model_module_version": "1.0.0",
      "model_name": "LabelModel",
      "state": {
       "layout": "IPY_MODEL_32c84b5a06b9479f9a4194a21fa36cd0",
       "style": "IPY_MODEL_332c96a8ad6d4510b13a542e01ea563a",
       "value": "TESCO STORES 6109 GREENFORD"
      }
     },
     "37dd01d3a7a1475f851edeb950f1c5d3": {
      "model_module": "@jupyter-widgets/controls",
      "model_module_version": "1.0.0",
      "model_name": "FloatProgressModel",
      "state": {
       "description": "0.990",
       "layout": "IPY_MODEL_cea092f4e5044306950cdfd0266313eb",
       "max": 1,
       "min": 0.3333333333333333,
       "style": "IPY_MODEL_846a05d61ade4dab89ef11ead8dddc0c",
       "value": 0.9897992814777781
      }
     },
     "37f574256d0140fb98a67b4f27a385e9": {
      "model_module": "@jupyter-widgets/controls",
      "model_module_version": "1.0.0",
      "model_name": "LabelModel",
      "state": {
       "layout": "IPY_MODEL_db3592ab7c59438b98c7b8abdabba496",
       "style": "IPY_MODEL_6448beffa4a548bd89081180408ea8a7",
       "value": "travel"
      }
     },
     "383c9f2d30684214804b610bf01d7929": {
      "model_module": "@jupyter-widgets/base",
      "model_module_version": "1.0.0",
      "model_name": "LayoutModel",
      "state": {
       "width": "300px"
      }
     },
     "39a6a8a440c04f7c8a6c8a8c63e67457": {
      "model_module": "@jupyter-widgets/controls",
      "model_module_version": "1.0.0",
      "model_name": "ProgressStyleModel",
      "state": {
       "description_width": ""
      }
     },
     "39fd8d20f7a84b4aa0f4abc6b16704a8": {
      "model_module": "@jupyter-widgets/controls",
      "model_module_version": "1.0.0",
      "model_name": "DescriptionStyleModel",
      "state": {
       "description_width": ""
      }
     },
     "3a35888a81d54d0e8317a773734c212a": {
      "model_module": "@jupyter-widgets/base",
      "model_module_version": "1.0.0",
      "model_name": "LayoutModel",
      "state": {
       "width": "100px"
      }
     },
     "3a53e2d2b3fd4e98af58cf31366997a3": {
      "model_module": "@jupyter-widgets/controls",
      "model_module_version": "1.0.0",
      "model_name": "LabelModel",
      "state": {
       "layout": "IPY_MODEL_6297839d860d438d805d043e872408d7",
       "style": "IPY_MODEL_411e073b9fab49f69042b656f0d0bb85",
       "value": "TFL.GOV.UK/CP TFL TRAVEL CH"
      }
     },
     "3a5e16be1f464c338699f008f36493ee": {
      "model_module": "@jupyter-widgets/controls",
      "model_module_version": "1.0.0",
      "model_name": "FloatProgressModel",
      "state": {
       "description": "0.990",
       "layout": "IPY_MODEL_282535969aa745f1b5656e7b635f33e2",
       "max": 1,
       "min": 0.3333333333333333,
       "style": "IPY_MODEL_6a92d62b905e401a8ea443de44ef190f",
       "value": 0.9897992814777781
      }
     },
     "3ac5a91bb0c645d2b912848f2ef5b33c": {
      "model_module": "@jupyter-widgets/base",
      "model_module_version": "1.0.0",
      "model_name": "LayoutModel",
      "state": {
       "width": "200px"
      }
     },
     "3b417ae758b14aa6a5288a901f54f01c": {
      "model_module": "@jupyter-widgets/controls",
      "model_module_version": "1.0.0",
      "model_name": "DescriptionStyleModel",
      "state": {
       "description_width": ""
      }
     },
     "3b4e3e29b93e48a6960ec18ef62f698d": {
      "model_module": "@jupyter-widgets/base",
      "model_module_version": "1.0.0",
      "model_name": "LayoutModel",
      "state": {
       "width": "200px"
      }
     },
     "3b505a17557c4f79b1bc08a71e76780d": {
      "model_module": "@jupyter-widgets/controls",
      "model_module_version": "1.0.0",
      "model_name": "ProgressStyleModel",
      "state": {
       "description_width": ""
      }
     },
     "3b5fecc1df914380a48aa9ab656de93d": {
      "model_module": "@jupyter-widgets/controls",
      "model_module_version": "1.0.0",
      "model_name": "LabelModel",
      "state": {
       "layout": "IPY_MODEL_2487ee6e9a4f47a08c23c7f6e7c216fe",
       "style": "IPY_MODEL_648a4efacb2944569c8613cea71a1f19",
       "value": "travel"
      }
     },
     "3b7d8db4f3d54d8992338de0e00825aa": {
      "model_module": "@jupyter-widgets/base",
      "model_module_version": "1.0.0",
      "model_name": "LayoutModel",
      "state": {
       "width": "200px"
      }
     },
     "3c1f7711002e48ed8e3b1bd00eab3b29": {
      "model_module": "@jupyter-widgets/controls",
      "model_module_version": "1.0.0",
      "model_name": "DescriptionStyleModel",
      "state": {
       "description_width": ""
      }
     },
     "3c201447f0794f3fbce827326ecf3c7a": {
      "model_module": "@jupyter-widgets/controls",
      "model_module_version": "1.0.0",
      "model_name": "DescriptionStyleModel",
      "state": {
       "description_width": ""
      }
     },
     "3cf5a7b6ef484438a8da5b32338bb58b": {
      "model_module": "@jupyter-widgets/controls",
      "model_module_version": "1.0.0",
      "model_name": "DescriptionStyleModel",
      "state": {
       "description_width": ""
      }
     },
     "3d41885ab567458091f26a8d0c1c500d": {
      "model_module": "@jupyter-widgets/controls",
      "model_module_version": "1.0.0",
      "model_name": "DescriptionStyleModel",
      "state": {
       "description_width": ""
      }
     },
     "3e0bf65ab3d94f61ba3f32dc279fdb02": {
      "model_module": "@jupyter-widgets/base",
      "model_module_version": "1.0.0",
      "model_name": "LayoutModel",
      "state": {
       "width": "200px"
      }
     },
     "3e8094aee01d478bb272959b02a2ba06": {
      "model_module": "@jupyter-widgets/base",
      "model_module_version": "1.0.0",
      "model_name": "LayoutModel",
      "state": {
       "width": "300px"
      }
     },
     "3e8f04656492414885baf312a29d0254": {
      "model_module": "@jupyter-widgets/controls",
      "model_module_version": "1.0.0",
      "model_name": "ProgressStyleModel",
      "state": {
       "description_width": ""
      }
     },
     "3fbadc6c84a447c785ca8f2250ee1024": {
      "model_module": "@jupyter-widgets/controls",
      "model_module_version": "1.0.0",
      "model_name": "DropdownModel",
      "state": {
       "_options_labels": [
        "",
        "mobile",
        "travel",
        "food"
       ],
       "index": 0,
       "layout": "IPY_MODEL_6987e131cc384932981613d2483bffd8",
       "style": "IPY_MODEL_42f03d86723a43749b07908175782567"
      }
     },
     "400a632e91a7411ebbfe7e1454a75e8f": {
      "model_module": "@jupyter-widgets/controls",
      "model_module_version": "1.0.0",
      "model_name": "DescriptionStyleModel",
      "state": {
       "description_width": ""
      }
     },
     "408342c3f4354b198d432f1bbe6cca66": {
      "model_module": "@jupyter-widgets/controls",
      "model_module_version": "1.0.0",
      "model_name": "DescriptionStyleModel",
      "state": {
       "description_width": ""
      }
     },
     "40c00443b22e43639ccb267f34d0a233": {
      "model_module": "@jupyter-widgets/base",
      "model_module_version": "1.0.0",
      "model_name": "LayoutModel",
      "state": {
       "width": "200px"
      }
     },
     "40fc024d727e4305b1e144126f9eb299": {
      "model_module": "@jupyter-widgets/controls",
      "model_module_version": "1.0.0",
      "model_name": "DescriptionStyleModel",
      "state": {
       "description_width": ""
      }
     },
     "411e073b9fab49f69042b656f0d0bb85": {
      "model_module": "@jupyter-widgets/controls",
      "model_module_version": "1.0.0",
      "model_name": "DescriptionStyleModel",
      "state": {
       "description_width": ""
      }
     },
     "4184cdaad0834f368e2d03b041d3370e": {
      "model_module": "@jupyter-widgets/base",
      "model_module_version": "1.0.0",
      "model_name": "LayoutModel",
      "state": {
       "width": "200px"
      }
     },
     "41bc26cdb9024c10aff393ed17c321ba": {
      "model_module": "@jupyter-widgets/controls",
      "model_module_version": "1.0.0",
      "model_name": "HBoxModel",
      "state": {
       "children": [
        "IPY_MODEL_f321bb57062d485395bfd5f1a3ea296d",
        "IPY_MODEL_14d478a6bbf2494eaf38e6bef91dbd31",
        "IPY_MODEL_793d5f98131547bca0649dc423dfde51",
        "IPY_MODEL_bdd1974b209f4fa384f9bf922baa7ad3"
       ],
       "layout": "IPY_MODEL_844a8f4d3b6e4b23a2b18b2f64585e75"
      }
     },
     "42287539f3f844d4bd3fc5644171a338": {
      "model_module": "@jupyter-widgets/controls",
      "model_module_version": "1.0.0",
      "model_name": "LabelModel",
      "state": {
       "layout": "IPY_MODEL_1da4291425604766bf7702b43cdc46ca",
       "style": "IPY_MODEL_acd99c519459494d9e7094e08e4ddc7d",
       "value": "TFL.GOV.UK/CP TFL TRAVEL CH"
      }
     },
     "42d4a1b61f434163b2646af41a3f33be": {
      "model_module": "@jupyter-widgets/base",
      "model_module_version": "1.0.0",
      "model_name": "LayoutModel",
      "state": {
       "width": "200px"
      }
     },
     "42f03d86723a43749b07908175782567": {
      "model_module": "@jupyter-widgets/controls",
      "model_module_version": "1.0.0",
      "model_name": "DescriptionStyleModel",
      "state": {
       "description_width": ""
      }
     },
     "4371ab41f8344fd2a4485c149f941ee2": {
      "model_module": "@jupyter-widgets/controls",
      "model_module_version": "1.0.0",
      "model_name": "FloatProgressModel",
      "state": {
       "description": "0.989",
       "layout": "IPY_MODEL_55309ca1c1974cf6ad89c6ac7ee29744",
       "max": 1,
       "min": 0.3333333333333333,
       "style": "IPY_MODEL_9a8a7b5dc0204a3da2917af461923931",
       "value": 0.989287304062486
      }
     },
     "43cbcbd79f2543cfad735d3c2d96c34b": {
      "model_module": "@jupyter-widgets/controls",
      "model_module_version": "1.0.0",
      "model_name": "DropdownModel",
      "state": {
       "_options_labels": [
        "",
        "mobile",
        "travel",
        "food"
       ],
       "index": 0,
       "layout": "IPY_MODEL_981a4458bdb4460682cf5fbff2ddf11d",
       "style": "IPY_MODEL_01dd63680e354ef3b4b6987ff5166be4"
      }
     },
     "4483431736954f88b3671acc7386c21f": {
      "model_module": "@jupyter-widgets/controls",
      "model_module_version": "1.0.0",
      "model_name": "DropdownModel",
      "state": {
       "_options_labels": [
        "",
        "mobile",
        "travel",
        "food"
       ],
       "index": 0,
       "layout": "IPY_MODEL_c445500f38a8409980e0fcb0e699f76d",
       "style": "IPY_MODEL_49fa7ca9111242009468ae3662d2e873"
      }
     },
     "44ee6d4068bd4864a9e0d5618e3d10c7": {
      "model_module": "@jupyter-widgets/controls",
      "model_module_version": "1.0.0",
      "model_name": "LabelModel",
      "state": {
       "layout": "IPY_MODEL_93325b6d2adb4f5686ebcb028d8ce7b5",
       "style": "IPY_MODEL_e31723eeb70d430ea3b55391370eb324",
       "value": "travel"
      }
     },
     "4871f64e6b254ce898830fba33fb3b9a": {
      "model_module": "@jupyter-widgets/base",
      "model_module_version": "1.0.0",
      "model_name": "LayoutModel",
      "state": {
       "width": "100px"
      }
     },
     "487bfdd1ce6440b897f33e24f654fb29": {
      "model_module": "@jupyter-widgets/controls",
      "model_module_version": "1.0.0",
      "model_name": "HBoxModel",
      "state": {
       "children": [
        "IPY_MODEL_42287539f3f844d4bd3fc5644171a338",
        "IPY_MODEL_ae01c90416f640648cade6dd27134bb3",
        "IPY_MODEL_345a2d0e2a384e559a0ec115f04aedec",
        "IPY_MODEL_25e2b896a3f44d26846d99b27b807f7c"
       ],
       "layout": "IPY_MODEL_eb16887ef1b44bedad3f0d30fd56975f"
      }
     },
     "48fa018437b84c6abc54934ec292b9b2": {
      "model_module": "@jupyter-widgets/controls",
      "model_module_version": "1.0.0",
      "model_name": "ProgressStyleModel",
      "state": {
       "description_width": ""
      }
     },
     "4969529a888048f1942bea2cb3de565d": {
      "model_module": "@jupyter-widgets/controls",
      "model_module_version": "1.0.0",
      "model_name": "FloatProgressModel",
      "state": {
       "description": "0.334",
       "layout": "IPY_MODEL_3504ac38b7d945a09b91d370f2aa32cc",
       "max": 1,
       "min": 0.3333333333333333,
       "style": "IPY_MODEL_654ab88767b843d48fc0e4d237f33179",
       "value": 0.3335399260858368
      }
     },
     "49fa7ca9111242009468ae3662d2e873": {
      "model_module": "@jupyter-widgets/controls",
      "model_module_version": "1.0.0",
      "model_name": "DescriptionStyleModel",
      "state": {
       "description_width": ""
      }
     },
     "4a22bce7940b471ea3604ef664caccfe": {
      "model_module": "@jupyter-widgets/controls",
      "model_module_version": "1.0.0",
      "model_name": "LabelModel",
      "state": {
       "layout": "IPY_MODEL_5829a4bc57c0485cbf169866c0b0ed98",
       "style": "IPY_MODEL_52e49a28a3c74b46bbee5eadb127d2c2",
       "value": "SAINSBURYS S/MKTS WARREN STREET"
      }
     },
     "4a46b55890d1444195a1dfcee56894a3": {
      "model_module": "@jupyter-widgets/base",
      "model_module_version": "1.0.0",
      "model_name": "LayoutModel",
      "state": {
       "width": "300px"
      }
     },
     "4a5a89551cd743c6b54ef263914670c6": {
      "model_module": "@jupyter-widgets/base",
      "model_module_version": "1.0.0",
      "model_name": "LayoutModel",
      "state": {
       "width": "200px"
      }
     },
     "4a8271a9acc64e6b9ed6970125d02833": {
      "model_module": "@jupyter-widgets/controls",
      "model_module_version": "1.0.0",
      "model_name": "HBoxModel",
      "state": {
       "children": [
        "IPY_MODEL_c7ed5f98a3a947b396319fe92dab9d31",
        "IPY_MODEL_a9b59b14b5314160a6d5229e557f156e",
        "IPY_MODEL_e6ae8b6b2f2c47e3adff6adc2e9be0c4",
        "IPY_MODEL_582b151f39604cdfa4a262b3293780b3"
       ],
       "layout": "IPY_MODEL_a4d3a8b4ce324a779bc0cbf0fff2cbb1"
      }
     },
     "4a9b7c7494a84ecabb06c9c2b6fefb23": {
      "model_module": "@jupyter-widgets/controls",
      "model_module_version": "1.0.0",
      "model_name": "LabelModel",
      "state": {
       "layout": "IPY_MODEL_a052fe658529429791ed5faeb6f8da1f",
       "style": "IPY_MODEL_e6ca25d94db14f93b5583ca7b22572d4",
       "value": "travel"
      }
     },
     "4ae7b9bfd43444e287b6865e4b422f87": {
      "model_module": "@jupyter-widgets/controls",
      "model_module_version": "1.0.0",
      "model_name": "ProgressStyleModel",
      "state": {
       "description_width": ""
      }
     },
     "4b29f51d5c19487fa6c0cd783a0e5eae": {
      "model_module": "@jupyter-widgets/controls",
      "model_module_version": "1.0.0",
      "model_name": "FloatProgressModel",
      "state": {
       "description": "0.334",
       "layout": "IPY_MODEL_de61ddf9e08f475bae84cc11d5ec3d3b",
       "max": 1,
       "min": 0.3333333333333333,
       "style": "IPY_MODEL_d902f9f83b9a44b69a5a669b8de7b612",
       "value": 0.3335399260858368
      }
     },
     "4befc5aa3a8a44c48fa4ff8607a9b2b5": {
      "model_module": "@jupyter-widgets/base",
      "model_module_version": "1.0.0",
      "model_name": "LayoutModel",
      "state": {
       "width": "100px"
      }
     },
     "4c9b10a23ea44ddb9f86071dd2865e3a": {
      "model_module": "@jupyter-widgets/base",
      "model_module_version": "1.0.0",
      "model_name": "LayoutModel",
      "state": {
       "width": "300px"
      }
     },
     "4ccc61b5b2cd4423849a9c9b9c794e2d": {
      "model_module": "@jupyter-widgets/controls",
      "model_module_version": "1.0.0",
      "model_name": "FloatProgressModel",
      "state": {
       "description": "0.748",
       "layout": "IPY_MODEL_27fadb604c2e4c3087e58a1f7b59f8cb",
       "max": 1,
       "min": 0.3333333333333333,
       "style": "IPY_MODEL_e3e8d2d7226d4daeac63711fc0187045",
       "value": 0.7477581384963264
      }
     },
     "4cdf4b585c4c46438149f85f41284650": {
      "model_module": "@jupyter-widgets/base",
      "model_module_version": "1.0.0",
      "model_name": "LayoutModel",
      "state": {
       "flex": "1 0 auto"
      }
     },
     "4d4f72cd413c41e299b6e4d6a073d72b": {
      "model_module": "@jupyter-widgets/controls",
      "model_module_version": "1.0.0",
      "model_name": "DescriptionStyleModel",
      "state": {
       "description_width": ""
      }
     },
     "4d97081877cd499abd4eb520745428c2": {
      "model_module": "@jupyter-widgets/controls",
      "model_module_version": "1.0.0",
      "model_name": "DropdownModel",
      "state": {
       "_options_labels": [
        "",
        "mobile",
        "travel",
        "food"
       ],
       "index": 0,
       "layout": "IPY_MODEL_42d4a1b61f434163b2646af41a3f33be",
       "style": "IPY_MODEL_d49893b001a64b4992f0e4f9e7c71842"
      }
     },
     "4dca4d0612ac49fc92d8954615aa1c3f": {
      "model_module": "@jupyter-widgets/controls",
      "model_module_version": "1.0.0",
      "model_name": "DescriptionStyleModel",
      "state": {
       "description_width": ""
      }
     },
     "4e8ad653af76449eb04c43839b1df355": {
      "model_module": "@jupyter-widgets/controls",
      "model_module_version": "1.0.0",
      "model_name": "DropdownModel",
      "state": {
       "_options_labels": [
        "",
        "mobile",
        "travel",
        "food"
       ],
       "index": 0,
       "layout": "IPY_MODEL_59ef8f82eaba4971ac79ea170653a374",
       "style": "IPY_MODEL_90de5ddfc9374d94867ed9999b8c5c85"
      }
     },
     "4f26db297e784c3ead1dd34c23de3192": {
      "model_module": "@jupyter-widgets/base",
      "model_module_version": "1.0.0",
      "model_name": "LayoutModel",
      "state": {
       "width": "300px"
      }
     },
     "4f3f4a2ba4054952979eb777fd1f55b3": {
      "model_module": "@jupyter-widgets/controls",
      "model_module_version": "1.0.0",
      "model_name": "LabelModel",
      "state": {
       "layout": "IPY_MODEL_7947287c9c85419a8ec414dff9fedd32",
       "style": "IPY_MODEL_91e615ee87f74becbf818e61fe24bf65",
       "value": "WH SMITH LONDON"
      }
     },
     "4f547fbae24146c28097452917045534": {
      "model_module": "@jupyter-widgets/controls",
      "model_module_version": "1.0.0",
      "model_name": "ProgressStyleModel",
      "state": {
       "description_width": ""
      }
     },
     "4fe61ca018574068bb0697566da22258": {
      "model_module": "@jupyter-widgets/controls",
      "model_module_version": "1.0.0",
      "model_name": "LabelModel",
      "state": {
       "layout": "IPY_MODEL_de5eb96d81984f1d83591355039c8af8",
       "style": "IPY_MODEL_ef7a00df623743799ebae55c11a17a1d",
       "value": "travel"
      }
     },
     "50c754bba8ba41828674103d53169f32": {
      "model_module": "@jupyter-widgets/base",
      "model_module_version": "1.0.0",
      "model_name": "LayoutModel",
      "state": {
       "width": "100px"
      }
     },
     "510f4f00fbdb49fb8e6b9a9995e05094": {
      "model_module": "@jupyter-widgets/controls",
      "model_module_version": "1.0.0",
      "model_name": "DescriptionStyleModel",
      "state": {
       "description_width": ""
      }
     },
     "513ee375bdaa43d0abe0e1b8d43fd1ba": {
      "model_module": "@jupyter-widgets/base",
      "model_module_version": "1.0.0",
      "model_name": "LayoutModel",
      "state": {
       "width": "200px"
      }
     },
     "51b7b2441881488db825b02042493f06": {
      "model_module": "@jupyter-widgets/controls",
      "model_module_version": "1.0.0",
      "model_name": "DescriptionStyleModel",
      "state": {
       "description_width": ""
      }
     },
     "520c5b3724e64b25895b3ff0c17f5ac2": {
      "model_module": "@jupyter-widgets/controls",
      "model_module_version": "1.0.0",
      "model_name": "DescriptionStyleModel",
      "state": {
       "description_width": ""
      }
     },
     "52286c09c9fa4fda81a799bc2b0d4c82": {
      "model_module": "@jupyter-widgets/controls",
      "model_module_version": "1.0.0",
      "model_name": "LabelModel",
      "state": {
       "layout": "IPY_MODEL_9d3c1f89d913493d98b863db5e51350e",
       "style": "IPY_MODEL_be606a894206472ab0390ef12fa5b1be",
       "value": "travel"
      }
     },
     "52e49a28a3c74b46bbee5eadb127d2c2": {
      "model_module": "@jupyter-widgets/controls",
      "model_module_version": "1.0.0",
      "model_name": "DescriptionStyleModel",
      "state": {
       "description_width": ""
      }
     },
     "53bfd179a3014c069d543060970c286f": {
      "model_module": "@jupyter-widgets/base",
      "model_module_version": "1.0.0",
      "model_name": "LayoutModel",
      "state": {
       "width": "100px"
      }
     },
     "54434cd66ceb403e8502d83e3ba84a4d": {
      "model_module": "@jupyter-widgets/controls",
      "model_module_version": "1.0.0",
      "model_name": "FloatProgressModel",
      "state": {
       "description": "0.334",
       "layout": "IPY_MODEL_bf645280c4d5471aac2d85f8f9d96e49",
       "max": 1,
       "min": 0.3333333333333333,
       "style": "IPY_MODEL_8904bffbd0d0483e9349b1a27d0b68c0",
       "value": 0.3335399260858368
      }
     },
     "54658fd4857e4c0dbcd9c551a18062ab": {
      "model_module": "@jupyter-widgets/controls",
      "model_module_version": "1.0.0",
      "model_name": "HBoxModel",
      "state": {
       "children": [
        "IPY_MODEL_7ddfe3fe16f44c4ab0c6f77ba462a5b0",
        "IPY_MODEL_12e7eec5720b4a8ea767cee4c0e60169",
        "IPY_MODEL_8d5aac9d445f4c71ac23a5906fa2b9b9",
        "IPY_MODEL_221594b00c2945988efc27dbc655d2a4"
       ],
       "layout": "IPY_MODEL_cad9335ff5a747808ffaa370dc3be59e"
      }
     },
     "5474fd7e0455486da63db080d96ab006": {
      "model_module": "@jupyter-widgets/base",
      "model_module_version": "1.0.0",
      "model_name": "LayoutModel",
      "state": {
       "width": "300px"
      }
     },
     "54f41be5f6e849b0a1ac1c0c962e133c": {
      "model_module": "@jupyter-widgets/base",
      "model_module_version": "1.0.0",
      "model_name": "LayoutModel",
      "state": {
       "width": "200px"
      }
     },
     "55309ca1c1974cf6ad89c6ac7ee29744": {
      "model_module": "@jupyter-widgets/base",
      "model_module_version": "1.0.0",
      "model_name": "LayoutModel",
      "state": {
       "width": "400px"
      }
     },
     "555f3e46d0f144228fa18ec3b08d4513": {
      "model_module": "@jupyter-widgets/controls",
      "model_module_version": "1.0.0",
      "model_name": "FloatProgressModel",
      "state": {
       "description": "0.334",
       "layout": "IPY_MODEL_182435a477df4cc58ff7e282f6a6470d",
       "max": 1,
       "min": 0.3333333333333333,
       "style": "IPY_MODEL_17d4995abed04337bc66a442fc2ecf98",
       "value": 0.3335399260858368
      }
     },
     "5579b6aa08a94596ae2ae5f18f6805c8": {
      "model_module": "@jupyter-widgets/controls",
      "model_module_version": "1.0.0",
      "model_name": "LabelModel",
      "state": {
       "layout": "IPY_MODEL_8446517a4ad146a7bd9619116ba12981",
       "style": "IPY_MODEL_d989a306746b4c24b025ca675a3b9a9d",
       "value": "travel"
      }
     },
     "5623d96d50cf4f31bf9b20ad82cfbadc": {
      "model_module": "@jupyter-widgets/controls",
      "model_module_version": "1.0.0",
      "model_name": "DescriptionStyleModel",
      "state": {
       "description_width": ""
      }
     },
     "567379b56cc14628a1af8a8ced986fe1": {
      "model_module": "@jupyter-widgets/controls",
      "model_module_version": "1.0.0",
      "model_name": "DescriptionStyleModel",
      "state": {
       "description_width": ""
      }
     },
     "571ba0a288a94b21abdeacf9f2f8106a": {
      "model_module": "@jupyter-widgets/controls",
      "model_module_version": "1.0.0",
      "model_name": "DropdownModel",
      "state": {
       "_options_labels": [
        "",
        "mobile",
        "travel",
        "food"
       ],
       "index": 0,
       "layout": "IPY_MODEL_513ee375bdaa43d0abe0e1b8d43fd1ba",
       "style": "IPY_MODEL_e5eb856de18d42cca59be84a6ecebcdd"
      }
     },
     "578e643d5f6c4799ac77d63651c7dbf5": {
      "model_module": "@jupyter-widgets/base",
      "model_module_version": "1.0.0",
      "model_name": "LayoutModel",
      "state": {
       "width": "100px"
      }
     },
     "5829a4bc57c0485cbf169866c0b0ed98": {
      "model_module": "@jupyter-widgets/base",
      "model_module_version": "1.0.0",
      "model_name": "LayoutModel",
      "state": {
       "width": "300px"
      }
     },
     "5829e58ab6184f9faa92e405055cb8f6": {
      "model_module": "@jupyter-widgets/base",
      "model_module_version": "1.0.0",
      "model_name": "LayoutModel",
      "state": {
       "width": "100px"
      }
     },
     "582b151f39604cdfa4a262b3293780b3": {
      "model_module": "@jupyter-widgets/controls",
      "model_module_version": "1.0.0",
      "model_name": "FloatProgressModel",
      "state": {
       "description": "0.334",
       "layout": "IPY_MODEL_f34ce8c460324956a6040b609eb51d52",
       "max": 1,
       "min": 0.3333333333333333,
       "style": "IPY_MODEL_5cdb30397e1544789a175207c8d08349",
       "value": 0.3335399260858368
      }
     },
     "58cd67f5e2004d8b889815f055891c1b": {
      "model_module": "@jupyter-widgets/controls",
      "model_module_version": "1.0.0",
      "model_name": "DescriptionStyleModel",
      "state": {
       "description_width": ""
      }
     },
     "59ae421dc633456e9162162b91c526eb": {
      "model_module": "@jupyter-widgets/base",
      "model_module_version": "1.0.0",
      "model_name": "LayoutModel",
      "state": {
       "width": "200px"
      }
     },
     "59b5c0421c45471cb3f92e7b3348a0ff": {
      "model_module": "@jupyter-widgets/base",
      "model_module_version": "1.0.0",
      "model_name": "LayoutModel",
      "state": {
       "width": "300px"
      }
     },
     "59ef8f82eaba4971ac79ea170653a374": {
      "model_module": "@jupyter-widgets/base",
      "model_module_version": "1.0.0",
      "model_name": "LayoutModel",
      "state": {
       "width": "200px"
      }
     },
     "5a1e04e5c41d408bbf3a88b70f973524": {
      "model_module": "@jupyter-widgets/controls",
      "model_module_version": "1.0.0",
      "model_name": "HBoxModel",
      "state": {
       "children": [
        "IPY_MODEL_4f3f4a2ba4054952979eb777fd1f55b3",
        "IPY_MODEL_3fbadc6c84a447c785ca8f2250ee1024",
        "IPY_MODEL_b4fe52d1a2e44ef3ba35faea2b896199",
        "IPY_MODEL_7a511850e2b54f9a99aa93e1dc0edd03"
       ],
       "layout": "IPY_MODEL_612bba333db1478db4fb73edb4bce01e"
      }
     },
     "5b34d6253ae04ff081bc5e266ab4af15": {
      "model_module": "@jupyter-widgets/controls",
      "model_module_version": "1.0.0",
      "model_name": "DescriptionStyleModel",
      "state": {
       "description_width": ""
      }
     },
     "5b6b084922c8408a92535add16a0f17e": {
      "model_module": "@jupyter-widgets/controls",
      "model_module_version": "1.0.0",
      "model_name": "DropdownModel",
      "state": {
       "_options_labels": [
        "",
        "mobile",
        "travel",
        "food"
       ],
       "index": 0,
       "layout": "IPY_MODEL_b0f63f4963124ce39c26958958d14709",
       "style": "IPY_MODEL_ba0de027580848118105026e4243e22a"
      }
     },
     "5b769ef36cd546e9bac7d3a28e5fd8d9": {
      "model_module": "@jupyter-widgets/controls",
      "model_module_version": "1.0.0",
      "model_name": "LabelModel",
      "state": {
       "layout": "IPY_MODEL_5474fd7e0455486da63db080d96ab006",
       "style": "IPY_MODEL_2d8287873c70400f9b0ad9969cbe686c",
       "value": "LYTTLETON ARMS LONDON  NW1 4"
      }
     },
     "5bd55c954f364cfe8024219d33146ccd": {
      "model_module": "@jupyter-widgets/controls",
      "model_module_version": "1.0.0",
      "model_name": "LabelModel",
      "state": {
       "layout": "IPY_MODEL_6e7b69c5538d40e48233fc7aadc27b67",
       "style": "IPY_MODEL_40fc024d727e4305b1e144126f9eb299",
       "value": "travel"
      }
     },
     "5bfcd74f04e3468a9ee646e4b5997f35": {
      "model_module": "@jupyter-widgets/controls",
      "model_module_version": "1.0.0",
      "model_name": "ProgressStyleModel",
      "state": {
       "description_width": ""
      }
     },
     "5c2b605c99c34909a64f0ed6830c6eba": {
      "model_module": "@jupyter-widgets/controls",
      "model_module_version": "1.0.0",
      "model_name": "FloatProgressModel",
      "state": {
       "description": "0.990",
       "layout": "IPY_MODEL_a58bf116ebcb47338f47008ad27cb3a5",
       "max": 1,
       "min": 0.3333333333333333,
       "style": "IPY_MODEL_5dca55a71fa5481f980b2bda1074a5ee",
       "value": 0.9897992814777781
      }
     },
     "5c58d0562b384eaa9df2ce73ac70a224": {
      "model_module": "@jupyter-widgets/controls",
      "model_module_version": "1.0.0",
      "model_name": "LabelModel",
      "state": {
       "layout": "IPY_MODEL_142c6532c93f43159eccf149745c526c",
       "style": "IPY_MODEL_307ad33e7d2d4c1fb6853a532382a655",
       "value": "travel"
      }
     },
     "5cdb30397e1544789a175207c8d08349": {
      "model_module": "@jupyter-widgets/controls",
      "model_module_version": "1.0.0",
      "model_name": "ProgressStyleModel",
      "state": {
       "description_width": ""
      }
     },
     "5d0f31988c5b4bc3b11884040371f39a": {
      "model_module": "@jupyter-widgets/base",
      "model_module_version": "1.0.0",
      "model_name": "LayoutModel",
      "state": {
       "width": "100px"
      }
     },
     "5dca55a71fa5481f980b2bda1074a5ee": {
      "model_module": "@jupyter-widgets/controls",
      "model_module_version": "1.0.0",
      "model_name": "ProgressStyleModel",
      "state": {
       "description_width": ""
      }
     },
     "5e0e02531aa84faabe7d7032930affed": {
      "model_module": "@jupyter-widgets/controls",
      "model_module_version": "1.0.0",
      "model_name": "HBoxModel",
      "state": {
       "children": [
        "IPY_MODEL_4a22bce7940b471ea3604ef664caccfe",
        "IPY_MODEL_89b5530013f441bda81728d9c2a38999",
        "IPY_MODEL_bb45ac7942f3495ca8c540b541d92a61",
        "IPY_MODEL_4371ab41f8344fd2a4485c149f941ee2"
       ],
       "layout": "IPY_MODEL_ad844ec0434a4784a3e843d2696b010c"
      }
     },
     "5e6ba970b559427c899209f783bfc5ce": {
      "model_module": "@jupyter-widgets/controls",
      "model_module_version": "1.0.0",
      "model_name": "DescriptionStyleModel",
      "state": {
       "description_width": ""
      }
     },
     "5f58ef97c5b54f09a2c26982b5bbbf01": {
      "model_module": "@jupyter-widgets/controls",
      "model_module_version": "1.0.0",
      "model_name": "DescriptionStyleModel",
      "state": {
       "description_width": ""
      }
     },
     "5f9bbace8bd44286b60f4e6eb45081b6": {
      "model_module": "@jupyter-widgets/base",
      "model_module_version": "1.0.0",
      "model_name": "LayoutModel",
      "state": {
       "width": "200px"
      }
     },
     "612bba333db1478db4fb73edb4bce01e": {
      "model_module": "@jupyter-widgets/base",
      "model_module_version": "1.0.0",
      "model_name": "LayoutModel",
      "state": {
       "flex": "1 0 auto"
      }
     },
     "61e95f56debd43d18bb71f7a6f3033c9": {
      "model_module": "@jupyter-widgets/controls",
      "model_module_version": "1.0.0",
      "model_name": "DescriptionStyleModel",
      "state": {
       "description_width": ""
      }
     },
     "622afeac2290444bb67f439f1fdf31dd": {
      "model_module": "@jupyter-widgets/controls",
      "model_module_version": "1.0.0",
      "model_name": "ProgressStyleModel",
      "state": {
       "description_width": ""
      }
     },
     "6297839d860d438d805d043e872408d7": {
      "model_module": "@jupyter-widgets/base",
      "model_module_version": "1.0.0",
      "model_name": "LayoutModel",
      "state": {
       "width": "300px"
      }
     },
     "62c1c905a25a4c89ac87f59f0117f60d": {
      "model_module": "@jupyter-widgets/controls",
      "model_module_version": "1.0.0",
      "model_name": "LabelModel",
      "state": {
       "layout": "IPY_MODEL_4befc5aa3a8a44c48fa4ff8607a9b2b5",
       "style": "IPY_MODEL_8d4bf6fa5f50484babdae576b1edadcd",
       "value": "mobile"
      }
     },
     "631ca12eed434d61a69cb239daedcba3": {
      "model_module": "@jupyter-widgets/controls",
      "model_module_version": "1.0.0",
      "model_name": "DropdownModel",
      "state": {
       "_options_labels": [
        "",
        "mobile",
        "travel",
        "food"
       ],
       "index": 0,
       "layout": "IPY_MODEL_3b4e3e29b93e48a6960ec18ef62f698d",
       "style": "IPY_MODEL_c460dfa2a570444bb11136e8065b7d8c"
      }
     },
     "6400f9dbdc2f4ed4b48de55b90ffbfd9": {
      "model_module": "@jupyter-widgets/base",
      "model_module_version": "1.0.0",
      "model_name": "LayoutModel",
      "state": {
       "width": "400px"
      }
     },
     "6448beffa4a548bd89081180408ea8a7": {
      "model_module": "@jupyter-widgets/controls",
      "model_module_version": "1.0.0",
      "model_name": "DescriptionStyleModel",
      "state": {
       "description_width": ""
      }
     },
     "6477032f42364d2ea74039820277df10": {
      "model_module": "@jupyter-widgets/base",
      "model_module_version": "1.0.0",
      "model_name": "LayoutModel",
      "state": {
       "width": "300px"
      }
     },
     "648a4efacb2944569c8613cea71a1f19": {
      "model_module": "@jupyter-widgets/controls",
      "model_module_version": "1.0.0",
      "model_name": "DescriptionStyleModel",
      "state": {
       "description_width": ""
      }
     },
     "654ab88767b843d48fc0e4d237f33179": {
      "model_module": "@jupyter-widgets/controls",
      "model_module_version": "1.0.0",
      "model_name": "ProgressStyleModel",
      "state": {
       "description_width": ""
      }
     },
     "659b12ac54d44994b9de98bb1c9e4a22": {
      "model_module": "@jupyter-widgets/controls",
      "model_module_version": "1.0.0",
      "model_name": "DropdownModel",
      "state": {
       "_options_labels": [
        "",
        "mobile",
        "travel",
        "food"
       ],
       "index": 0,
       "layout": "IPY_MODEL_f6ea1eb4bd604abebdb681ba1a07b3cf",
       "style": "IPY_MODEL_de13c30e4d044846a8d0a2226a920ccc"
      }
     },
     "65c3b1e536b0497db48d62e4ae897592": {
      "model_module": "@jupyter-widgets/controls",
      "model_module_version": "1.0.0",
      "model_name": "HBoxModel",
      "state": {
       "children": [
        "IPY_MODEL_6c498408d9ac480e9e0f5da328472e39",
        "IPY_MODEL_dac590801c504fb48e46bff9b4275b02",
        "IPY_MODEL_aa7b1214db054e8885b90ef3be1bde5b",
        "IPY_MODEL_1391c6ecebf84b2f9a09590f746cde95"
       ],
       "layout": "IPY_MODEL_ecd3e75e8f4e4c4596328ec7f5047237"
      }
     },
     "662cfc43e3db4df2aafc92fd07ddaac2": {
      "model_module": "@jupyter-widgets/controls",
      "model_module_version": "1.0.0",
      "model_name": "LabelModel",
      "state": {
       "layout": "IPY_MODEL_3789b78382b2465f905c73404566b787",
       "style": "IPY_MODEL_04feefbedce34e01bad6f95573e3ba1c",
       "value": "travel"
      }
     },
     "66fdf772703641c6b3d487f8e620ef10": {
      "model_module": "@jupyter-widgets/controls",
      "model_module_version": "1.0.0",
      "model_name": "DescriptionStyleModel",
      "state": {
       "description_width": ""
      }
     },
     "67ef99ff3da64c6c886e8aa037cc4427": {
      "model_module": "@jupyter-widgets/controls",
      "model_module_version": "1.0.0",
      "model_name": "FloatProgressModel",
      "state": {
       "description": "0.990",
       "layout": "IPY_MODEL_6960212f17664528b0319296c843956d",
       "max": 1,
       "min": 0.3333333333333333,
       "style": "IPY_MODEL_c7aa7feea7f94eada6c866f826b2a148",
       "value": 0.9897992814777781
      }
     },
     "6884bb90d80241518445ef6724032fc9": {
      "model_module": "@jupyter-widgets/controls",
      "model_module_version": "1.0.0",
      "model_name": "DescriptionStyleModel",
      "state": {
       "description_width": ""
      }
     },
     "6922a5f470ac4cb48e0bcf662a12b3c8": {
      "model_module": "@jupyter-widgets/base",
      "model_module_version": "1.0.0",
      "model_name": "LayoutModel",
      "state": {
       "width": "300px"
      }
     },
     "6960212f17664528b0319296c843956d": {
      "model_module": "@jupyter-widgets/base",
      "model_module_version": "1.0.0",
      "model_name": "LayoutModel",
      "state": {
       "width": "400px"
      }
     },
     "698388bc3f8e4a68b0a20fec7faf3750": {
      "model_module": "@jupyter-widgets/controls",
      "model_module_version": "1.0.0",
      "model_name": "DescriptionStyleModel",
      "state": {
       "description_width": ""
      }
     },
     "6987e131cc384932981613d2483bffd8": {
      "model_module": "@jupyter-widgets/base",
      "model_module_version": "1.0.0",
      "model_name": "LayoutModel",
      "state": {
       "width": "200px"
      }
     },
     "69d46a5f87da4474bccd451728a6afb9": {
      "model_module": "@jupyter-widgets/controls",
      "model_module_version": "1.0.0",
      "model_name": "DropdownModel",
      "state": {
       "_options_labels": [
        "",
        "mobile",
        "travel",
        "food"
       ],
       "index": 0,
       "layout": "IPY_MODEL_5f9bbace8bd44286b60f4e6eb45081b6",
       "style": "IPY_MODEL_96773f5bb0c14c9585d18b0b546f2fff"
      }
     },
     "6a624475d7174a5282fbd99fc8e31c60": {
      "model_module": "@jupyter-widgets/base",
      "model_module_version": "1.0.0",
      "model_name": "LayoutModel",
      "state": {
       "width": "100px"
      }
     },
     "6a92d62b905e401a8ea443de44ef190f": {
      "model_module": "@jupyter-widgets/controls",
      "model_module_version": "1.0.0",
      "model_name": "ProgressStyleModel",
      "state": {
       "description_width": ""
      }
     },
     "6aa3936e9fbc41d6aa121e30a622e4ed": {
      "model_module": "@jupyter-widgets/base",
      "model_module_version": "1.0.0",
      "model_name": "LayoutModel",
      "state": {
       "flex": "1 0 auto"
      }
     },
     "6b53a9130747436ebb174f786c4d4abc": {
      "model_module": "@jupyter-widgets/base",
      "model_module_version": "1.0.0",
      "model_name": "LayoutModel",
      "state": {
       "flex": "1 0 auto"
      }
     },
     "6bf973c244244f39a5d6858464eefe20": {
      "model_module": "@jupyter-widgets/base",
      "model_module_version": "1.0.0",
      "model_name": "LayoutModel",
      "state": {
       "flex": "1 0 auto"
      }
     },
     "6c498408d9ac480e9e0f5da328472e39": {
      "model_module": "@jupyter-widgets/controls",
      "model_module_version": "1.0.0",
      "model_name": "LabelModel",
      "state": {
       "layout": "IPY_MODEL_59b5c0421c45471cb3f92e7b3348a0ff",
       "style": "IPY_MODEL_1e1b01fd8da54ed8a6cb08d274573bfd",
       "value": "TFL.GOV.UK/CP TFL TRAVEL CH"
      }
     },
     "6c9d7e563f564c97a4ca3ae4c549a0d5": {
      "model_module": "@jupyter-widgets/controls",
      "model_module_version": "1.0.0",
      "model_name": "DescriptionStyleModel",
      "state": {
       "description_width": ""
      }
     },
     "6caebcd3fdd543b693c3cbb11e0a2b88": {
      "model_module": "@jupyter-widgets/controls",
      "model_module_version": "1.0.0",
      "model_name": "DescriptionStyleModel",
      "state": {
       "description_width": ""
      }
     },
     "6d047fbc948848858d25fe8d6cb09e8e": {
      "model_module": "@jupyter-widgets/base",
      "model_module_version": "1.0.0",
      "model_name": "LayoutModel",
      "state": {
       "width": "400px"
      }
     },
     "6d97575ff8ca4323b223b6c5676a1545": {
      "model_module": "@jupyter-widgets/controls",
      "model_module_version": "1.0.0",
      "model_name": "DescriptionStyleModel",
      "state": {
       "description_width": ""
      }
     },
     "6e1e2d187a094073bd15c2b6f22ad416": {
      "model_module": "@jupyter-widgets/base",
      "model_module_version": "1.0.0",
      "model_name": "LayoutModel",
      "state": {
       "width": "300px"
      }
     },
     "6e7b69c5538d40e48233fc7aadc27b67": {
      "model_module": "@jupyter-widgets/base",
      "model_module_version": "1.0.0",
      "model_name": "LayoutModel",
      "state": {
       "width": "100px"
      }
     },
     "6e966073f84f41d395da7f0e19111a60": {
      "model_module": "@jupyter-widgets/base",
      "model_module_version": "1.0.0",
      "model_name": "LayoutModel",
      "state": {
       "flex": "1 0 auto"
      }
     },
     "6fd9702e953e4cd1accfd464dc2dc99c": {
      "model_module": "@jupyter-widgets/base",
      "model_module_version": "1.0.0",
      "model_name": "LayoutModel",
      "state": {}
     },
     "704f5b0bad9c4302922c2303a8c67484": {
      "model_module": "@jupyter-widgets/controls",
      "model_module_version": "1.0.0",
      "model_name": "DropdownModel",
      "state": {
       "_options_labels": [
        "",
        "mobile",
        "travel",
        "food"
       ],
       "index": 0,
       "layout": "IPY_MODEL_b027884c676f4c3aabb422060466a152",
       "style": "IPY_MODEL_9d83a8b0a6ca49419e14467b4d99caba"
      }
     },
     "71e75682293c4256b42ee36cfc8718ff": {
      "model_module": "@jupyter-widgets/controls",
      "model_module_version": "1.0.0",
      "model_name": "DescriptionStyleModel",
      "state": {
       "description_width": ""
      }
     },
     "71f228485c5c410fb46a7b2c378113b6": {
      "model_module": "@jupyter-widgets/base",
      "model_module_version": "1.0.0",
      "model_name": "LayoutModel",
      "state": {
       "width": "300px"
      }
     },
     "73415cdad94c4166b565e8270fa32645": {
      "model_module": "@jupyter-widgets/controls",
      "model_module_version": "1.0.0",
      "model_name": "LabelModel",
      "state": {
       "layout": "IPY_MODEL_82da73e622c74ed5969036ef57e40748",
       "style": "IPY_MODEL_520c5b3724e64b25895b3ff0c17f5ac2",
       "value": "travel"
      }
     },
     "7368558cafd9420bb03b963157c32b99": {
      "model_module": "@jupyter-widgets/base",
      "model_module_version": "1.0.0",
      "model_name": "LayoutModel",
      "state": {
       "width": "100px"
      }
     },
     "745a701c1b414022a2271357da77a9ef": {
      "model_module": "@jupyter-widgets/base",
      "model_module_version": "1.0.0",
      "model_name": "LayoutModel",
      "state": {
       "width": "200px"
      }
     },
     "745e03001d4148d483559cd77a43a256": {
      "model_module": "@jupyter-widgets/controls",
      "model_module_version": "1.0.0",
      "model_name": "FloatProgressModel",
      "state": {
       "description": "0.334",
       "layout": "IPY_MODEL_7d9b545a271544b292e5da31a7a9b817",
       "max": 1,
       "min": 0.3333333333333333,
       "style": "IPY_MODEL_d00ffe77e7134a6f87090cec98a74cb6",
       "value": 0.3335399260858368
      }
     },
     "758b796f0a1a41af87848311931cb654": {
      "model_module": "@jupyter-widgets/base",
      "model_module_version": "1.0.0",
      "model_name": "LayoutModel",
      "state": {
       "flex": "1 0 auto"
      }
     },
     "7626def3c81c41d2bba251ae70533246": {
      "model_module": "@jupyter-widgets/controls",
      "model_module_version": "1.0.0",
      "model_name": "DropdownModel",
      "state": {
       "_options_labels": [
        "",
        "mobile",
        "travel",
        "food"
       ],
       "index": 0,
       "layout": "IPY_MODEL_e058f09ef0934f62860fad62f20bcf32",
       "style": "IPY_MODEL_e15ee23aed3f4434baaf6a3572e01acf"
      }
     },
     "764b45548d754ddb93bc88e08f2d51e9": {
      "model_module": "@jupyter-widgets/controls",
      "model_module_version": "1.0.0",
      "model_name": "DropdownModel",
      "state": {
       "_options_labels": [
        "",
        "mobile",
        "travel",
        "food"
       ],
       "index": 0,
       "layout": "IPY_MODEL_dc2363f9ab4a4e918dc5b72203ec2637",
       "style": "IPY_MODEL_567379b56cc14628a1af8a8ced986fe1"
      }
     },
     "76859ef014444de09a51d05fecfcfaa5": {
      "model_module": "@jupyter-widgets/base",
      "model_module_version": "1.0.0",
      "model_name": "LayoutModel",
      "state": {
       "width": "400px"
      }
     },
     "76e2fda7b86a4a4eba16112331aec703": {
      "model_module": "@jupyter-widgets/base",
      "model_module_version": "1.0.0",
      "model_name": "LayoutModel",
      "state": {
       "width": "100px"
      }
     },
     "771809e78e82413898ac9cf93dd54dab": {
      "model_module": "@jupyter-widgets/controls",
      "model_module_version": "1.0.0",
      "model_name": "LabelModel",
      "state": {
       "layout": "IPY_MODEL_ea9457e3b7ef47808cf06a11275f1646",
       "style": "IPY_MODEL_94073b22f2ce4e83b289af904b4f89f9",
       "value": "SARDO COFFEE SHOP LONDON  W1T"
      }
     },
     "774837875a7a4c4a923d2a6183a8e302": {
      "model_module": "@jupyter-widgets/base",
      "model_module_version": "1.0.0",
      "model_name": "LayoutModel",
      "state": {
       "width": "200px"
      }
     },
     "776c64f8f2f3477e8c1cb7020c9b5745": {
      "model_module": "@jupyter-widgets/base",
      "model_module_version": "1.0.0",
      "model_name": "LayoutModel",
      "state": {
       "flex": "1 0 auto"
      }
     },
     "77c4d89c38624146bb1ea04047d36dc0": {
      "model_module": "@jupyter-widgets/controls",
      "model_module_version": "1.0.0",
      "model_name": "LabelModel",
      "state": {
       "layout": "IPY_MODEL_a9270264656944c6aba8659dc56da7e5",
       "style": "IPY_MODEL_8e88b8987b5c4b22a8316c344eb12fd2",
       "value": "BT GROUP PLC "
      }
     },
     "77f675858e454e83a0e40a92777fb758": {
      "model_module": "@jupyter-widgets/base",
      "model_module_version": "1.0.0",
      "model_name": "LayoutModel",
      "state": {
       "width": "300px"
      }
     },
     "78a64c85629445279f3e19a8e6e07e30": {
      "model_module": "@jupyter-widgets/base",
      "model_module_version": "1.0.0",
      "model_name": "LayoutModel",
      "state": {
       "width": "400px"
      }
     },
     "78eb5db1e99f4d70b1f54af3ac3fd93b": {
      "model_module": "@jupyter-widgets/base",
      "model_module_version": "1.0.0",
      "model_name": "LayoutModel",
      "state": {
       "width": "400px"
      }
     },
     "793d5f98131547bca0649dc423dfde51": {
      "model_module": "@jupyter-widgets/controls",
      "model_module_version": "1.0.0",
      "model_name": "LabelModel",
      "state": {
       "layout": "IPY_MODEL_ee4585571a3d4607807f9cf011bdb002",
       "style": "IPY_MODEL_1505ff6a2c564cc2af081daae6383608",
       "value": "travel"
      }
     },
     "7947287c9c85419a8ec414dff9fedd32": {
      "model_module": "@jupyter-widgets/base",
      "model_module_version": "1.0.0",
      "model_name": "LayoutModel",
      "state": {
       "width": "300px"
      }
     },
     "7963042eb3f748908d8e738e984a2110": {
      "model_module": "@jupyter-widgets/base",
      "model_module_version": "1.0.0",
      "model_name": "LayoutModel",
      "state": {
       "flex": "1 0 auto"
      }
     },
     "7a511850e2b54f9a99aa93e1dc0edd03": {
      "model_module": "@jupyter-widgets/controls",
      "model_module_version": "1.0.0",
      "model_name": "FloatProgressModel",
      "state": {
       "description": "0.334",
       "layout": "IPY_MODEL_76859ef014444de09a51d05fecfcfaa5",
       "max": 1,
       "min": 0.3333333333333333,
       "style": "IPY_MODEL_f84ae2b335f0442dac6ac08f69e7cc84",
       "value": 0.3335399260858368
      }
     },
     "7abf2937d3524fca83af514de89ea920": {
      "model_module": "@jupyter-widgets/controls",
      "model_module_version": "1.0.0",
      "model_name": "LabelModel",
      "state": {
       "layout": "IPY_MODEL_5829e58ab6184f9faa92e405055cb8f6",
       "style": "IPY_MODEL_891fcb3357fb45b59ca3360703ae7113",
       "value": "travel"
      }
     },
     "7c723ad7d87d40048186b08b5f1698cc": {
      "model_module": "@jupyter-widgets/base",
      "model_module_version": "1.0.0",
      "model_name": "LayoutModel",
      "state": {
       "width": "100px"
      }
     },
     "7caae07ee1f745ecb2380e4de897ec84": {
      "model_module": "@jupyter-widgets/base",
      "model_module_version": "1.0.0",
      "model_name": "LayoutModel",
      "state": {
       "width": "100px"
      }
     },
     "7d6ed51186bb478fb4942d68e7b61ed4": {
      "model_module": "@jupyter-widgets/controls",
      "model_module_version": "1.0.0",
      "model_name": "DescriptionStyleModel",
      "state": {
       "description_width": ""
      }
     },
     "7d9b545a271544b292e5da31a7a9b817": {
      "model_module": "@jupyter-widgets/base",
      "model_module_version": "1.0.0",
      "model_name": "LayoutModel",
      "state": {
       "width": "400px"
      }
     },
     "7dc845f7b41e4635bcdd312013623b93": {
      "model_module": "@jupyter-widgets/controls",
      "model_module_version": "1.0.0",
      "model_name": "LabelModel",
      "state": {
       "layout": "IPY_MODEL_96f0bceba7034a8b99fb966a56bc0cd6",
       "style": "IPY_MODEL_b959b875b63c420f8cd165d4a8935e85",
       "value": "travel"
      }
     },
     "7ddfe3fe16f44c4ab0c6f77ba462a5b0": {
      "model_module": "@jupyter-widgets/controls",
      "model_module_version": "1.0.0",
      "model_name": "LabelModel",
      "state": {
       "layout": "IPY_MODEL_8682dc4de98a4ca5982a769a8af7dbbf",
       "style": "IPY_MODEL_0551a2a1bf7e450a8f3e15d1770bc043",
       "value": "NEW SOUTHERN RAILW LND SW1V 5973"
      }
     },
     "7e039ffd4f864302a7b6b176e11db904": {
      "model_module": "@jupyter-widgets/base",
      "model_module_version": "1.0.0",
      "model_name": "LayoutModel",
      "state": {
       "width": "200px"
      }
     },
     "7e0450ad908f4c54bc1f084876993e87": {
      "model_module": "@jupyter-widgets/controls",
      "model_module_version": "1.0.0",
      "model_name": "LabelModel",
      "state": {
       "layout": "IPY_MODEL_31727c31b67b4c699c3345ed5f20797a",
       "style": "IPY_MODEL_954d14110801438e9fc24cda751d070a",
       "value": "Non-Sterling Transaction Fee"
      }
     },
     "7e79464b67b44d63b77d1771866cbb84": {
      "model_module": "@jupyter-widgets/base",
      "model_module_version": "1.0.0",
      "model_name": "LayoutModel",
      "state": {
       "width": "200px"
      }
     },
     "7fdd9e21ce994b0b9c16b44bc05f6dcc": {
      "model_module": "@jupyter-widgets/controls",
      "model_module_version": "1.0.0",
      "model_name": "DescriptionStyleModel",
      "state": {
       "description_width": ""
      }
     },
     "80aeff24097b4d6fad5b9a284a7c1f6c": {
      "model_module": "@jupyter-widgets/base",
      "model_module_version": "1.0.0",
      "model_name": "LayoutModel",
      "state": {
       "width": "400px"
      }
     },
     "81ae91995df446909bf471b33e112561": {
      "model_module": "@jupyter-widgets/controls",
      "model_module_version": "1.0.0",
      "model_name": "LabelModel",
      "state": {
       "layout": "IPY_MODEL_28e6d62a142243bd9d5d62dce3bfc669",
       "style": "IPY_MODEL_3b417ae758b14aa6a5288a901f54f01c",
       "value": "travel"
      }
     },
     "81b2a0575b734d62ab089fefadcf3a54": {
      "model_module": "@jupyter-widgets/controls",
      "model_module_version": "1.0.0",
      "model_name": "DescriptionStyleModel",
      "state": {
       "description_width": ""
      }
     },
     "81dd1a686f3649559d36a9c791e0243d": {
      "model_module": "@jupyter-widgets/controls",
      "model_module_version": "1.0.0",
      "model_name": "LabelModel",
      "state": {
       "layout": "IPY_MODEL_f56d483bb5b04f949a91feffdeb995b1",
       "style": "IPY_MODEL_3c201447f0794f3fbce827326ecf3c7a",
       "value": "BUSABA LEICESTER S LONDON"
      }
     },
     "820fb51d296941c3bb3418ce1f51cdb8": {
      "model_module": "@jupyter-widgets/controls",
      "model_module_version": "1.0.0",
      "model_name": "FloatProgressModel",
      "state": {
       "description": "0.334",
       "layout": "IPY_MODEL_bd8033dd110b481b9b4ffed74051bd51",
       "max": 1,
       "min": 0.3333333333333333,
       "style": "IPY_MODEL_1855845435954a7785ce57e07ca11b57",
       "value": 0.3335399260858368
      }
     },
     "825632b853b54fadb6b8404aacb75177": {
      "model_module": "@jupyter-widgets/controls",
      "model_module_version": "1.0.0",
      "model_name": "HBoxModel",
      "state": {
       "children": [
        "IPY_MODEL_99bc5d9af06c400b856762a926682755",
        "IPY_MODEL_659b12ac54d44994b9de98bb1c9e4a22",
        "IPY_MODEL_662cfc43e3db4df2aafc92fd07ddaac2",
        "IPY_MODEL_839f19e4f42446a1acbabc64abc88ea2"
       ],
       "layout": "IPY_MODEL_a361264cb4f14525999a9deeed7dde28"
      }
     },
     "82a04cf9df084ff994034acc7f6a8255": {
      "model_module": "@jupyter-widgets/base",
      "model_module_version": "1.0.0",
      "model_name": "LayoutModel",
      "state": {
       "width": "300px"
      }
     },
     "82ac5d8511bd4570991dd161ebf723ed": {
      "model_module": "@jupyter-widgets/controls",
      "model_module_version": "1.0.0",
      "model_name": "DescriptionStyleModel",
      "state": {
       "description_width": ""
      }
     },
     "82b5d7b5114046888b12ec4320a9c4de": {
      "model_module": "@jupyter-widgets/controls",
      "model_module_version": "1.0.0",
      "model_name": "ProgressStyleModel",
      "state": {
       "description_width": ""
      }
     },
     "82cad98989b44922bbbc61d46f540b30": {
      "model_module": "@jupyter-widgets/controls",
      "model_module_version": "1.0.0",
      "model_name": "LabelModel",
      "state": {
       "layout": "IPY_MODEL_8b3004add5c74747afcd70269741b5b0",
       "style": "IPY_MODEL_ae8d8d6e0eb44cb889be1ebb677d7cc4",
       "value": "TFL.GOV.UK/CP TFL TRAVEL CH"
      }
     },
     "82da73e622c74ed5969036ef57e40748": {
      "model_module": "@jupyter-widgets/base",
      "model_module_version": "1.0.0",
      "model_name": "LayoutModel",
      "state": {
       "width": "100px"
      }
     },
     "82e20b3658454819b0d7136f2268bc17": {
      "model_module": "@jupyter-widgets/controls",
      "model_module_version": "1.0.0",
      "model_name": "DropdownModel",
      "state": {
       "_options_labels": [
        "",
        "mobile",
        "travel",
        "food"
       ],
       "index": 1,
       "layout": "IPY_MODEL_85763898e353433fa95900dd598c2884",
       "style": "IPY_MODEL_0fcbe29cb870438db2b936a09c1397d1"
      }
     },
     "8330a01c80564bc3824976941a23a94c": {
      "model_module": "@jupyter-widgets/base",
      "model_module_version": "1.0.0",
      "model_name": "LayoutModel",
      "state": {
       "width": "200px"
      }
     },
     "839f19e4f42446a1acbabc64abc88ea2": {
      "model_module": "@jupyter-widgets/controls",
      "model_module_version": "1.0.0",
      "model_name": "FloatProgressModel",
      "state": {
       "description": "0.990",
       "layout": "IPY_MODEL_1562728652624ce8a61da7916cd1d6ae",
       "max": 1,
       "min": 0.3333333333333333,
       "style": "IPY_MODEL_48fa018437b84c6abc54934ec292b9b2",
       "value": 0.9897992814777781
      }
     },
     "83aa71d95c9944cf8302c8b10f06f5f9": {
      "model_module": "@jupyter-widgets/base",
      "model_module_version": "1.0.0",
      "model_name": "LayoutModel",
      "state": {
       "width": "200px"
      }
     },
     "83f4aa5d7e464b1ab41ccac7974e87fd": {
      "model_module": "@jupyter-widgets/base",
      "model_module_version": "1.0.0",
      "model_name": "LayoutModel",
      "state": {
       "flex": "1 0 auto"
      }
     },
     "8446517a4ad146a7bd9619116ba12981": {
      "model_module": "@jupyter-widgets/base",
      "model_module_version": "1.0.0",
      "model_name": "LayoutModel",
      "state": {
       "width": "100px"
      }
     },
     "844a8f4d3b6e4b23a2b18b2f64585e75": {
      "model_module": "@jupyter-widgets/base",
      "model_module_version": "1.0.0",
      "model_name": "LayoutModel",
      "state": {
       "flex": "1 0 auto"
      }
     },
     "846a05d61ade4dab89ef11ead8dddc0c": {
      "model_module": "@jupyter-widgets/controls",
      "model_module_version": "1.0.0",
      "model_name": "ProgressStyleModel",
      "state": {
       "description_width": ""
      }
     },
     "8558fa243af4478a84c79bfb1059ddc5": {
      "model_module": "@jupyter-widgets/controls",
      "model_module_version": "1.0.0",
      "model_name": "HBoxModel",
      "state": {
       "children": [
        "IPY_MODEL_fe731c70ea0a4feb95ee35d01c9457ec",
        "IPY_MODEL_089909ec416148e9b88ab48257d1d9a7",
        "IPY_MODEL_5579b6aa08a94596ae2ae5f18f6805c8",
        "IPY_MODEL_b03092008f6544059052a3cc0d88bcc3"
       ],
       "layout": "IPY_MODEL_6e966073f84f41d395da7f0e19111a60"
      }
     },
     "85763898e353433fa95900dd598c2884": {
      "model_module": "@jupyter-widgets/base",
      "model_module_version": "1.0.0",
      "model_name": "LayoutModel",
      "state": {
       "width": "200px"
      }
     },
     "85a28f7b8ef046508f267a32bbae1b6c": {
      "model_module": "@jupyter-widgets/base",
      "model_module_version": "1.0.0",
      "model_name": "LayoutModel",
      "state": {
       "flex": "1 0 auto"
      }
     },
     "85b8160d8a594d76825895d8697b6eb2": {
      "model_module": "@jupyter-widgets/controls",
      "model_module_version": "1.0.0",
      "model_name": "HBoxModel",
      "state": {
       "children": [
        "IPY_MODEL_77c4d89c38624146bb1ea04047d36dc0",
        "IPY_MODEL_7626def3c81c41d2bba251ae70533246",
        "IPY_MODEL_96535af446544eeaac183a960684c699",
        "IPY_MODEL_54434cd66ceb403e8502d83e3ba84a4d"
       ],
       "layout": "IPY_MODEL_f09c6d5bd2b8441a81b3500c25af3a7d"
      }
     },
     "8604bda1939c44f58f4a6babe0ed569b": {
      "model_module": "@jupyter-widgets/controls",
      "model_module_version": "1.0.0",
      "model_name": "HBoxModel",
      "state": {
       "children": [
        "IPY_MODEL_f5f0d2cfc3d24293ade390cd0fc4a497",
        "IPY_MODEL_f4466aee248d4770861affe507fa6d82",
        "IPY_MODEL_52286c09c9fa4fda81a799bc2b0d4c82",
        "IPY_MODEL_14c7773be61e4ea69132a04734504d73"
       ],
       "layout": "IPY_MODEL_f48d75117a414e3e8d8d14142b0d51c2"
      }
     },
     "865f27c7ca6243ae996586bfd2448bcc": {
      "model_module": "@jupyter-widgets/controls",
      "model_module_version": "1.0.0",
      "model_name": "LabelModel",
      "state": {
       "layout": "IPY_MODEL_7c723ad7d87d40048186b08b5f1698cc",
       "style": "IPY_MODEL_1d68e9338d3a48faab07d2ff9d85e36b",
       "value": "travel"
      }
     },
     "8682dc4de98a4ca5982a769a8af7dbbf": {
      "model_module": "@jupyter-widgets/base",
      "model_module_version": "1.0.0",
      "model_name": "LayoutModel",
      "state": {
       "width": "300px"
      }
     },
     "870e1af85c964cc59cf783aedc379e70": {
      "model_module": "@jupyter-widgets/base",
      "model_module_version": "1.0.0",
      "model_name": "LayoutModel",
      "state": {
       "width": "400px"
      }
     },
     "87696a505c1743639f7914c6eed174aa": {
      "model_module": "@jupyter-widgets/base",
      "model_module_version": "1.0.0",
      "model_name": "LayoutModel",
      "state": {
       "width": "100px"
      }
     },
     "8799d118882f461d89e5984ce8f90cc4": {
      "model_module": "@jupyter-widgets/controls",
      "model_module_version": "1.0.0",
      "model_name": "HBoxModel",
      "state": {
       "children": [
        "IPY_MODEL_29aa92b2424d4e71a81fc253c3a582c2",
        "IPY_MODEL_d22340fdb6a34136bc1ce9d090b74830",
        "IPY_MODEL_bc423f5d59c048de9d876c70820f7492",
        "IPY_MODEL_1c7133f13cac43d894571eb59f03e2e4"
       ],
       "layout": "IPY_MODEL_be0d830bb23e49b3b28b4e8640689ba7"
      }
     },
     "87b6913bcfde4df5b826c98fc0a86ec1": {
      "model_module": "@jupyter-widgets/controls",
      "model_module_version": "1.0.0",
      "model_name": "LabelModel",
      "state": {
       "layout": "IPY_MODEL_a84c0d9839f54f6b8bdfce7fb37407c4",
       "style": "IPY_MODEL_06da48c466bc4b5fb2f32ba4b41f4f63",
       "value": "travel"
      }
     },
     "881869828ff04368b3988c092fbcd3cd": {
      "model_module": "@jupyter-widgets/controls",
      "model_module_version": "1.0.0",
      "model_name": "FloatProgressModel",
      "state": {
       "description": "0.334",
       "layout": "IPY_MODEL_78a64c85629445279f3e19a8e6e07e30",
       "max": 1,
       "min": 0.3333333333333333,
       "style": "IPY_MODEL_0a01660ee7864d9fb913b09f2b6d118e",
       "value": 0.3335399260858368
      }
     },
     "886b7edb45124d83b509c60dc277d339": {
      "model_module": "@jupyter-widgets/base",
      "model_module_version": "1.0.0",
      "model_name": "LayoutModel",
      "state": {
       "width": "400px"
      }
     },
     "887b6413d9e74314ad0dd3831742d659": {
      "model_module": "@jupyter-widgets/controls",
      "model_module_version": "1.0.0",
      "model_name": "DescriptionStyleModel",
      "state": {
       "description_width": ""
      }
     },
     "8898231a34c343a099b1d5b5686b669b": {
      "model_module": "@jupyter-widgets/controls",
      "model_module_version": "1.0.0",
      "model_name": "HBoxModel",
      "state": {
       "children": [
        "IPY_MODEL_9bd07a80500344a8a6c24d7d67d272bf",
        "IPY_MODEL_da21eabb77744f3a9e86c52623b3c1f4",
        "IPY_MODEL_dce7d30945734685b205e6a216f49bb8",
        "IPY_MODEL_342e3832be344218901bb7c40aa6323f"
       ],
       "layout": "IPY_MODEL_776c64f8f2f3477e8c1cb7020c9b5745"
      }
     },
     "8904bffbd0d0483e9349b1a27d0b68c0": {
      "model_module": "@jupyter-widgets/controls",
      "model_module_version": "1.0.0",
      "model_name": "ProgressStyleModel",
      "state": {
       "description_width": ""
      }
     },
     "891fcb3357fb45b59ca3360703ae7113": {
      "model_module": "@jupyter-widgets/controls",
      "model_module_version": "1.0.0",
      "model_name": "DescriptionStyleModel",
      "state": {
       "description_width": ""
      }
     },
     "8956d90eefe6431ab0df757aeeb89e69": {
      "model_module": "@jupyter-widgets/controls",
      "model_module_version": "1.0.0",
      "model_name": "FloatProgressModel",
      "state": {
       "description": "0.990",
       "layout": "IPY_MODEL_90f6d551ca6e4266bd4a6e0ed2bf647b",
       "max": 1,
       "min": 0.3333333333333333,
       "style": "IPY_MODEL_13e38460efbd43cba933016f1e190072",
       "value": 0.9897992814777781
      }
     },
     "89b5530013f441bda81728d9c2a38999": {
      "model_module": "@jupyter-widgets/controls",
      "model_module_version": "1.0.0",
      "model_name": "DropdownModel",
      "state": {
       "_options_labels": [
        "",
        "mobile",
        "travel",
        "food"
       ],
       "index": 3,
       "layout": "IPY_MODEL_54f41be5f6e849b0a1ac1c0c962e133c",
       "style": "IPY_MODEL_16cae06ef3f64342a170227fe4c08f30"
      }
     },
     "8a05ed60e33a43c480b0c08ddbbe9ac5": {
      "model_module": "@jupyter-widgets/base",
      "model_module_version": "1.0.0",
      "model_name": "LayoutModel",
      "state": {
       "width": "100px"
      }
     },
     "8b0d35c708da47d88351e0692e1ec6e1": {
      "model_module": "@jupyter-widgets/controls",
      "model_module_version": "1.0.0",
      "model_name": "LabelModel",
      "state": {
       "layout": "IPY_MODEL_f9b52034d6474a8fac05c4accb33d8d5",
       "style": "IPY_MODEL_29578bed16cb4c18a07db37eab07d343",
       "value": "travel"
      }
     },
     "8b26fa84700e4a0995737255f6696f1c": {
      "model_module": "@jupyter-widgets/controls",
      "model_module_version": "1.0.0",
      "model_name": "DropdownModel",
      "state": {
       "_options_labels": [
        "",
        "mobile",
        "travel",
        "food"
       ],
       "index": 0,
       "layout": "IPY_MODEL_83aa71d95c9944cf8302c8b10f06f5f9",
       "style": "IPY_MODEL_bcdf760c283245b7a3104cd88332513d"
      }
     },
     "8b3004add5c74747afcd70269741b5b0": {
      "model_module": "@jupyter-widgets/base",
      "model_module_version": "1.0.0",
      "model_name": "LayoutModel",
      "state": {
       "width": "300px"
      }
     },
     "8b4888d1cae14ee392054dba69649850": {
      "model_module": "@jupyter-widgets/base",
      "model_module_version": "1.0.0",
      "model_name": "LayoutModel",
      "state": {
       "width": "200px"
      }
     },
     "8ba639ee947f4aed8fb7c65d01dc54f8": {
      "model_module": "@jupyter-widgets/controls",
      "model_module_version": "1.0.0",
      "model_name": "FloatProgressModel",
      "state": {
       "description": "0.990",
       "layout": "IPY_MODEL_9f77d840a46b40cd898658fc837c9979",
       "max": 1,
       "min": 0.3333333333333333,
       "style": "IPY_MODEL_622afeac2290444bb67f439f1fdf31dd",
       "value": 0.9897992814777781
      }
     },
     "8c40495601da48f59e940e950d9069fc": {
      "model_module": "@jupyter-widgets/controls",
      "model_module_version": "1.0.0",
      "model_name": "DescriptionStyleModel",
      "state": {
       "description_width": ""
      }
     },
     "8ceb44792f4a41a0ba3a59b69de55f3a": {
      "model_module": "@jupyter-widgets/controls",
      "model_module_version": "1.0.0",
      "model_name": "DescriptionStyleModel",
      "state": {
       "description_width": ""
      }
     },
     "8cf178b9d9e7495f8ca0d450addd63b7": {
      "model_module": "@jupyter-widgets/base",
      "model_module_version": "1.0.0",
      "model_name": "LayoutModel",
      "state": {
       "width": "400px"
      }
     },
     "8d4bf6fa5f50484babdae576b1edadcd": {
      "model_module": "@jupyter-widgets/controls",
      "model_module_version": "1.0.0",
      "model_name": "DescriptionStyleModel",
      "state": {
       "description_width": ""
      }
     },
     "8d5aac9d445f4c71ac23a5906fa2b9b9": {
      "model_module": "@jupyter-widgets/controls",
      "model_module_version": "1.0.0",
      "model_name": "LabelModel",
      "state": {
       "layout": "IPY_MODEL_7caae07ee1f745ecb2380e4de897ec84",
       "style": "IPY_MODEL_a95045c594dc4284b2276dd1dc7135c1",
       "value": "travel"
      }
     },
     "8e88b8987b5c4b22a8316c344eb12fd2": {
      "model_module": "@jupyter-widgets/controls",
      "model_module_version": "1.0.0",
      "model_name": "DescriptionStyleModel",
      "state": {
       "description_width": ""
      }
     },
     "8fb02d00d97f479ebdd1128547a74049": {
      "model_module": "@jupyter-widgets/controls",
      "model_module_version": "1.0.0",
      "model_name": "DescriptionStyleModel",
      "state": {
       "description_width": ""
      }
     },
     "90de5ddfc9374d94867ed9999b8c5c85": {
      "model_module": "@jupyter-widgets/controls",
      "model_module_version": "1.0.0",
      "model_name": "DescriptionStyleModel",
      "state": {
       "description_width": ""
      }
     },
     "90f6d551ca6e4266bd4a6e0ed2bf647b": {
      "model_module": "@jupyter-widgets/base",
      "model_module_version": "1.0.0",
      "model_name": "LayoutModel",
      "state": {
       "width": "400px"
      }
     },
     "91e12f1a2f1e4f00a86c1bf2d6d0b42f": {
      "model_module": "@jupyter-widgets/controls",
      "model_module_version": "1.0.0",
      "model_name": "DescriptionStyleModel",
      "state": {
       "description_width": ""
      }
     },
     "91e615ee87f74becbf818e61fe24bf65": {
      "model_module": "@jupyter-widgets/controls",
      "model_module_version": "1.0.0",
      "model_name": "DescriptionStyleModel",
      "state": {
       "description_width": ""
      }
     },
     "91ea114bb7664893a01d9add379cd87f": {
      "model_module": "@jupyter-widgets/controls",
      "model_module_version": "1.0.0",
      "model_name": "LabelModel",
      "state": {
       "layout": "IPY_MODEL_d5f5c0013fb647ec9cb81c446a51de61",
       "style": "IPY_MODEL_da161d0b33aa41bdb910794d5d826589",
       "value": "EE  &  T-MOBILE "
      }
     },
     "924b3944374a4410b30f23feff6d6a0a": {
      "model_module": "@jupyter-widgets/controls",
      "model_module_version": "1.0.0",
      "model_name": "DescriptionStyleModel",
      "state": {
       "description_width": ""
      }
     },
     "925ecd02d1ca4bb08b2e0cac791695f9": {
      "model_module": "@jupyter-widgets/base",
      "model_module_version": "1.0.0",
      "model_name": "LayoutModel",
      "state": {
       "width": "200px"
      }
     },
     "92905a5aeebe42f9872d45bc04bc7bf1": {
      "model_module": "@jupyter-widgets/controls",
      "model_module_version": "1.0.0",
      "model_name": "LabelModel",
      "state": {
       "layout": "IPY_MODEL_4f26db297e784c3ead1dd34c23de3192",
       "style": "IPY_MODEL_3cf5a7b6ef484438a8da5b32338bb58b",
       "value": "JAMIES ITALIAN GATWICK"
      }
     },
     "92f1f1319a564e23a52e5df79e11edfe": {
      "model_module": "@jupyter-widgets/base",
      "model_module_version": "1.0.0",
      "model_name": "LayoutModel",
      "state": {
       "width": "100px"
      }
     },
     "931904fdba8d49c8ad406c6cf441b113": {
      "model_module": "@jupyter-widgets/base",
      "model_module_version": "1.0.0",
      "model_name": "LayoutModel",
      "state": {
       "width": "300px"
      }
     },
     "931f6dfc8c9c4ecb8feafeb9d308feb6": {
      "model_module": "@jupyter-widgets/controls",
      "model_module_version": "1.0.0",
      "model_name": "ProgressStyleModel",
      "state": {
       "description_width": ""
      }
     },
     "93325b6d2adb4f5686ebcb028d8ce7b5": {
      "model_module": "@jupyter-widgets/base",
      "model_module_version": "1.0.0",
      "model_name": "LayoutModel",
      "state": {
       "width": "100px"
      }
     },
     "93cb388439a441cfad2c1bb790514b0f": {
      "model_module": "@jupyter-widgets/controls",
      "model_module_version": "1.0.0",
      "model_name": "LabelModel",
      "state": {
       "layout": "IPY_MODEL_76e2fda7b86a4a4eba16112331aec703",
       "style": "IPY_MODEL_29c9314c5ae5423aba979173e5f90860",
       "value": "travel"
      }
     },
     "94073b22f2ce4e83b289af904b4f89f9": {
      "model_module": "@jupyter-widgets/controls",
      "model_module_version": "1.0.0",
      "model_name": "DescriptionStyleModel",
      "state": {
       "description_width": ""
      }
     },
     "943976b15c274a8eb2dbd561bac5f1a8": {
      "model_module": "@jupyter-widgets/controls",
      "model_module_version": "1.0.0",
      "model_name": "LabelModel",
      "state": {
       "layout": "IPY_MODEL_c3ce09ef65b84fd7b3eb647b77359c5f",
       "style": "IPY_MODEL_cae619ab4f2d49ffbc4085b8a68c4162",
       "value": "TFL.GOV.UK/CP TFL TRAVEL CH"
      }
     },
     "946659fb93b94a0a8d1bb62b6af494f3": {
      "model_module": "@jupyter-widgets/controls",
      "model_module_version": "1.0.0",
      "model_name": "DescriptionStyleModel",
      "state": {
       "description_width": ""
      }
     },
     "94860a5781da4db8a69998411ee9878e": {
      "model_module": "@jupyter-widgets/controls",
      "model_module_version": "1.0.0",
      "model_name": "DescriptionStyleModel",
      "state": {
       "description_width": ""
      }
     },
     "948a198d7d624eb7acc10054537e67c6": {
      "model_module": "@jupyter-widgets/controls",
      "model_module_version": "1.0.0",
      "model_name": "LabelModel",
      "state": {
       "layout": "IPY_MODEL_f98e7bf65aa146159663b3617c0ed151",
       "style": "IPY_MODEL_bb2c54da28dd460da2539fdb71fb2616",
       "value": "MOMENT LONDON"
      }
     },
     "94d995e66db449d7a989ac18c777c24e": {
      "model_module": "@jupyter-widgets/controls",
      "model_module_version": "1.0.0",
      "model_name": "DescriptionStyleModel",
      "state": {
       "description_width": ""
      }
     },
     "954d14110801438e9fc24cda751d070a": {
      "model_module": "@jupyter-widgets/controls",
      "model_module_version": "1.0.0",
      "model_name": "DescriptionStyleModel",
      "state": {
       "description_width": ""
      }
     },
     "9629679f4a8e4600b9cea5989190329c": {
      "model_module": "@jupyter-widgets/base",
      "model_module_version": "1.0.0",
      "model_name": "LayoutModel",
      "state": {
       "width": "200px"
      }
     },
     "96535af446544eeaac183a960684c699": {
      "model_module": "@jupyter-widgets/controls",
      "model_module_version": "1.0.0",
      "model_name": "LabelModel",
      "state": {
       "layout": "IPY_MODEL_bf9714e1e7db416999a2e28fb0c6820f",
       "style": "IPY_MODEL_9b934158d1034465860592a6d345e215",
       "value": "travel"
      }
     },
     "96773f5bb0c14c9585d18b0b546f2fff": {
      "model_module": "@jupyter-widgets/controls",
      "model_module_version": "1.0.0",
      "model_name": "DescriptionStyleModel",
      "state": {
       "description_width": ""
      }
     },
     "96b27c4220dc4e5e8e7e7393c12f3c90": {
      "model_module": "@jupyter-widgets/base",
      "model_module_version": "1.0.0",
      "model_name": "LayoutModel",
      "state": {
       "flex": "1 0 auto"
      }
     },
     "96f0bceba7034a8b99fb966a56bc0cd6": {
      "model_module": "@jupyter-widgets/base",
      "model_module_version": "1.0.0",
      "model_name": "LayoutModel",
      "state": {
       "width": "100px"
      }
     },
     "97609cac1437404786a446ab526c4665": {
      "model_module": "@jupyter-widgets/controls",
      "model_module_version": "1.0.0",
      "model_name": "LabelModel",
      "state": {
       "layout": "IPY_MODEL_87696a505c1743639f7914c6eed174aa",
       "style": "IPY_MODEL_01ef33eecbf1468fa2e111db3a61a235",
       "value": "travel"
      }
     },
     "97c55f7f989849408241fa918296a0c6": {
      "model_module": "@jupyter-widgets/controls",
      "model_module_version": "1.0.0",
      "model_name": "FloatProgressModel",
      "state": {
       "description": "0.334",
       "layout": "IPY_MODEL_c4646f9e2aca4e279b0a468c7c503fee",
       "max": 1,
       "min": 0.3333333333333333,
       "style": "IPY_MODEL_984c2763ce4844a8b806e9bb867b340f",
       "value": 0.3335399260858368
      }
     },
     "9811fb9ad48842c29d08e8b3a86c37bf": {
      "model_module": "@jupyter-widgets/base",
      "model_module_version": "1.0.0",
      "model_name": "LayoutModel",
      "state": {
       "width": "400px"
      }
     },
     "981a4458bdb4460682cf5fbff2ddf11d": {
      "model_module": "@jupyter-widgets/base",
      "model_module_version": "1.0.0",
      "model_name": "LayoutModel",
      "state": {
       "width": "200px"
      }
     },
     "984c2763ce4844a8b806e9bb867b340f": {
      "model_module": "@jupyter-widgets/controls",
      "model_module_version": "1.0.0",
      "model_name": "ProgressStyleModel",
      "state": {
       "description_width": ""
      }
     },
     "996ad17616594e35a801ce532672e496": {
      "model_module": "@jupyter-widgets/base",
      "model_module_version": "1.0.0",
      "model_name": "LayoutModel",
      "state": {}
     },
     "99bc5d9af06c400b856762a926682755": {
      "model_module": "@jupyter-widgets/controls",
      "model_module_version": "1.0.0",
      "model_name": "LabelModel",
      "state": {
       "layout": "IPY_MODEL_b4dab9d88c7546b7916a6423ec84f834",
       "style": "IPY_MODEL_8fb02d00d97f479ebdd1128547a74049",
       "value": "TFL.GOV.UK/CP TFL TRAVEL CH"
      }
     },
     "99d50d8ad9d2426e81449be2f61399e5": {
      "model_module": "@jupyter-widgets/controls",
      "model_module_version": "1.0.0",
      "model_name": "HBoxModel",
      "state": {
       "children": [
        "IPY_MODEL_17f75b612a2b429ea4b6817fb3fd1934",
        "IPY_MODEL_43cbcbd79f2543cfad735d3c2d96c34b",
        "IPY_MODEL_04cd0ab470a344468d527c80522da674",
        "IPY_MODEL_c3aaecbb429f4f07b46d2e926a5034a9"
       ],
       "layout": "IPY_MODEL_039e24469ead4c8e85f5a47e30ddd719"
      }
     },
     "9a8a7b5dc0204a3da2917af461923931": {
      "model_module": "@jupyter-widgets/controls",
      "model_module_version": "1.0.0",
      "model_name": "ProgressStyleModel",
      "state": {
       "description_width": ""
      }
     },
     "9b934158d1034465860592a6d345e215": {
      "model_module": "@jupyter-widgets/controls",
      "model_module_version": "1.0.0",
      "model_name": "DescriptionStyleModel",
      "state": {
       "description_width": ""
      }
     },
     "9b9f0ed117eb40058ea75e046ec94d97": {
      "model_module": "@jupyter-widgets/base",
      "model_module_version": "1.0.0",
      "model_name": "LayoutModel",
      "state": {
       "width": "400px"
      }
     },
     "9bd07a80500344a8a6c24d7d67d272bf": {
      "model_module": "@jupyter-widgets/controls",
      "model_module_version": "1.0.0",
      "model_name": "LabelModel",
      "state": {
       "layout": "IPY_MODEL_4a46b55890d1444195a1dfcee56894a3",
       "style": "IPY_MODEL_da81ba3f66514ae4bbedac10a40f79fe",
       "value": "TFL.GOV.UK/CP TFL TRAVEL CH"
      }
     },
     "9c35a8b0fd364190ae4776b871b804ea": {
      "model_module": "@jupyter-widgets/controls",
      "model_module_version": "1.0.0",
      "model_name": "ProgressStyleModel",
      "state": {
       "description_width": ""
      }
     },
     "9c38c4fa810c4a398a4e718ea053a9d9": {
      "model_module": "@jupyter-widgets/controls",
      "model_module_version": "1.0.0",
      "model_name": "ButtonModel",
      "state": {
       "description": "retrain",
       "layout": "IPY_MODEL_c7581bdb5b744014b793aeb14fa1e8ca",
       "style": "IPY_MODEL_b45de1bc60b549f8a5dbe2f30ffe5141"
      }
     },
     "9c4540a09b45451a91209279afb2e1ae": {
      "model_module": "@jupyter-widgets/controls",
      "model_module_version": "1.0.0",
      "model_name": "ProgressStyleModel",
      "state": {
       "description_width": ""
      }
     },
     "9c89b8dd8dac4b4585a17f8bc4128f82": {
      "model_module": "@jupyter-widgets/base",
      "model_module_version": "1.0.0",
      "model_name": "LayoutModel",
      "state": {
       "width": "300px"
      }
     },
     "9d3c1f89d913493d98b863db5e51350e": {
      "model_module": "@jupyter-widgets/base",
      "model_module_version": "1.0.0",
      "model_name": "LayoutModel",
      "state": {
       "width": "100px"
      }
     },
     "9d83a8b0a6ca49419e14467b4d99caba": {
      "model_module": "@jupyter-widgets/controls",
      "model_module_version": "1.0.0",
      "model_name": "DescriptionStyleModel",
      "state": {
       "description_width": ""
      }
     },
     "9dd0affefcb644038155ccdfac6c485a": {
      "model_module": "@jupyter-widgets/base",
      "model_module_version": "1.0.0",
      "model_name": "LayoutModel",
      "state": {
       "width": "400px"
      }
     },
     "9de0486c0722435f9c9f43f226795141": {
      "model_module": "@jupyter-widgets/controls",
      "model_module_version": "1.0.0",
      "model_name": "DescriptionStyleModel",
      "state": {
       "description_width": ""
      }
     },
     "9e0a116ffc7a4b39a6c431808ab255f9": {
      "model_module": "@jupyter-widgets/base",
      "model_module_version": "1.0.0",
      "model_name": "LayoutModel",
      "state": {
       "width": "400px"
      }
     },
     "9ebb46cca5134b95a3217c0fc4d04904": {
      "model_module": "@jupyter-widgets/controls",
      "model_module_version": "1.0.0",
      "model_name": "DropdownModel",
      "state": {
       "_options_labels": [
        "",
        "mobile",
        "travel",
        "food"
       ],
       "index": 0,
       "layout": "IPY_MODEL_59ae421dc633456e9162162b91c526eb",
       "style": "IPY_MODEL_14b39922664c41caa2c7fb53a3cc3fa5"
      }
     },
     "9f360b30a6834f6a8724de57272a3291": {
      "model_module": "@jupyter-widgets/controls",
      "model_module_version": "1.0.0",
      "model_name": "LabelModel",
      "state": {
       "layout": "IPY_MODEL_10a3a986d0524327bb550d0617831e44",
       "style": "IPY_MODEL_b9297d4c1e5a44dd8b4f511deb130711",
       "value": "TFL.GOV.UK/CP TFL TRAVEL CH"
      }
     },
     "9f77d840a46b40cd898658fc837c9979": {
      "model_module": "@jupyter-widgets/base",
      "model_module_version": "1.0.0",
      "model_name": "LayoutModel",
      "state": {
       "width": "400px"
      }
     },
     "a052fe658529429791ed5faeb6f8da1f": {
      "model_module": "@jupyter-widgets/base",
      "model_module_version": "1.0.0",
      "model_name": "LayoutModel",
      "state": {
       "width": "100px"
      }
     },
     "a0a456717b83409f9f9caa37c702afbb": {
      "model_module": "@jupyter-widgets/base",
      "model_module_version": "1.0.0",
      "model_name": "LayoutModel",
      "state": {
       "width": "200px"
      }
     },
     "a3125874a2b845979f08f07967907d4b": {
      "model_module": "@jupyter-widgets/controls",
      "model_module_version": "1.0.0",
      "model_name": "ProgressStyleModel",
      "state": {
       "description_width": ""
      }
     },
     "a361264cb4f14525999a9deeed7dde28": {
      "model_module": "@jupyter-widgets/base",
      "model_module_version": "1.0.0",
      "model_name": "LayoutModel",
      "state": {
       "flex": "1 0 auto"
      }
     },
     "a3a0e51c45ff4951b25b5fd036bed3d8": {
      "model_module": "@jupyter-widgets/controls",
      "model_module_version": "1.0.0",
      "model_name": "LabelModel",
      "state": {
       "layout": "IPY_MODEL_53bfd179a3014c069d543060970c286f",
       "style": "IPY_MODEL_8c40495601da48f59e940e950d9069fc",
       "value": "travel"
      }
     },
     "a4c78414c5534a199f9110b8be103edf": {
      "model_module": "@jupyter-widgets/base",
      "model_module_version": "1.0.0",
      "model_name": "LayoutModel",
      "state": {
       "flex": "1 0 auto"
      }
     },
     "a4d3a8b4ce324a779bc0cbf0fff2cbb1": {
      "model_module": "@jupyter-widgets/base",
      "model_module_version": "1.0.0",
      "model_name": "LayoutModel",
      "state": {
       "flex": "1 0 auto"
      }
     },
     "a4dfdd882626480f81e958f81800bcd6": {
      "model_module": "@jupyter-widgets/controls",
      "model_module_version": "1.0.0",
      "model_name": "ProgressStyleModel",
      "state": {
       "description_width": ""
      }
     },
     "a4ff70af87134bdb87be6095efc769a0": {
      "model_module": "@jupyter-widgets/controls",
      "model_module_version": "1.0.0",
      "model_name": "DropdownModel",
      "state": {
       "_options_labels": [
        "",
        "mobile",
        "travel",
        "food"
       ],
       "index": 0,
       "layout": "IPY_MODEL_d9b61f1f84d147af88fe375af661847c",
       "style": "IPY_MODEL_016ff5bbb72f4df4b97917d920b5df59"
      }
     },
     "a58bf116ebcb47338f47008ad27cb3a5": {
      "model_module": "@jupyter-widgets/base",
      "model_module_version": "1.0.0",
      "model_name": "LayoutModel",
      "state": {
       "width": "400px"
      }
     },
     "a7b6518e815242c8a05f8d71e635c13e": {
      "model_module": "@jupyter-widgets/base",
      "model_module_version": "1.0.0",
      "model_name": "LayoutModel",
      "state": {
       "flex": "1 0 auto"
      }
     },
     "a84c0d9839f54f6b8bdfce7fb37407c4": {
      "model_module": "@jupyter-widgets/base",
      "model_module_version": "1.0.0",
      "model_name": "LayoutModel",
      "state": {
       "width": "100px"
      }
     },
     "a88b548938e646cbaf2197e09ece4782": {
      "model_module": "@jupyter-widgets/controls",
      "model_module_version": "1.0.0",
      "model_name": "DescriptionStyleModel",
      "state": {
       "description_width": ""
      }
     },
     "a8af1c7e3de049d6a6a97d02d61911b5": {
      "model_module": "@jupyter-widgets/controls",
      "model_module_version": "1.0.0",
      "model_name": "FloatProgressModel",
      "state": {
       "description": "0.334",
       "layout": "IPY_MODEL_f37720f7dab24aa996fffa1a1a10a2ec",
       "max": 1,
       "min": 0.3333333333333333,
       "style": "IPY_MODEL_931f6dfc8c9c4ecb8feafeb9d308feb6",
       "value": 0.3335399260858368
      }
     },
     "a9270264656944c6aba8659dc56da7e5": {
      "model_module": "@jupyter-widgets/base",
      "model_module_version": "1.0.0",
      "model_name": "LayoutModel",
      "state": {
       "width": "300px"
      }
     },
     "a95045c594dc4284b2276dd1dc7135c1": {
      "model_module": "@jupyter-widgets/controls",
      "model_module_version": "1.0.0",
      "model_name": "DescriptionStyleModel",
      "state": {
       "description_width": ""
      }
     },
     "a9b59b14b5314160a6d5229e557f156e": {
      "model_module": "@jupyter-widgets/controls",
      "model_module_version": "1.0.0",
      "model_name": "DropdownModel",
      "state": {
       "_options_labels": [
        "",
        "mobile",
        "travel",
        "food"
       ],
       "index": 0,
       "layout": "IPY_MODEL_e730e347c83d45299a8ecbe15939d393",
       "style": "IPY_MODEL_f67d8e49f03445ff8706f53f79d6aec5"
      }
     },
     "aa7b1214db054e8885b90ef3be1bde5b": {
      "model_module": "@jupyter-widgets/controls",
      "model_module_version": "1.0.0",
      "model_name": "LabelModel",
      "state": {
       "layout": "IPY_MODEL_3a35888a81d54d0e8317a773734c212a",
       "style": "IPY_MODEL_a88b548938e646cbaf2197e09ece4782",
       "value": "travel"
      }
     },
     "ab148e867b3d461abfebf9fdb7f98ece": {
      "model_module": "@jupyter-widgets/controls",
      "model_module_version": "1.0.0",
      "model_name": "DescriptionStyleModel",
      "state": {
       "description_width": ""
      }
     },
     "ac2318c58af9406787444c3b3713e429": {
      "model_module": "@jupyter-widgets/controls",
      "model_module_version": "1.0.0",
      "model_name": "HBoxModel",
      "state": {
       "children": [
        "IPY_MODEL_de7796ee2b2f41388aa80c07e1d5398f",
        "IPY_MODEL_dbb618d6a0494b39a3b8a380734ba34c",
        "IPY_MODEL_f4494ec75f39402d83b031a3571c6099",
        "IPY_MODEL_4ccc61b5b2cd4423849a9c9b9c794e2d"
       ],
       "layout": "IPY_MODEL_b3eac9634c1645b98c3e5ceb5bd60d2d"
      }
     },
     "acd99c519459494d9e7094e08e4ddc7d": {
      "model_module": "@jupyter-widgets/controls",
      "model_module_version": "1.0.0",
      "model_name": "DescriptionStyleModel",
      "state": {
       "description_width": ""
      }
     },
     "acff7d59ff994d08a38b023c8e9025fc": {
      "model_module": "@jupyter-widgets/controls",
      "model_module_version": "1.0.0",
      "model_name": "HBoxModel",
      "state": {
       "children": [
        "IPY_MODEL_f7533ee784244249a19871e413daa88a",
        "IPY_MODEL_704f5b0bad9c4302922c2303a8c67484",
        "IPY_MODEL_73415cdad94c4166b565e8270fa32645",
        "IPY_MODEL_a8af1c7e3de049d6a6a97d02d61911b5"
       ],
       "layout": "IPY_MODEL_0afb435563304313912d8a80ab0494d8"
      }
     },
     "ad289e5656e745809ec9c52bc7eb69c4": {
      "model_module": "@jupyter-widgets/controls",
      "model_module_version": "1.0.0",
      "model_name": "DescriptionStyleModel",
      "state": {
       "description_width": ""
      }
     },
     "ad40a8ab52624ae28ec51d307dae6ddd": {
      "model_module": "@jupyter-widgets/controls",
      "model_module_version": "1.0.0",
      "model_name": "HBoxModel",
      "state": {
       "children": [
        "IPY_MODEL_cf68bede860945da8ff1845052722d34",
        "IPY_MODEL_e80b5609cff949b0bd795a89200038dc",
        "IPY_MODEL_37f574256d0140fb98a67b4f27a385e9",
        "IPY_MODEL_e4bdbc568bf94f51936e9941beeeb8d8"
       ],
       "layout": "IPY_MODEL_758b796f0a1a41af87848311931cb654"
      }
     },
     "ad844ec0434a4784a3e843d2696b010c": {
      "model_module": "@jupyter-widgets/base",
      "model_module_version": "1.0.0",
      "model_name": "LayoutModel",
      "state": {
       "flex": "1 0 auto"
      }
     },
     "ae01c90416f640648cade6dd27134bb3": {
      "model_module": "@jupyter-widgets/controls",
      "model_module_version": "1.0.0",
      "model_name": "DropdownModel",
      "state": {
       "_options_labels": [
        "",
        "mobile",
        "travel",
        "food"
       ],
       "index": 0,
       "layout": "IPY_MODEL_7e039ffd4f864302a7b6b176e11db904",
       "style": "IPY_MODEL_3c1f7711002e48ed8e3b1bd00eab3b29"
      }
     },
     "ae8d8d6e0eb44cb889be1ebb677d7cc4": {
      "model_module": "@jupyter-widgets/controls",
      "model_module_version": "1.0.0",
      "model_name": "DescriptionStyleModel",
      "state": {
       "description_width": ""
      }
     },
     "b027884c676f4c3aabb422060466a152": {
      "model_module": "@jupyter-widgets/base",
      "model_module_version": "1.0.0",
      "model_name": "LayoutModel",
      "state": {
       "width": "200px"
      }
     },
     "b03092008f6544059052a3cc0d88bcc3": {
      "model_module": "@jupyter-widgets/controls",
      "model_module_version": "1.0.0",
      "model_name": "FloatProgressModel",
      "state": {
       "description": "0.990",
       "layout": "IPY_MODEL_870e1af85c964cc59cf783aedc379e70",
       "max": 1,
       "min": 0.3333333333333333,
       "style": "IPY_MODEL_b6416eb04631451e82e9a7e56a6370d7",
       "value": 0.9897992814777781
      }
     },
     "b08ee4da68f647b9bc9be7b78d08769b": {
      "model_module": "@jupyter-widgets/base",
      "model_module_version": "1.0.0",
      "model_name": "LayoutModel",
      "state": {
       "flex": "1 0 auto"
      }
     },
     "b0f63f4963124ce39c26958958d14709": {
      "model_module": "@jupyter-widgets/base",
      "model_module_version": "1.0.0",
      "model_name": "LayoutModel",
      "state": {
       "width": "200px"
      }
     },
     "b1d3243bbbfb4182968fb53caeb6ffce": {
      "model_module": "@jupyter-widgets/controls",
      "model_module_version": "1.0.0",
      "model_name": "HBoxModel",
      "state": {
       "children": [
        "IPY_MODEL_37b6007981564a8d9e840c9d3c221fbe",
        "IPY_MODEL_4e8ad653af76449eb04c43839b1df355",
        "IPY_MODEL_3b5fecc1df914380a48aa9ab656de93d",
        "IPY_MODEL_4969529a888048f1942bea2cb3de565d"
       ],
       "layout": "IPY_MODEL_33e738a8f53a47d996a44bd09b802ecb"
      }
     },
     "b28bbedf3cfa4ba785843fbb04e14a01": {
      "model_module": "@jupyter-widgets/controls",
      "model_module_version": "1.0.0",
      "model_name": "DescriptionStyleModel",
      "state": {
       "description_width": ""
      }
     },
     "b2aae2b191c04e1bac59ffd0a3591171": {
      "model_module": "@jupyter-widgets/base",
      "model_module_version": "1.0.0",
      "model_name": "LayoutModel",
      "state": {
       "width": "400px"
      }
     },
     "b2db949ded16479caac03b282fd27441": {
      "model_module": "@jupyter-widgets/controls",
      "model_module_version": "1.0.0",
      "model_name": "HBoxModel",
      "state": {
       "children": [
        "IPY_MODEL_267b6ad420b84dadb4887ce76b61c5f8",
        "IPY_MODEL_d2b44907a17945de88ccc42db63e66ae",
        "IPY_MODEL_97609cac1437404786a446ab526c4665",
        "IPY_MODEL_97c55f7f989849408241fa918296a0c6"
       ],
       "layout": "IPY_MODEL_85a28f7b8ef046508f267a32bbae1b6c"
      }
     },
     "b3782c2b254c436593b21abd4ffeafed": {
      "model_module": "@jupyter-widgets/base",
      "model_module_version": "1.0.0",
      "model_name": "LayoutModel",
      "state": {
       "width": "100px"
      }
     },
     "b3eac9634c1645b98c3e5ceb5bd60d2d": {
      "model_module": "@jupyter-widgets/base",
      "model_module_version": "1.0.0",
      "model_name": "LayoutModel",
      "state": {
       "flex": "1 0 auto"
      }
     },
     "b45de1bc60b549f8a5dbe2f30ffe5141": {
      "model_module": "@jupyter-widgets/controls",
      "model_module_version": "1.0.0",
      "model_name": "ButtonStyleModel",
      "state": {}
     },
     "b466095d2abe4036a5be4287cf96d25b": {
      "model_module": "@jupyter-widgets/base",
      "model_module_version": "1.0.0",
      "model_name": "LayoutModel",
      "state": {
       "width": "200px"
      }
     },
     "b4dab9d88c7546b7916a6423ec84f834": {
      "model_module": "@jupyter-widgets/base",
      "model_module_version": "1.0.0",
      "model_name": "LayoutModel",
      "state": {
       "width": "300px"
      }
     },
     "b4fe52d1a2e44ef3ba35faea2b896199": {
      "model_module": "@jupyter-widgets/controls",
      "model_module_version": "1.0.0",
      "model_name": "LabelModel",
      "state": {
       "layout": "IPY_MODEL_b3782c2b254c436593b21abd4ffeafed",
       "style": "IPY_MODEL_94860a5781da4db8a69998411ee9878e",
       "value": "travel"
      }
     },
     "b5b2ec1cee4345b2bdb3f453279c9b21": {
      "model_module": "@jupyter-widgets/controls",
      "model_module_version": "1.0.0",
      "model_name": "FloatProgressModel",
      "state": {
       "description": "0.990",
       "layout": "IPY_MODEL_33bdc30294294d4c84d8535493a1ae2d",
       "max": 1,
       "min": 0.3333333333333333,
       "style": "IPY_MODEL_4ae7b9bfd43444e287b6865e4b422f87",
       "value": 0.9897992814777781
      }
     },
     "b6416eb04631451e82e9a7e56a6370d7": {
      "model_module": "@jupyter-widgets/controls",
      "model_module_version": "1.0.0",
      "model_name": "ProgressStyleModel",
      "state": {
       "description_width": ""
      }
     },
     "b64d0e18d0e547298e793711425a7bc3": {
      "model_module": "@jupyter-widgets/base",
      "model_module_version": "1.0.0",
      "model_name": "LayoutModel",
      "state": {
       "width": "300px"
      }
     },
     "b65b3f0355a24aaeb72fbea3b8df7050": {
      "model_module": "@jupyter-widgets/controls",
      "model_module_version": "1.0.0",
      "model_name": "ProgressStyleModel",
      "state": {
       "description_width": ""
      }
     },
     "b7c0d38b164b44b1a84f833988229574": {
      "model_module": "@jupyter-widgets/controls",
      "model_module_version": "1.0.0",
      "model_name": "DropdownModel",
      "state": {
       "_options_labels": [
        "",
        "mobile",
        "travel",
        "food"
       ],
       "index": 0,
       "layout": "IPY_MODEL_3b7d8db4f3d54d8992338de0e00825aa",
       "style": "IPY_MODEL_15635383ee1540d79a3b8453519cb57c"
      }
     },
     "b84ff3b3452c4bd2a14ed56e34f74ce2": {
      "model_module": "@jupyter-widgets/base",
      "model_module_version": "1.0.0",
      "model_name": "LayoutModel",
      "state": {
       "width": "200px"
      }
     },
     "b9297d4c1e5a44dd8b4f511deb130711": {
      "model_module": "@jupyter-widgets/controls",
      "model_module_version": "1.0.0",
      "model_name": "DescriptionStyleModel",
      "state": {
       "description_width": ""
      }
     },
     "b959b875b63c420f8cd165d4a8935e85": {
      "model_module": "@jupyter-widgets/controls",
      "model_module_version": "1.0.0",
      "model_name": "DescriptionStyleModel",
      "state": {
       "description_width": ""
      }
     },
     "b9a51773b3f94d7cbbf7c0f349071d1c": {
      "model_module": "@jupyter-widgets/controls",
      "model_module_version": "1.0.0",
      "model_name": "DescriptionStyleModel",
      "state": {
       "description_width": ""
      }
     },
     "b9d5fe2841c1446eba33792ba3d3c8af": {
      "model_module": "@jupyter-widgets/controls",
      "model_module_version": "1.0.0",
      "model_name": "LabelModel",
      "state": {
       "layout": "IPY_MODEL_82a04cf9df084ff994034acc7f6a8255",
       "style": "IPY_MODEL_61e95f56debd43d18bb71f7a6f3033c9",
       "value": "TFL.GOV.UK/CP TFL TRAVEL CH"
      }
     },
     "ba0de027580848118105026e4243e22a": {
      "model_module": "@jupyter-widgets/controls",
      "model_module_version": "1.0.0",
      "model_name": "DescriptionStyleModel",
      "state": {
       "description_width": ""
      }
     },
     "bb2c54da28dd460da2539fdb71fb2616": {
      "model_module": "@jupyter-widgets/controls",
      "model_module_version": "1.0.0",
      "model_name": "DescriptionStyleModel",
      "state": {
       "description_width": ""
      }
     },
     "bb45ac7942f3495ca8c540b541d92a61": {
      "model_module": "@jupyter-widgets/controls",
      "model_module_version": "1.0.0",
      "model_name": "LabelModel",
      "state": {
       "layout": "IPY_MODEL_e9499aab6f0f4a0aba9aec4fa06a0bc0",
       "style": "IPY_MODEL_081c146d21c64e0fa0465d7d21ab0cf9",
       "value": "food"
      }
     },
     "bb6ed2a466fc4c1681995ea556a5b0ce": {
      "model_module": "@jupyter-widgets/base",
      "model_module_version": "1.0.0",
      "model_name": "LayoutModel",
      "state": {
       "width": "400px"
      }
     },
     "bc423f5d59c048de9d876c70820f7492": {
      "model_module": "@jupyter-widgets/controls",
      "model_module_version": "1.0.0",
      "model_name": "LabelModel",
      "state": {
       "layout": "IPY_MODEL_50c754bba8ba41828674103d53169f32",
       "style": "IPY_MODEL_698388bc3f8e4a68b0a20fec7faf3750",
       "value": "travel"
      }
     },
     "bc4797cd97414ace965c8e3525cdac13": {
      "model_module": "@jupyter-widgets/controls",
      "model_module_version": "1.0.0",
      "model_name": "DescriptionStyleModel",
      "state": {
       "description_width": ""
      }
     },
     "bcdf760c283245b7a3104cd88332513d": {
      "model_module": "@jupyter-widgets/controls",
      "model_module_version": "1.0.0",
      "model_name": "DescriptionStyleModel",
      "state": {
       "description_width": ""
      }
     },
     "bd2fbe736d7f47d3bb3f57d9ef7f3c3d": {
      "model_module": "@jupyter-widgets/controls",
      "model_module_version": "1.0.0",
      "model_name": "HBoxModel",
      "state": {
       "children": [
        "IPY_MODEL_9c38c4fa810c4a398a4e718ea053a9d9"
       ],
       "layout": "IPY_MODEL_996ad17616594e35a801ce532672e496"
      }
     },
     "bd7b6f4558af491fbccc8f63966ae29a": {
      "model_module": "@jupyter-widgets/controls",
      "model_module_version": "1.0.0",
      "model_name": "HBoxModel",
      "state": {
       "children": [
        "IPY_MODEL_3a53e2d2b3fd4e98af58cf31366997a3",
        "IPY_MODEL_f54484421db44b2c8277446d84565a3b",
        "IPY_MODEL_0be889730a0846499f52ba520d5358ea",
        "IPY_MODEL_e02ce0df4f30492ba2ef19694aca39f5"
       ],
       "layout": "IPY_MODEL_6bf973c244244f39a5d6858464eefe20"
      }
     },
     "bd8033dd110b481b9b4ffed74051bd51": {
      "model_module": "@jupyter-widgets/base",
      "model_module_version": "1.0.0",
      "model_name": "LayoutModel",
      "state": {
       "width": "400px"
      }
     },
     "bdd1974b209f4fa384f9bf922baa7ad3": {
      "model_module": "@jupyter-widgets/controls",
      "model_module_version": "1.0.0",
      "model_name": "FloatProgressModel",
      "state": {
       "description": "0.990",
       "layout": "IPY_MODEL_d650f70d02c64a218a8a1896ffe97be7",
       "max": 1,
       "min": 0.3333333333333333,
       "style": "IPY_MODEL_28235f2e05f2402c8d6e9ee2b4af92ad",
       "value": 0.9897992814777781
      }
     },
     "be0d830bb23e49b3b28b4e8640689ba7": {
      "model_module": "@jupyter-widgets/base",
      "model_module_version": "1.0.0",
      "model_name": "LayoutModel",
      "state": {
       "flex": "1 0 auto"
      }
     },
     "be606a894206472ab0390ef12fa5b1be": {
      "model_module": "@jupyter-widgets/controls",
      "model_module_version": "1.0.0",
      "model_name": "DescriptionStyleModel",
      "state": {
       "description_width": ""
      }
     },
     "be8a0aba65094f108f7f6a1035395ab5": {
      "model_module": "@jupyter-widgets/controls",
      "model_module_version": "1.0.0",
      "model_name": "HBoxModel",
      "state": {
       "children": [
        "IPY_MODEL_d71e219442a94655a8a9d7a53e4444bf",
        "IPY_MODEL_8b26fa84700e4a0995737255f6696f1c",
        "IPY_MODEL_93cb388439a441cfad2c1bb790514b0f",
        "IPY_MODEL_11169902884a401f957276ee7f0c618c"
       ],
       "layout": "IPY_MODEL_17c9f40cef8b41b3ae1796663be6b8f0"
      }
     },
     "bea27c762f5243a99a977de23ab0ed96": {
      "model_module": "@jupyter-widgets/controls",
      "model_module_version": "1.0.0",
      "model_name": "LabelModel",
      "state": {
       "layout": "IPY_MODEL_1116c0d10a1540faa88608d14ba7fb77",
       "style": "IPY_MODEL_fdc9a61aef784a95abc89b1dab89c263",
       "value": "SICILIANA LONDON"
      }
     },
     "bebdbe7a05e74112a6315e6e04192bdc": {
      "model_module": "@jupyter-widgets/controls",
      "model_module_version": "1.0.0",
      "model_name": "DescriptionStyleModel",
      "state": {
       "description_width": ""
      }
     },
     "bee981598cf5441799523ec2c11c918c": {
      "model_module": "@jupyter-widgets/controls",
      "model_module_version": "1.0.0",
      "model_name": "FloatProgressModel",
      "state": {
       "description": "0.334",
       "layout": "IPY_MODEL_9811fb9ad48842c29d08e8b3a86c37bf",
       "max": 1,
       "min": 0.3333333333333333,
       "style": "IPY_MODEL_147953cf2c4d496eafec2da6cea088a9",
       "value": 0.3335399260858368
      }
     },
     "bf645280c4d5471aac2d85f8f9d96e49": {
      "model_module": "@jupyter-widgets/base",
      "model_module_version": "1.0.0",
      "model_name": "LayoutModel",
      "state": {
       "width": "400px"
      }
     },
     "bf9714e1e7db416999a2e28fb0c6820f": {
      "model_module": "@jupyter-widgets/base",
      "model_module_version": "1.0.0",
      "model_name": "LayoutModel",
      "state": {
       "width": "100px"
      }
     },
     "c21a5782f69e4936801b61fcf1e9e5cb": {
      "model_module": "@jupyter-widgets/controls",
      "model_module_version": "1.0.0",
      "model_name": "ProgressStyleModel",
      "state": {
       "description_width": ""
      }
     },
     "c2b8785e8d0b45719d2fd3a47e02e6e5": {
      "model_module": "@jupyter-widgets/base",
      "model_module_version": "1.0.0",
      "model_name": "LayoutModel",
      "state": {
       "flex": "1 0 auto"
      }
     },
     "c2b91c509fcf48288847487c8df7873c": {
      "model_module": "@jupyter-widgets/base",
      "model_module_version": "1.0.0",
      "model_name": "LayoutModel",
      "state": {
       "width": "100px"
      }
     },
     "c3aaecbb429f4f07b46d2e926a5034a9": {
      "model_module": "@jupyter-widgets/controls",
      "model_module_version": "1.0.0",
      "model_name": "FloatProgressModel",
      "state": {
       "description": "0.334",
       "layout": "IPY_MODEL_ce9d7c8570cf4fae8433bc24993dbe60",
       "max": 1,
       "min": 0.3333333333333333,
       "style": "IPY_MODEL_5bfcd74f04e3468a9ee646e4b5997f35",
       "value": 0.3335399260858368
      }
     },
     "c3ce09ef65b84fd7b3eb647b77359c5f": {
      "model_module": "@jupyter-widgets/base",
      "model_module_version": "1.0.0",
      "model_name": "LayoutModel",
      "state": {
       "width": "300px"
      }
     },
     "c445500f38a8409980e0fcb0e699f76d": {
      "model_module": "@jupyter-widgets/base",
      "model_module_version": "1.0.0",
      "model_name": "LayoutModel",
      "state": {
       "width": "200px"
      }
     },
     "c460dfa2a570444bb11136e8065b7d8c": {
      "model_module": "@jupyter-widgets/controls",
      "model_module_version": "1.0.0",
      "model_name": "DescriptionStyleModel",
      "state": {
       "description_width": ""
      }
     },
     "c4646f9e2aca4e279b0a468c7c503fee": {
      "model_module": "@jupyter-widgets/base",
      "model_module_version": "1.0.0",
      "model_name": "LayoutModel",
      "state": {
       "width": "400px"
      }
     },
     "c51464083da34191a8dc5106d85e66a6": {
      "model_module": "@jupyter-widgets/controls",
      "model_module_version": "1.0.0",
      "model_name": "HBoxModel",
      "state": {
       "children": [
        "IPY_MODEL_771809e78e82413898ac9cf93dd54dab",
        "IPY_MODEL_fbffab769d6645df8746e99a53ba3038",
        "IPY_MODEL_87b6913bcfde4df5b826c98fc0a86ec1",
        "IPY_MODEL_bee981598cf5441799523ec2c11c918c"
       ],
       "layout": "IPY_MODEL_1dd999d96a3e4091b59bf2923dc2ebfa"
      }
     },
     "c5ceb411674341e2a4f81d417646d755": {
      "model_module": "@jupyter-widgets/base",
      "model_module_version": "1.0.0",
      "model_name": "LayoutModel",
      "state": {
       "width": "300px"
      }
     },
     "c5df3f832e714ac39e580c3dbe5f7e08": {
      "model_module": "@jupyter-widgets/controls",
      "model_module_version": "1.0.0",
      "model_name": "ProgressStyleModel",
      "state": {
       "description_width": ""
      }
     },
     "c677922069a64e28b707c08066b53413": {
      "model_module": "@jupyter-widgets/controls",
      "model_module_version": "1.0.0",
      "model_name": "DescriptionStyleModel",
      "state": {
       "description_width": ""
      }
     },
     "c7581bdb5b744014b793aeb14fa1e8ca": {
      "model_module": "@jupyter-widgets/base",
      "model_module_version": "1.0.0",
      "model_name": "LayoutModel",
      "state": {}
     },
     "c762f454c67d44e59d0ef1f589e2fc3f": {
      "model_module": "@jupyter-widgets/base",
      "model_module_version": "1.0.0",
      "model_name": "LayoutModel",
      "state": {
       "width": "200px"
      }
     },
     "c7aa7feea7f94eada6c866f826b2a148": {
      "model_module": "@jupyter-widgets/controls",
      "model_module_version": "1.0.0",
      "model_name": "ProgressStyleModel",
      "state": {
       "description_width": ""
      }
     },
     "c7bc461117454ee8b8dbbc75ded8fcc1": {
      "model_module": "@jupyter-widgets/controls",
      "model_module_version": "1.0.0",
      "model_name": "FloatProgressModel",
      "state": {
       "description": "0.334",
       "layout": "IPY_MODEL_8cf178b9d9e7495f8ca0d450addd63b7",
       "max": 1,
       "min": 0.3333333333333333,
       "style": "IPY_MODEL_c21a5782f69e4936801b61fcf1e9e5cb",
       "value": 0.3335399260858368
      }
     },
     "c7ed5f98a3a947b396319fe92dab9d31": {
      "model_module": "@jupyter-widgets/controls",
      "model_module_version": "1.0.0",
      "model_name": "LabelModel",
      "state": {
       "layout": "IPY_MODEL_71f228485c5c410fb46a7b2c378113b6",
       "style": "IPY_MODEL_2e378423dc2f4f95b95904b846eacaa9",
       "value": "AIRBNB 14158005959"
      }
     },
     "c95dbfe742c24bd9bb5ea34c9da87b58": {
      "model_module": "@jupyter-widgets/base",
      "model_module_version": "1.0.0",
      "model_name": "LayoutModel",
      "state": {
       "width": "400px"
      }
     },
     "c974ca3ebfc840fba8eefcce889faf83": {
      "model_module": "@jupyter-widgets/controls",
      "model_module_version": "1.0.0",
      "model_name": "HBoxModel",
      "state": {
       "children": [
        "IPY_MODEL_7e0450ad908f4c54bc1f084876993e87",
        "IPY_MODEL_272125eb8b3540a29060d7fbddba4da8",
        "IPY_MODEL_8b0d35c708da47d88351e0692e1ec6e1",
        "IPY_MODEL_881869828ff04368b3988c092fbcd3cd"
       ],
       "layout": "IPY_MODEL_6b53a9130747436ebb174f786c4d4abc"
      }
     },
     "c99088b08cb94915b7e6be811bc090c4": {
      "model_module": "@jupyter-widgets/base",
      "model_module_version": "1.0.0",
      "model_name": "LayoutModel",
      "state": {
       "width": "400px"
      }
     },
     "cad3c715a36a4481984c8d16f58cb4f5": {
      "model_module": "@jupyter-widgets/controls",
      "model_module_version": "1.0.0",
      "model_name": "DescriptionStyleModel",
      "state": {
       "description_width": ""
      }
     },
     "cad9335ff5a747808ffaa370dc3be59e": {
      "model_module": "@jupyter-widgets/base",
      "model_module_version": "1.0.0",
      "model_name": "LayoutModel",
      "state": {
       "flex": "1 0 auto"
      }
     },
     "cae619ab4f2d49ffbc4085b8a68c4162": {
      "model_module": "@jupyter-widgets/controls",
      "model_module_version": "1.0.0",
      "model_name": "DescriptionStyleModel",
      "state": {
       "description_width": ""
      }
     },
     "cc46118fd5d04e648c468be0873079d5": {
      "model_module": "@jupyter-widgets/base",
      "model_module_version": "1.0.0",
      "model_name": "LayoutModel",
      "state": {
       "width": "300px"
      }
     },
     "cc8dd356e3814f979073cb5e908d9ee3": {
      "model_module": "@jupyter-widgets/base",
      "model_module_version": "1.0.0",
      "model_name": "LayoutModel",
      "state": {
       "flex": "1 0 auto"
      }
     },
     "cc9ca5c7521b40b69396493cd7e3289b": {
      "model_module": "@jupyter-widgets/controls",
      "model_module_version": "1.0.0",
      "model_name": "HBoxModel",
      "state": {
       "children": [
        "IPY_MODEL_bea27c762f5243a99a977de23ab0ed96",
        "IPY_MODEL_5b6b084922c8408a92535add16a0f17e",
        "IPY_MODEL_81ae91995df446909bf471b33e112561",
        "IPY_MODEL_2bb4c3c6e31f4f058fbb2f81e9f011cb"
       ],
       "layout": "IPY_MODEL_7963042eb3f748908d8e738e984a2110"
      }
     },
     "ccddc9fe48fa45c58e5ee6ea3b2b6d0c": {
      "model_module": "@jupyter-widgets/controls",
      "model_module_version": "1.0.0",
      "model_name": "HBoxModel",
      "state": {
       "children": [
        "IPY_MODEL_2b30edc6fde045748970e5b28e87e66a",
        "IPY_MODEL_18a867043115457bb9cff7228a64d390",
        "IPY_MODEL_7abf2937d3524fca83af514de89ea920",
        "IPY_MODEL_4b29f51d5c19487fa6c0cd783a0e5eae"
       ],
       "layout": "IPY_MODEL_11ff802c849d4442adc581343d291e37"
      }
     },
     "cda16bee5eb6443fa41edbc69a26b144": {
      "model_module": "@jupyter-widgets/base",
      "model_module_version": "1.0.0",
      "model_name": "LayoutModel",
      "state": {
       "width": "200px"
      }
     },
     "ce9d7c8570cf4fae8433bc24993dbe60": {
      "model_module": "@jupyter-widgets/base",
      "model_module_version": "1.0.0",
      "model_name": "LayoutModel",
      "state": {
       "width": "400px"
      }
     },
     "cea092f4e5044306950cdfd0266313eb": {
      "model_module": "@jupyter-widgets/base",
      "model_module_version": "1.0.0",
      "model_name": "LayoutModel",
      "state": {
       "width": "400px"
      }
     },
     "cf68bede860945da8ff1845052722d34": {
      "model_module": "@jupyter-widgets/controls",
      "model_module_version": "1.0.0",
      "model_name": "LabelModel",
      "state": {
       "layout": "IPY_MODEL_fb95e7c01ae7469b87746d07ca7ce016",
       "style": "IPY_MODEL_b9a51773b3f94d7cbbf7c0f349071d1c",
       "value": "LONDIS LONDON  NW8"
      }
     },
     "d00ffe77e7134a6f87090cec98a74cb6": {
      "model_module": "@jupyter-widgets/controls",
      "model_module_version": "1.0.0",
      "model_name": "ProgressStyleModel",
      "state": {
       "description_width": ""
      }
     },
     "d04f356e79944c64b488288e01afdb17": {
      "model_module": "@jupyter-widgets/controls",
      "model_module_version": "1.0.0",
      "model_name": "DropdownModel",
      "state": {
       "_options_labels": [
        "",
        "mobile",
        "travel",
        "food"
       ],
       "index": 0,
       "layout": "IPY_MODEL_c762f454c67d44e59d0ef1f589e2fc3f",
       "style": "IPY_MODEL_58cd67f5e2004d8b889815f055891c1b"
      }
     },
     "d0bd5577fb0941a7acf101676c02aaca": {
      "model_module": "@jupyter-widgets/controls",
      "model_module_version": "1.0.0",
      "model_name": "FloatProgressModel",
      "state": {
       "description": "0.334",
       "layout": "IPY_MODEL_b2aae2b191c04e1bac59ffd0a3591171",
       "max": 1,
       "min": 0.3333333333333333,
       "style": "IPY_MODEL_9c35a8b0fd364190ae4776b871b804ea",
       "value": 0.3335399260858368
      }
     },
     "d0ed03e19c124ac3bb8936ecb918fd78": {
      "model_module": "@jupyter-widgets/controls",
      "model_module_version": "1.0.0",
      "model_name": "HBoxModel",
      "state": {
       "children": [
        "IPY_MODEL_32105173517f4f3ca4fbefda06f3a908",
        "IPY_MODEL_4483431736954f88b3671acc7386c21f",
        "IPY_MODEL_d64b26dc9d444b048b31daaffc4da738",
        "IPY_MODEL_820fb51d296941c3bb3418ce1f51cdb8"
       ],
       "layout": "IPY_MODEL_21f7357d039a4d5c9337f7040e2f9f0b"
      }
     },
     "d11fd218ebc741aea6f78337907d0f09": {
      "model_module": "@jupyter-widgets/controls",
      "model_module_version": "1.0.0",
      "model_name": "DescriptionStyleModel",
      "state": {
       "description_width": ""
      }
     },
     "d182cbde62e24da3b57d4daf9763abfe": {
      "model_module": "@jupyter-widgets/base",
      "model_module_version": "1.0.0",
      "model_name": "LayoutModel",
      "state": {
       "width": "200px"
      }
     },
     "d20057df2b924bba9bd46a65e81e187b": {
      "model_module": "@jupyter-widgets/controls",
      "model_module_version": "1.0.0",
      "model_name": "DescriptionStyleModel",
      "state": {
       "description_width": ""
      }
     },
     "d22340fdb6a34136bc1ce9d090b74830": {
      "model_module": "@jupyter-widgets/controls",
      "model_module_version": "1.0.0",
      "model_name": "DropdownModel",
      "state": {
       "_options_labels": [
        "",
        "mobile",
        "travel",
        "food"
       ],
       "index": 0,
       "layout": "IPY_MODEL_4184cdaad0834f368e2d03b041d3370e",
       "style": "IPY_MODEL_5f58ef97c5b54f09a2c26982b5bbbf01"
      }
     },
     "d2b44907a17945de88ccc42db63e66ae": {
      "model_module": "@jupyter-widgets/controls",
      "model_module_version": "1.0.0",
      "model_name": "DropdownModel",
      "state": {
       "_options_labels": [
        "",
        "mobile",
        "travel",
        "food"
       ],
       "index": 0,
       "layout": "IPY_MODEL_373526acd3b549e19172f8c61bb86c2f",
       "style": "IPY_MODEL_5e6ba970b559427c899209f783bfc5ce"
      }
     },
     "d376e9b0dfc1451ca77280c97f409cee": {
      "model_module": "@jupyter-widgets/base",
      "model_module_version": "1.0.0",
      "model_name": "LayoutModel",
      "state": {
       "width": "100px"
      }
     },
     "d39ee92acb34415b894e19460bdabc35": {
      "model_module": "@jupyter-widgets/controls",
      "model_module_version": "1.0.0",
      "model_name": "HBoxModel",
      "state": {
       "children": [
        "IPY_MODEL_dc32a9f18d574b988381ec76b9b70b8b",
        "IPY_MODEL_2104f1d7d33b4ed7830fd6da42c06107",
        "IPY_MODEL_f4e12d3e13d041b8ac8781dd093f2482",
        "IPY_MODEL_f15ad4baeb7b4b53a02a0196d3a842f9"
       ],
       "layout": "IPY_MODEL_dd766fd122174437b1fdeb3c16a33fb5"
      }
     },
     "d48f88cc58db47219378af52d2e9c7e4": {
      "model_module": "@jupyter-widgets/controls",
      "model_module_version": "1.0.0",
      "model_name": "DescriptionStyleModel",
      "state": {
       "description_width": ""
      }
     },
     "d49893b001a64b4992f0e4f9e7c71842": {
      "model_module": "@jupyter-widgets/controls",
      "model_module_version": "1.0.0",
      "model_name": "DescriptionStyleModel",
      "state": {
       "description_width": ""
      }
     },
     "d4f647f99a044d0185cfc83a4d3049e5": {
      "model_module": "@jupyter-widgets/controls",
      "model_module_version": "1.0.0",
      "model_name": "HBoxModel",
      "state": {
       "children": [
        "IPY_MODEL_9f360b30a6834f6a8724de57272a3291",
        "IPY_MODEL_764b45548d754ddb93bc88e08f2d51e9",
        "IPY_MODEL_44ee6d4068bd4864a9e0d5618e3d10c7",
        "IPY_MODEL_8ba639ee947f4aed8fb7c65d01dc54f8"
       ],
       "layout": "IPY_MODEL_6aa3936e9fbc41d6aa121e30a622e4ed"
      }
     },
     "d5f5c0013fb647ec9cb81c446a51de61": {
      "model_module": "@jupyter-widgets/base",
      "model_module_version": "1.0.0",
      "model_name": "LayoutModel",
      "state": {
       "width": "300px"
      }
     },
     "d64b26dc9d444b048b31daaffc4da738": {
      "model_module": "@jupyter-widgets/controls",
      "model_module_version": "1.0.0",
      "model_name": "LabelModel",
      "state": {
       "layout": "IPY_MODEL_2b14043d0a6c4e2e967779ad3815eed1",
       "style": "IPY_MODEL_51b7b2441881488db825b02042493f06",
       "value": "travel"
      }
     },
     "d650f70d02c64a218a8a1896ffe97be7": {
      "model_module": "@jupyter-widgets/base",
      "model_module_version": "1.0.0",
      "model_name": "LayoutModel",
      "state": {
       "width": "400px"
      }
     },
     "d71e219442a94655a8a9d7a53e4444bf": {
      "model_module": "@jupyter-widgets/controls",
      "model_module_version": "1.0.0",
      "model_name": "LabelModel",
      "state": {
       "layout": "IPY_MODEL_b64d0e18d0e547298e793711425a7bc3",
       "style": "IPY_MODEL_e4b914802a204bb6a2438a81783fe549",
       "value": "COMEDY LONDON"
      }
     },
     "d7876ca8690647288c6e9246d3da1945": {
      "model_module": "@jupyter-widgets/base",
      "model_module_version": "1.0.0",
      "model_name": "LayoutModel",
      "state": {
       "width": "400px"
      }
     },
     "d8b421c01757494d9b7376a1d3e444e4": {
      "model_module": "@jupyter-widgets/controls",
      "model_module_version": "1.0.0",
      "model_name": "ProgressStyleModel",
      "state": {
       "description_width": ""
      }
     },
     "d902f9f83b9a44b69a5a669b8de7b612": {
      "model_module": "@jupyter-widgets/controls",
      "model_module_version": "1.0.0",
      "model_name": "ProgressStyleModel",
      "state": {
       "description_width": ""
      }
     },
     "d989a306746b4c24b025ca675a3b9a9d": {
      "model_module": "@jupyter-widgets/controls",
      "model_module_version": "1.0.0",
      "model_name": "DescriptionStyleModel",
      "state": {
       "description_width": ""
      }
     },
     "d9b61f1f84d147af88fe375af661847c": {
      "model_module": "@jupyter-widgets/base",
      "model_module_version": "1.0.0",
      "model_name": "LayoutModel",
      "state": {
       "width": "200px"
      }
     },
     "da161d0b33aa41bdb910794d5d826589": {
      "model_module": "@jupyter-widgets/controls",
      "model_module_version": "1.0.0",
      "model_name": "DescriptionStyleModel",
      "state": {
       "description_width": ""
      }
     },
     "da21eabb77744f3a9e86c52623b3c1f4": {
      "model_module": "@jupyter-widgets/controls",
      "model_module_version": "1.0.0",
      "model_name": "DropdownModel",
      "state": {
       "_options_labels": [
        "",
        "mobile",
        "travel",
        "food"
       ],
       "index": 0,
       "layout": "IPY_MODEL_fedfad61d5c34b688e0fb2420fc85018",
       "style": "IPY_MODEL_82ac5d8511bd4570991dd161ebf723ed"
      }
     },
     "da81ba3f66514ae4bbedac10a40f79fe": {
      "model_module": "@jupyter-widgets/controls",
      "model_module_version": "1.0.0",
      "model_name": "DescriptionStyleModel",
      "state": {
       "description_width": ""
      }
     },
     "dac590801c504fb48e46bff9b4275b02": {
      "model_module": "@jupyter-widgets/controls",
      "model_module_version": "1.0.0",
      "model_name": "DropdownModel",
      "state": {
       "_options_labels": [
        "",
        "mobile",
        "travel",
        "food"
       ],
       "index": 0,
       "layout": "IPY_MODEL_4a5a89551cd743c6b54ef263914670c6",
       "style": "IPY_MODEL_5623d96d50cf4f31bf9b20ad82cfbadc"
      }
     },
     "db3592ab7c59438b98c7b8abdabba496": {
      "model_module": "@jupyter-widgets/base",
      "model_module_version": "1.0.0",
      "model_name": "LayoutModel",
      "state": {
       "width": "100px"
      }
     },
     "dbb618d6a0494b39a3b8a380734ba34c": {
      "model_module": "@jupyter-widgets/controls",
      "model_module_version": "1.0.0",
      "model_name": "DropdownModel",
      "state": {
       "_options_labels": [
        "",
        "mobile",
        "travel",
        "food"
       ],
       "index": 0,
       "layout": "IPY_MODEL_7e79464b67b44d63b77d1771866cbb84",
       "style": "IPY_MODEL_e87282922d3d4c49a2bfaf4da7515dcc"
      }
     },
     "dc2363f9ab4a4e918dc5b72203ec2637": {
      "model_module": "@jupyter-widgets/base",
      "model_module_version": "1.0.0",
      "model_name": "LayoutModel",
      "state": {
       "width": "200px"
      }
     },
     "dc32a9f18d574b988381ec76b9b70b8b": {
      "model_module": "@jupyter-widgets/controls",
      "model_module_version": "1.0.0",
      "model_name": "HTMLModel",
      "state": {
       "layout": "IPY_MODEL_cc46118fd5d04e648c468be0873079d5",
       "style": "IPY_MODEL_bebdbe7a05e74112a6315e6e04192bdc",
       "value": "<b>Memo</b>"
      }
     },
     "dc74a9ab104b498e8b2330b946cecc08": {
      "model_module": "@jupyter-widgets/controls",
      "model_module_version": "1.0.0",
      "model_name": "HBoxModel",
      "state": {
       "children": [
        "IPY_MODEL_0bff07ed7c104c25a23273f7ca0d706e",
        "IPY_MODEL_f38ce4b43da147ef8a41b7dfd2bfbdea",
        "IPY_MODEL_153b7add675c4d1da7757241f9f59dd7",
        "IPY_MODEL_555f3e46d0f144228fa18ec3b08d4513"
       ],
       "layout": "IPY_MODEL_4cdf4b585c4c46438149f85f41284650"
      }
     },
     "dce7d30945734685b205e6a216f49bb8": {
      "model_module": "@jupyter-widgets/controls",
      "model_module_version": "1.0.0",
      "model_name": "LabelModel",
      "state": {
       "layout": "IPY_MODEL_5d0f31988c5b4bc3b11884040371f39a",
       "style": "IPY_MODEL_5b34d6253ae04ff081bc5e266ab4af15",
       "value": "travel"
      }
     },
     "dd766fd122174437b1fdeb3c16a33fb5": {
      "model_module": "@jupyter-widgets/base",
      "model_module_version": "1.0.0",
      "model_name": "LayoutModel",
      "state": {}
     },
     "de0c8bb6cc3c48c79953364de514530f": {
      "model_module": "@jupyter-widgets/controls",
      "model_module_version": "1.0.0",
      "model_name": "LabelModel",
      "state": {
       "layout": "IPY_MODEL_c2b91c509fcf48288847487c8df7873c",
       "style": "IPY_MODEL_c677922069a64e28b707c08066b53413",
       "value": "travel"
      }
     },
     "de13c30e4d044846a8d0a2226a920ccc": {
      "model_module": "@jupyter-widgets/controls",
      "model_module_version": "1.0.0",
      "model_name": "DescriptionStyleModel",
      "state": {
       "description_width": ""
      }
     },
     "de5eb96d81984f1d83591355039c8af8": {
      "model_module": "@jupyter-widgets/base",
      "model_module_version": "1.0.0",
      "model_name": "LayoutModel",
      "state": {
       "width": "100px"
      }
     },
     "de61ddf9e08f475bae84cc11d5ec3d3b": {
      "model_module": "@jupyter-widgets/base",
      "model_module_version": "1.0.0",
      "model_name": "LayoutModel",
      "state": {
       "width": "400px"
      }
     },
     "de669800ed3b410bb831a57134b1fe80": {
      "model_module": "@jupyter-widgets/controls",
      "model_module_version": "1.0.0",
      "model_name": "FloatProgressModel",
      "state": {
       "description": "0.990",
       "layout": "IPY_MODEL_e7b1b2da40f742dd9006d6b359988140",
       "max": 1,
       "min": 0.3333333333333333,
       "style": "IPY_MODEL_3b505a17557c4f79b1bc08a71e76780d",
       "value": 0.98981613221876
      }
     },
     "de7796ee2b2f41388aa80c07e1d5398f": {
      "model_module": "@jupyter-widgets/controls",
      "model_module_version": "1.0.0",
      "model_name": "LabelModel",
      "state": {
       "layout": "IPY_MODEL_f70653466e9c45caa0fb4805c076e56b",
       "style": "IPY_MODEL_ab148e867b3d461abfebf9fdb7f98ece",
       "value": "INT'L 0092766987 Amazon UK Retail AMAZON.CO.UK"
      }
     },
     "decb9a4acc5b4448add4268ad2ed46ae": {
      "model_module": "@jupyter-widgets/base",
      "model_module_version": "1.0.0",
      "model_name": "LayoutModel",
      "state": {
       "width": "100px"
      }
     },
     "dfa16f272a18485c8f0e09d76d5215ed": {
      "model_module": "@jupyter-widgets/base",
      "model_module_version": "1.0.0",
      "model_name": "LayoutModel",
      "state": {
       "width": "100px"
      }
     },
     "e02ce0df4f30492ba2ef19694aca39f5": {
      "model_module": "@jupyter-widgets/controls",
      "model_module_version": "1.0.0",
      "model_name": "FloatProgressModel",
      "state": {
       "description": "0.990",
       "layout": "IPY_MODEL_9dd0affefcb644038155ccdfac6c485a",
       "max": 1,
       "min": 0.3333333333333333,
       "style": "IPY_MODEL_eb957f9cee7f433e8d2bf4522ce9244a",
       "value": 0.9897992814777781
      }
     },
     "e058f09ef0934f62860fad62f20bcf32": {
      "model_module": "@jupyter-widgets/base",
      "model_module_version": "1.0.0",
      "model_name": "LayoutModel",
      "state": {
       "width": "200px"
      }
     },
     "e12346efb3f24a6fb7aad71c44145a8f": {
      "model_module": "@jupyter-widgets/controls",
      "model_module_version": "1.0.0",
      "model_name": "FloatProgressModel",
      "state": {
       "description": "0.334",
       "layout": "IPY_MODEL_e4044a99584b4137ba79c16992d3c4da",
       "max": 1,
       "min": 0.3333333333333333,
       "style": "IPY_MODEL_14fc939d0cc84d589cb86c5937ea4230",
       "value": 0.3335399260858368
      }
     },
     "e15ee23aed3f4434baaf6a3572e01acf": {
      "model_module": "@jupyter-widgets/controls",
      "model_module_version": "1.0.0",
      "model_name": "DescriptionStyleModel",
      "state": {
       "description_width": ""
      }
     },
     "e1c1dae509104f15a9d9be3d8dfe3209": {
      "model_module": "@jupyter-widgets/controls",
      "model_module_version": "1.0.0",
      "model_name": "HBoxModel",
      "state": {
       "children": [
        "IPY_MODEL_f5d821efe0f4480699f1309d3b604511",
        "IPY_MODEL_631ca12eed434d61a69cb239daedcba3",
        "IPY_MODEL_5bd55c954f364cfe8024219d33146ccd",
        "IPY_MODEL_3a5e16be1f464c338699f008f36493ee"
       ],
       "layout": "IPY_MODEL_04a76f1a2abe4f09b4bf193981c8dcb3"
      }
     },
     "e1e02560a1f84077842f4919046f41e2": {
      "model_module": "@jupyter-widgets/controls",
      "model_module_version": "1.0.0",
      "model_name": "LabelModel",
      "state": {
       "layout": "IPY_MODEL_dfa16f272a18485c8f0e09d76d5215ed",
       "style": "IPY_MODEL_ad289e5656e745809ec9c52bc7eb69c4",
       "value": "travel"
      }
     },
     "e206f8f9ae6c4d8397600f1c9fe3790b": {
      "model_module": "@jupyter-widgets/base",
      "model_module_version": "1.0.0",
      "model_name": "LayoutModel",
      "state": {
       "width": "300px"
      }
     },
     "e31723eeb70d430ea3b55391370eb324": {
      "model_module": "@jupyter-widgets/controls",
      "model_module_version": "1.0.0",
      "model_name": "DescriptionStyleModel",
      "state": {
       "description_width": ""
      }
     },
     "e3e8d2d7226d4daeac63711fc0187045": {
      "model_module": "@jupyter-widgets/controls",
      "model_module_version": "1.0.0",
      "model_name": "ProgressStyleModel",
      "state": {
       "description_width": ""
      }
     },
     "e4044a99584b4137ba79c16992d3c4da": {
      "model_module": "@jupyter-widgets/base",
      "model_module_version": "1.0.0",
      "model_name": "LayoutModel",
      "state": {
       "width": "400px"
      }
     },
     "e42941df4da4452a9a8ab37d76d26335": {
      "model_module": "@jupyter-widgets/controls",
      "model_module_version": "1.0.0",
      "model_name": "HBoxModel",
      "state": {
       "children": [
        "IPY_MODEL_5b769ef36cd546e9bac7d3a28e5fd8d9",
        "IPY_MODEL_69d46a5f87da4474bccd451728a6afb9",
        "IPY_MODEL_de0c8bb6cc3c48c79953364de514530f",
        "IPY_MODEL_fc6368b05acb4143bcb171aded60f79f"
       ],
       "layout": "IPY_MODEL_a4c78414c5534a199f9110b8be103edf"
      }
     },
     "e46527b3d0694d5dbf68921ff9e27d76": {
      "model_module": "@jupyter-widgets/controls",
      "model_module_version": "1.0.0",
      "model_name": "ProgressStyleModel",
      "state": {
       "description_width": ""
      }
     },
     "e4b914802a204bb6a2438a81783fe549": {
      "model_module": "@jupyter-widgets/controls",
      "model_module_version": "1.0.0",
      "model_name": "DescriptionStyleModel",
      "state": {
       "description_width": ""
      }
     },
     "e4bdbc568bf94f51936e9941beeeb8d8": {
      "model_module": "@jupyter-widgets/controls",
      "model_module_version": "1.0.0",
      "model_name": "FloatProgressModel",
      "state": {
       "description": "0.334",
       "layout": "IPY_MODEL_6d047fbc948848858d25fe8d6cb09e8e",
       "max": 1,
       "min": 0.3333333333333333,
       "style": "IPY_MODEL_c5df3f832e714ac39e580c3dbe5f7e08",
       "value": 0.3335399260858368
      }
     },
     "e5eb856de18d42cca59be84a6ecebcdd": {
      "model_module": "@jupyter-widgets/controls",
      "model_module_version": "1.0.0",
      "model_name": "DescriptionStyleModel",
      "state": {
       "description_width": ""
      }
     },
     "e6ae8b6b2f2c47e3adff6adc2e9be0c4": {
      "model_module": "@jupyter-widgets/controls",
      "model_module_version": "1.0.0",
      "model_name": "LabelModel",
      "state": {
       "layout": "IPY_MODEL_f1bb91823d0846688c0076f32ef5f571",
       "style": "IPY_MODEL_400a632e91a7411ebbfe7e1454a75e8f",
       "value": "travel"
      }
     },
     "e6ca25d94db14f93b5583ca7b22572d4": {
      "model_module": "@jupyter-widgets/controls",
      "model_module_version": "1.0.0",
      "model_name": "DescriptionStyleModel",
      "state": {
       "description_width": ""
      }
     },
     "e730e347c83d45299a8ecbe15939d393": {
      "model_module": "@jupyter-widgets/base",
      "model_module_version": "1.0.0",
      "model_name": "LayoutModel",
      "state": {
       "width": "200px"
      }
     },
     "e7b1b2da40f742dd9006d6b359988140": {
      "model_module": "@jupyter-widgets/base",
      "model_module_version": "1.0.0",
      "model_name": "LayoutModel",
      "state": {
       "width": "400px"
      }
     },
     "e80b5609cff949b0bd795a89200038dc": {
      "model_module": "@jupyter-widgets/controls",
      "model_module_version": "1.0.0",
      "model_name": "DropdownModel",
      "state": {
       "_options_labels": [
        "",
        "mobile",
        "travel",
        "food"
       ],
       "index": 0,
       "layout": "IPY_MODEL_0093da9d41fb475a97b1d27aff35ec9a",
       "style": "IPY_MODEL_7fdd9e21ce994b0b9c16b44bc05f6dcc"
      }
     },
     "e87282922d3d4c49a2bfaf4da7515dcc": {
      "model_module": "@jupyter-widgets/controls",
      "model_module_version": "1.0.0",
      "model_name": "DescriptionStyleModel",
      "state": {
       "description_width": ""
      }
     },
     "e9499aab6f0f4a0aba9aec4fa06a0bc0": {
      "model_module": "@jupyter-widgets/base",
      "model_module_version": "1.0.0",
      "model_name": "LayoutModel",
      "state": {
       "width": "100px"
      }
     },
     "e9d33db8fd034786875a13975cc6e5c2": {
      "model_module": "@jupyter-widgets/base",
      "model_module_version": "1.0.0",
      "model_name": "LayoutModel",
      "state": {
       "flex": "1 0 auto"
      }
     },
     "ea9457e3b7ef47808cf06a11275f1646": {
      "model_module": "@jupyter-widgets/base",
      "model_module_version": "1.0.0",
      "model_name": "LayoutModel",
      "state": {
       "width": "300px"
      }
     },
     "eb16887ef1b44bedad3f0d30fd56975f": {
      "model_module": "@jupyter-widgets/base",
      "model_module_version": "1.0.0",
      "model_name": "LayoutModel",
      "state": {
       "flex": "1 0 auto"
      }
     },
     "eb957f9cee7f433e8d2bf4522ce9244a": {
      "model_module": "@jupyter-widgets/controls",
      "model_module_version": "1.0.0",
      "model_name": "ProgressStyleModel",
      "state": {
       "description_width": ""
      }
     },
     "eb9c576237ce4010851c99a26f1b2090": {
      "model_module": "@jupyter-widgets/controls",
      "model_module_version": "1.0.0",
      "model_name": "DropdownModel",
      "state": {
       "_options_labels": [
        "",
        "mobile",
        "travel",
        "food"
       ],
       "index": 0,
       "layout": "IPY_MODEL_8330a01c80564bc3824976941a23a94c",
       "style": "IPY_MODEL_129d62cb9f6040ea891d37dd57e10d04"
      }
     },
     "ecd3e75e8f4e4c4596328ec7f5047237": {
      "model_module": "@jupyter-widgets/base",
      "model_module_version": "1.0.0",
      "model_name": "LayoutModel",
      "state": {
       "flex": "1 0 auto"
      }
     },
     "ed8ef193cc7149bc89b871e2009a7fa1": {
      "model_module": "@jupyter-widgets/controls",
      "model_module_version": "1.0.0",
      "model_name": "HBoxModel",
      "state": {
       "children": [
        "IPY_MODEL_948a198d7d624eb7acc10054537e67c6",
        "IPY_MODEL_9ebb46cca5134b95a3217c0fc4d04904",
        "IPY_MODEL_f03e03d372ba4d5a8b9c090b85e50e46",
        "IPY_MODEL_29259e04f33649c98bbe44ca6ffb74d5"
       ],
       "layout": "IPY_MODEL_cc8dd356e3814f979073cb5e908d9ee3"
      }
     },
     "ee4585571a3d4607807f9cf011bdb002": {
      "model_module": "@jupyter-widgets/base",
      "model_module_version": "1.0.0",
      "model_name": "LayoutModel",
      "state": {
       "width": "100px"
      }
     },
     "ee55e637c8ec447b8a1fae5f03e3bf25": {
      "model_module": "@jupyter-widgets/controls",
      "model_module_version": "1.0.0",
      "model_name": "DescriptionStyleModel",
      "state": {
       "description_width": ""
      }
     },
     "eeacc493d18f44f0b30a2488c26dcc41": {
      "model_module": "@jupyter-widgets/controls",
      "model_module_version": "1.0.0",
      "model_name": "LabelModel",
      "state": {
       "layout": "IPY_MODEL_d376e9b0dfc1451ca77280c97f409cee",
       "style": "IPY_MODEL_f28c16cd6c554969ab3ef23311fca90d",
       "value": "travel"
      }
     },
     "ef0855adcb7b4e18b2fd870a4a49b9c6": {
      "model_module": "@jupyter-widgets/base",
      "model_module_version": "1.0.0",
      "model_name": "LayoutModel",
      "state": {
       "width": "300px"
      }
     },
     "ef7a00df623743799ebae55c11a17a1d": {
      "model_module": "@jupyter-widgets/controls",
      "model_module_version": "1.0.0",
      "model_name": "DescriptionStyleModel",
      "state": {
       "description_width": ""
      }
     },
     "effa623b0006496cbbc0ef5225462abf": {
      "model_module": "@jupyter-widgets/controls",
      "model_module_version": "1.0.0",
      "model_name": "HBoxModel",
      "state": {
       "children": [
        "IPY_MODEL_fdbd739b29e544a582db56d026b36a7e",
        "IPY_MODEL_eb9c576237ce4010851c99a26f1b2090",
        "IPY_MODEL_865f27c7ca6243ae996586bfd2448bcc",
        "IPY_MODEL_67ef99ff3da64c6c886e8aa037cc4427"
       ],
       "layout": "IPY_MODEL_fbf458ade2854f73a1be965c6088ad28"
      }
     },
     "f03e03d372ba4d5a8b9c090b85e50e46": {
      "model_module": "@jupyter-widgets/controls",
      "model_module_version": "1.0.0",
      "model_name": "LabelModel",
      "state": {
       "layout": "IPY_MODEL_578e643d5f6c4799ac77d63651c7dbf5",
       "style": "IPY_MODEL_91e12f1a2f1e4f00a86c1bf2d6d0b42f",
       "value": "travel"
      }
     },
     "f09c6d5bd2b8441a81b3500c25af3a7d": {
      "model_module": "@jupyter-widgets/base",
      "model_module_version": "1.0.0",
      "model_name": "LayoutModel",
      "state": {
       "flex": "1 0 auto"
      }
     },
     "f0bab59cea85408f81dc5f4fdbdfb053": {
      "model_module": "@jupyter-widgets/base",
      "model_module_version": "1.0.0",
      "model_name": "LayoutModel",
      "state": {
       "flex": "1 0 auto"
      }
     },
     "f0e1acde43224b40acc2aa3e03a6bd08": {
      "model_module": "@jupyter-widgets/base",
      "model_module_version": "1.0.0",
      "model_name": "LayoutModel",
      "state": {
       "width": "300px"
      }
     },
     "f15ad4baeb7b4b53a02a0196d3a842f9": {
      "model_module": "@jupyter-widgets/controls",
      "model_module_version": "1.0.0",
      "model_name": "HTMLModel",
      "state": {
       "layout": "IPY_MODEL_decb9a4acc5b4448add4268ad2ed46ae",
       "style": "IPY_MODEL_66fdf772703641c6b3d487f8e620ef10",
       "value": "<b>Probability</b>"
      }
     },
     "f1bb91823d0846688c0076f32ef5f571": {
      "model_module": "@jupyter-widgets/base",
      "model_module_version": "1.0.0",
      "model_name": "LayoutModel",
      "state": {
       "width": "100px"
      }
     },
     "f28c16cd6c554969ab3ef23311fca90d": {
      "model_module": "@jupyter-widgets/controls",
      "model_module_version": "1.0.0",
      "model_name": "DescriptionStyleModel",
      "state": {
       "description_width": ""
      }
     },
     "f321bb57062d485395bfd5f1a3ea296d": {
      "model_module": "@jupyter-widgets/controls",
      "model_module_version": "1.0.0",
      "model_name": "LabelModel",
      "state": {
       "layout": "IPY_MODEL_931904fdba8d49c8ad406c6cf441b113",
       "style": "IPY_MODEL_3360629ccf89488588d95fa894d0a01c",
       "value": "TFL.GOV.UK/CP TFL TRAVEL CH"
      }
     },
     "f34ce8c460324956a6040b609eb51d52": {
      "model_module": "@jupyter-widgets/base",
      "model_module_version": "1.0.0",
      "model_name": "LayoutModel",
      "state": {
       "width": "400px"
      }
     },
     "f357b5ff19284994ae51e10d72a9563a": {
      "model_module": "@jupyter-widgets/controls",
      "model_module_version": "1.0.0",
      "model_name": "DropdownModel",
      "state": {
       "_options_labels": [
        "",
        "mobile",
        "travel",
        "food"
       ],
       "index": 0,
       "layout": "IPY_MODEL_925ecd02d1ca4bb08b2e0cac791695f9",
       "style": "IPY_MODEL_6d97575ff8ca4323b223b6c5676a1545"
      }
     },
     "f37720f7dab24aa996fffa1a1a10a2ec": {
      "model_module": "@jupyter-widgets/base",
      "model_module_version": "1.0.0",
      "model_name": "LayoutModel",
      "state": {
       "width": "400px"
      }
     },
     "f37e363fe1cf4a6e853a4089c7961aa1": {
      "model_module": "@jupyter-widgets/controls",
      "model_module_version": "1.0.0",
      "model_name": "LabelModel",
      "state": {
       "layout": "IPY_MODEL_10875aca2a694260a47431c2776a853b",
       "style": "IPY_MODEL_cad3c715a36a4481984c8d16f58cb4f5",
       "value": "CASH RB SCOT OCT26 TESCO MORE L@08:19"
      }
     },
     "f38ce4b43da147ef8a41b7dfd2bfbdea": {
      "model_module": "@jupyter-widgets/controls",
      "model_module_version": "1.0.0",
      "model_name": "DropdownModel",
      "state": {
       "_options_labels": [
        "",
        "mobile",
        "travel",
        "food"
       ],
       "index": 0,
       "layout": "IPY_MODEL_b84ff3b3452c4bd2a14ed56e34f74ce2",
       "style": "IPY_MODEL_408342c3f4354b198d432f1bbe6cca66"
      }
     },
     "f4466aee248d4770861affe507fa6d82": {
      "model_module": "@jupyter-widgets/controls",
      "model_module_version": "1.0.0",
      "model_name": "DropdownModel",
      "state": {
       "_options_labels": [
        "",
        "mobile",
        "travel",
        "food"
       ],
       "index": 0,
       "layout": "IPY_MODEL_3ac5a91bb0c645d2b912848f2ef5b33c",
       "style": "IPY_MODEL_ff9d6723f5534372ada476f53ffc4b2f"
      }
     },
     "f4494ec75f39402d83b031a3571c6099": {
      "model_module": "@jupyter-widgets/controls",
      "model_module_version": "1.0.0",
      "model_name": "LabelModel",
      "state": {
       "layout": "IPY_MODEL_7368558cafd9420bb03b963157c32b99",
       "style": "IPY_MODEL_4d4f72cd413c41e299b6e4d6a073d72b",
       "value": "travel"
      }
     },
     "f48d75117a414e3e8d8d14142b0d51c2": {
      "model_module": "@jupyter-widgets/base",
      "model_module_version": "1.0.0",
      "model_name": "LayoutModel",
      "state": {
       "flex": "1 0 auto"
      }
     },
     "f4e12d3e13d041b8ac8781dd093f2482": {
      "model_module": "@jupyter-widgets/controls",
      "model_module_version": "1.0.0",
      "model_name": "HTMLModel",
      "state": {
       "layout": "IPY_MODEL_cda16bee5eb6443fa41edbc69a26b144",
       "style": "IPY_MODEL_fe6622e0546c4dc9b9eb88ed92005522",
       "value": "<b>Predicted</b>"
      }
     },
     "f54484421db44b2c8277446d84565a3b": {
      "model_module": "@jupyter-widgets/controls",
      "model_module_version": "1.0.0",
      "model_name": "DropdownModel",
      "state": {
       "_options_labels": [
        "",
        "mobile",
        "travel",
        "food"
       ],
       "index": 2,
       "layout": "IPY_MODEL_36c7312e801743b69098eeb93c8088a5",
       "style": "IPY_MODEL_3136ac9acdb24f19a2c500700cdc2637"
      }
     },
     "f56d483bb5b04f949a91feffdeb995b1": {
      "model_module": "@jupyter-widgets/base",
      "model_module_version": "1.0.0",
      "model_name": "LayoutModel",
      "state": {
       "width": "300px"
      }
     },
     "f5d821efe0f4480699f1309d3b604511": {
      "model_module": "@jupyter-widgets/controls",
      "model_module_version": "1.0.0",
      "model_name": "LabelModel",
      "state": {
       "layout": "IPY_MODEL_ef0855adcb7b4e18b2fd870a4a49b9c6",
       "style": "IPY_MODEL_6caebcd3fdd543b693c3cbb11e0a2b88",
       "value": "TFL.GOV.UK/CP TFL TRAVEL CH"
      }
     },
     "f5f0d2cfc3d24293ade390cd0fc4a497": {
      "model_module": "@jupyter-widgets/controls",
      "model_module_version": "1.0.0",
      "model_name": "LabelModel",
      "state": {
       "layout": "IPY_MODEL_4c9b10a23ea44ddb9f86071dd2865e3a",
       "style": "IPY_MODEL_81b2a0575b734d62ab089fefadcf3a54",
       "value": "TESCO STORES 6109 GREENFORD"
      }
     },
     "f67d8e49f03445ff8706f53f79d6aec5": {
      "model_module": "@jupyter-widgets/controls",
      "model_module_version": "1.0.0",
      "model_name": "DescriptionStyleModel",
      "state": {
       "description_width": ""
      }
     },
     "f6a626c6fb6d4f299f9522c72e8452f0": {
      "model_module": "@jupyter-widgets/controls",
      "model_module_version": "1.0.0",
      "model_name": "DescriptionStyleModel",
      "state": {
       "description_width": ""
      }
     },
     "f6d7fb9dcc9f4e28b0252dc1f9734cf2": {
      "model_module": "@jupyter-widgets/controls",
      "model_module_version": "1.0.0",
      "model_name": "HBoxModel",
      "state": {
       "children": [
        "IPY_MODEL_f95a4e07e0d34a3db5d44db6100dd811",
        "IPY_MODEL_29261d96ec98421aaf7d63460c0af3c3",
        "IPY_MODEL_376f4dca691a493983eef01b00a3d4db",
        "IPY_MODEL_5c2b605c99c34909a64f0ed6830c6eba"
       ],
       "layout": "IPY_MODEL_83f4aa5d7e464b1ab41ccac7974e87fd"
      }
     },
     "f6ea1eb4bd604abebdb681ba1a07b3cf": {
      "model_module": "@jupyter-widgets/base",
      "model_module_version": "1.0.0",
      "model_name": "LayoutModel",
      "state": {
       "width": "200px"
      }
     },
     "f70653466e9c45caa0fb4805c076e56b": {
      "model_module": "@jupyter-widgets/base",
      "model_module_version": "1.0.0",
      "model_name": "LayoutModel",
      "state": {
       "width": "300px"
      }
     },
     "f7533ee784244249a19871e413daa88a": {
      "model_module": "@jupyter-widgets/controls",
      "model_module_version": "1.0.0",
      "model_name": "LabelModel",
      "state": {
       "layout": "IPY_MODEL_9c89b8dd8dac4b4585a17f8bc4128f82",
       "style": "IPY_MODEL_d20057df2b924bba9bd46a65e81e187b",
       "value": "TASKRABBIT 2PHQ8 T 02086109298"
      }
     },
     "f84ae2b335f0442dac6ac08f69e7cc84": {
      "model_module": "@jupyter-widgets/controls",
      "model_module_version": "1.0.0",
      "model_name": "ProgressStyleModel",
      "state": {
       "description_width": ""
      }
     },
     "f95a4e07e0d34a3db5d44db6100dd811": {
      "model_module": "@jupyter-widgets/controls",
      "model_module_version": "1.0.0",
      "model_name": "LabelModel",
      "state": {
       "layout": "IPY_MODEL_3e8094aee01d478bb272959b02a2ba06",
       "style": "IPY_MODEL_09a3d189b1964dfaa4b8c66ebd87e14e",
       "value": "TFL.GOV.UK/CP TFL TRAVEL CH"
      }
     },
     "f98e7bf65aa146159663b3617c0ed151": {
      "model_module": "@jupyter-widgets/base",
      "model_module_version": "1.0.0",
      "model_name": "LayoutModel",
      "state": {
       "width": "300px"
      }
     },
     "f9ad4759a8174a21bff573e8e303d614": {
      "model_module": "@jupyter-widgets/base",
      "model_module_version": "1.0.0",
      "model_name": "LayoutModel",
      "state": {
       "width": "400px"
      }
     },
     "f9b52034d6474a8fac05c4accb33d8d5": {
      "model_module": "@jupyter-widgets/base",
      "model_module_version": "1.0.0",
      "model_name": "LayoutModel",
      "state": {
       "width": "100px"
      }
     },
     "fb95e7c01ae7469b87746d07ca7ce016": {
      "model_module": "@jupyter-widgets/base",
      "model_module_version": "1.0.0",
      "model_name": "LayoutModel",
      "state": {
       "width": "300px"
      }
     },
     "fbf458ade2854f73a1be965c6088ad28": {
      "model_module": "@jupyter-widgets/base",
      "model_module_version": "1.0.0",
      "model_name": "LayoutModel",
      "state": {
       "flex": "1 0 auto"
      }
     },
     "fbffab769d6645df8746e99a53ba3038": {
      "model_module": "@jupyter-widgets/controls",
      "model_module_version": "1.0.0",
      "model_name": "DropdownModel",
      "state": {
       "_options_labels": [
        "",
        "mobile",
        "travel",
        "food"
       ],
       "index": 0,
       "layout": "IPY_MODEL_3e0bf65ab3d94f61ba3f32dc279fdb02",
       "style": "IPY_MODEL_6884bb90d80241518445ef6724032fc9"
      }
     },
     "fc6368b05acb4143bcb171aded60f79f": {
      "model_module": "@jupyter-widgets/controls",
      "model_module_version": "1.0.0",
      "model_name": "FloatProgressModel",
      "state": {
       "description": "0.334",
       "layout": "IPY_MODEL_886b7edb45124d83b509c60dc277d339",
       "max": 1,
       "min": 0.3333333333333333,
       "style": "IPY_MODEL_d8b421c01757494d9b7376a1d3e444e4",
       "value": 0.3335399260858368
      }
     },
     "fca23ddbd5c24935b1fbfafd08d37e6c": {
      "model_module": "@jupyter-widgets/controls",
      "model_module_version": "1.0.0",
      "model_name": "VBoxModel",
      "state": {
       "children": [
        "IPY_MODEL_d39ee92acb34415b894e19460bdabc35",
        "IPY_MODEL_0a1d726bec554e5893f7788900dd8c22",
        "IPY_MODEL_bd2fbe736d7f47d3bb3f57d9ef7f3c3d"
       ],
       "layout": "IPY_MODEL_6fd9702e953e4cd1accfd464dc2dc99c"
      }
     },
     "fca5bd0122024180a02326af6752830f": {
      "model_module": "@jupyter-widgets/controls",
      "model_module_version": "1.0.0",
      "model_name": "HBoxModel",
      "state": {
       "children": [
        "IPY_MODEL_0a4a5442a57246ffa1847d5e3b66c874",
        "IPY_MODEL_b7c0d38b164b44b1a84f833988229574",
        "IPY_MODEL_0493d3668a3045378a4873266dec1ada",
        "IPY_MODEL_d0bd5577fb0941a7acf101676c02aaca"
       ],
       "layout": "IPY_MODEL_e9d33db8fd034786875a13975cc6e5c2"
      }
     },
     "fdbd739b29e544a582db56d026b36a7e": {
      "model_module": "@jupyter-widgets/controls",
      "model_module_version": "1.0.0",
      "model_name": "LabelModel",
      "state": {
       "layout": "IPY_MODEL_77f675858e454e83a0e40a92777fb758",
       "style": "IPY_MODEL_f6a626c6fb6d4f299f9522c72e8452f0",
       "value": "TFL.GOV.UK/CP TFL TRAVEL CH"
      }
     },
     "fdc9a61aef784a95abc89b1dab89c263": {
      "model_module": "@jupyter-widgets/controls",
      "model_module_version": "1.0.0",
      "model_name": "DescriptionStyleModel",
      "state": {
       "description_width": ""
      }
     },
     "fe6280c4af8b4f9693bc83502d4ba291": {
      "model_module": "@jupyter-widgets/controls",
      "model_module_version": "1.0.0",
      "model_name": "DescriptionStyleModel",
      "state": {
       "description_width": ""
      }
     },
     "fe6622e0546c4dc9b9eb88ed92005522": {
      "model_module": "@jupyter-widgets/controls",
      "model_module_version": "1.0.0",
      "model_name": "DescriptionStyleModel",
      "state": {
       "description_width": ""
      }
     },
     "fe731c70ea0a4feb95ee35d01c9457ec": {
      "model_module": "@jupyter-widgets/controls",
      "model_module_version": "1.0.0",
      "model_name": "LabelModel",
      "state": {
       "layout": "IPY_MODEL_6477032f42364d2ea74039820277df10",
       "style": "IPY_MODEL_6c9d7e563f564c97a4ca3ae4c549a0d5",
       "value": "TFL.GOV.UK/CP TFL TRAVEL CH"
      }
     },
     "fedfad61d5c34b688e0fb2420fc85018": {
      "model_module": "@jupyter-widgets/base",
      "model_module_version": "1.0.0",
      "model_name": "LayoutModel",
      "state": {
       "width": "200px"
      }
     },
     "ff9d6723f5534372ada476f53ffc4b2f": {
      "model_module": "@jupyter-widgets/controls",
      "model_module_version": "1.0.0",
      "model_name": "DescriptionStyleModel",
      "state": {
       "description_width": ""
      }
     }
    },
    "version_major": 2,
    "version_minor": 0
   }
  }
 },
 "nbformat": 4,
 "nbformat_minor": 2
}
